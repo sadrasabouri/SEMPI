{
 "cells": [
  {
   "cell_type": "code",
   "execution_count": 1,
   "metadata": {},
   "outputs": [],
   "source": [
    "import pandas as pd"
   ]
  },
  {
   "cell_type": "code",
   "execution_count": 14,
   "metadata": {},
   "outputs": [],
   "source": [
    "pd.set_option('display.max_rows', 500)"
   ]
  },
  {
   "cell_type": "code",
   "execution_count": 2,
   "metadata": {},
   "outputs": [
    {
     "data": {
      "text/html": [
       "<div>\n",
       "<style scoped>\n",
       "    .dataframe tbody tr th:only-of-type {\n",
       "        vertical-align: middle;\n",
       "    }\n",
       "\n",
       "    .dataframe tbody tr th {\n",
       "        vertical-align: top;\n",
       "    }\n",
       "\n",
       "    .dataframe thead th {\n",
       "        text-align: right;\n",
       "    }\n",
       "</style>\n",
       "<table border=\"1\" class=\"dataframe\">\n",
       "  <thead>\n",
       "    <tr style=\"text-align: right;\">\n",
       "      <th></th>\n",
       "      <th>frame</th>\n",
       "      <th>face_id</th>\n",
       "      <th>timestamp</th>\n",
       "      <th>confidence</th>\n",
       "      <th>success</th>\n",
       "      <th>gaze_0_x</th>\n",
       "      <th>gaze_0_y</th>\n",
       "      <th>gaze_0_z</th>\n",
       "      <th>gaze_1_x</th>\n",
       "      <th>gaze_1_y</th>\n",
       "      <th>...</th>\n",
       "      <th>AU17_c.1</th>\n",
       "      <th>AU20_c.1</th>\n",
       "      <th>AU23_c.1</th>\n",
       "      <th>AU25_c.1</th>\n",
       "      <th>AU26_c.1</th>\n",
       "      <th>AU28_c.1</th>\n",
       "      <th>AU45_c.1</th>\n",
       "      <th>engagement.1</th>\n",
       "      <th>main_folder</th>\n",
       "      <th>clip_folder</th>\n",
       "    </tr>\n",
       "  </thead>\n",
       "  <tbody>\n",
       "    <tr>\n",
       "      <th>0</th>\n",
       "      <td>1.0</td>\n",
       "      <td>0.0</td>\n",
       "      <td>0.0</td>\n",
       "      <td>0.88</td>\n",
       "      <td>1.0</td>\n",
       "      <td>0.073260</td>\n",
       "      <td>0.260208</td>\n",
       "      <td>-0.962769</td>\n",
       "      <td>-0.315714</td>\n",
       "      <td>0.301846</td>\n",
       "      <td>...</td>\n",
       "      <td>0.0</td>\n",
       "      <td>0.0</td>\n",
       "      <td>0.0</td>\n",
       "      <td>0.0</td>\n",
       "      <td>0.0</td>\n",
       "      <td>0.0</td>\n",
       "      <td>0.0</td>\n",
       "      <td>0.1</td>\n",
       "      <td>Ask_a_Therapist_How_to_Manage_Mental_Health_Du...</td>\n",
       "      <td>clip0001</td>\n",
       "    </tr>\n",
       "    <tr>\n",
       "      <th>1</th>\n",
       "      <td>2.0</td>\n",
       "      <td>0.0</td>\n",
       "      <td>0.0</td>\n",
       "      <td>0.88</td>\n",
       "      <td>1.0</td>\n",
       "      <td>-0.102404</td>\n",
       "      <td>0.260944</td>\n",
       "      <td>-0.959907</td>\n",
       "      <td>-0.379453</td>\n",
       "      <td>0.297635</td>\n",
       "      <td>...</td>\n",
       "      <td>0.0</td>\n",
       "      <td>0.0</td>\n",
       "      <td>0.0</td>\n",
       "      <td>0.0</td>\n",
       "      <td>0.0</td>\n",
       "      <td>0.0</td>\n",
       "      <td>0.0</td>\n",
       "      <td>0.1</td>\n",
       "      <td>Ask_a_Therapist_How_to_Manage_Mental_Health_Du...</td>\n",
       "      <td>clip0001</td>\n",
       "    </tr>\n",
       "    <tr>\n",
       "      <th>2</th>\n",
       "      <td>3.0</td>\n",
       "      <td>0.0</td>\n",
       "      <td>0.0</td>\n",
       "      <td>0.88</td>\n",
       "      <td>1.0</td>\n",
       "      <td>-0.165449</td>\n",
       "      <td>0.123663</td>\n",
       "      <td>-0.978435</td>\n",
       "      <td>-0.447650</td>\n",
       "      <td>0.199819</td>\n",
       "      <td>...</td>\n",
       "      <td>1.0</td>\n",
       "      <td>0.0</td>\n",
       "      <td>0.0</td>\n",
       "      <td>0.0</td>\n",
       "      <td>0.0</td>\n",
       "      <td>0.0</td>\n",
       "      <td>0.0</td>\n",
       "      <td>0.1</td>\n",
       "      <td>Ask_a_Therapist_How_to_Manage_Mental_Health_Du...</td>\n",
       "      <td>clip0001</td>\n",
       "    </tr>\n",
       "    <tr>\n",
       "      <th>3</th>\n",
       "      <td>4.0</td>\n",
       "      <td>0.0</td>\n",
       "      <td>0.0</td>\n",
       "      <td>0.88</td>\n",
       "      <td>1.0</td>\n",
       "      <td>-0.216775</td>\n",
       "      <td>0.111643</td>\n",
       "      <td>-0.969817</td>\n",
       "      <td>-0.423785</td>\n",
       "      <td>0.126889</td>\n",
       "      <td>...</td>\n",
       "      <td>0.0</td>\n",
       "      <td>0.0</td>\n",
       "      <td>0.0</td>\n",
       "      <td>0.0</td>\n",
       "      <td>0.0</td>\n",
       "      <td>0.0</td>\n",
       "      <td>0.0</td>\n",
       "      <td>0.1</td>\n",
       "      <td>Ask_a_Therapist_How_to_Manage_Mental_Health_Du...</td>\n",
       "      <td>clip0001</td>\n",
       "    </tr>\n",
       "    <tr>\n",
       "      <th>4</th>\n",
       "      <td>5.0</td>\n",
       "      <td>0.0</td>\n",
       "      <td>0.0</td>\n",
       "      <td>0.98</td>\n",
       "      <td>1.0</td>\n",
       "      <td>-0.193681</td>\n",
       "      <td>0.054473</td>\n",
       "      <td>-0.979551</td>\n",
       "      <td>-0.386988</td>\n",
       "      <td>0.091915</td>\n",
       "      <td>...</td>\n",
       "      <td>0.0</td>\n",
       "      <td>0.0</td>\n",
       "      <td>0.0</td>\n",
       "      <td>0.0</td>\n",
       "      <td>0.0</td>\n",
       "      <td>0.0</td>\n",
       "      <td>0.0</td>\n",
       "      <td>0.1</td>\n",
       "      <td>Ask_a_Therapist_How_to_Manage_Mental_Health_Du...</td>\n",
       "      <td>clip0001</td>\n",
       "    </tr>\n",
       "  </tbody>\n",
       "</table>\n",
       "<p>5 rows × 672 columns</p>\n",
       "</div>"
      ],
      "text/plain": [
       "   frame  face_id  timestamp  confidence  success  gaze_0_x  gaze_0_y  \\\n",
       "0    1.0      0.0        0.0        0.88      1.0  0.073260  0.260208   \n",
       "1    2.0      0.0        0.0        0.88      1.0 -0.102404  0.260944   \n",
       "2    3.0      0.0        0.0        0.88      1.0 -0.165449  0.123663   \n",
       "3    4.0      0.0        0.0        0.88      1.0 -0.216775  0.111643   \n",
       "4    5.0      0.0        0.0        0.98      1.0 -0.193681  0.054473   \n",
       "\n",
       "   gaze_0_z  gaze_1_x  gaze_1_y  ...  AU17_c.1  AU20_c.1  AU23_c.1  AU25_c.1  \\\n",
       "0 -0.962769 -0.315714  0.301846  ...       0.0       0.0       0.0       0.0   \n",
       "1 -0.959907 -0.379453  0.297635  ...       0.0       0.0       0.0       0.0   \n",
       "2 -0.978435 -0.447650  0.199819  ...       1.0       0.0       0.0       0.0   \n",
       "3 -0.969817 -0.423785  0.126889  ...       0.0       0.0       0.0       0.0   \n",
       "4 -0.979551 -0.386988  0.091915  ...       0.0       0.0       0.0       0.0   \n",
       "\n",
       "   AU26_c.1  AU28_c.1  AU45_c.1  engagement.1  \\\n",
       "0       0.0       0.0       0.0           0.1   \n",
       "1       0.0       0.0       0.0           0.1   \n",
       "2       0.0       0.0       0.0           0.1   \n",
       "3       0.0       0.0       0.0           0.1   \n",
       "4       0.0       0.0       0.0           0.1   \n",
       "\n",
       "                                         main_folder  clip_folder  \n",
       "0  Ask_a_Therapist_How_to_Manage_Mental_Health_Du...     clip0001  \n",
       "1  Ask_a_Therapist_How_to_Manage_Mental_Health_Du...     clip0001  \n",
       "2  Ask_a_Therapist_How_to_Manage_Mental_Health_Du...     clip0001  \n",
       "3  Ask_a_Therapist_How_to_Manage_Mental_Health_Du...     clip0001  \n",
       "4  Ask_a_Therapist_How_to_Manage_Mental_Health_Du...     clip0001  \n",
       "\n",
       "[5 rows x 672 columns]"
      ]
     },
     "execution_count": 2,
     "metadata": {},
     "output_type": "execute_result"
    }
   ],
   "source": [
    "df = pd.read_csv('all_merged_dataframes.csv')\n",
    "df.head()"
   ]
  },
  {
   "cell_type": "code",
   "execution_count": 27,
   "metadata": {},
   "outputs": [
    {
     "data": {
      "text/plain": [
       "np.float64(0.19522158154812505)"
      ]
     },
     "execution_count": 27,
     "metadata": {},
     "output_type": "execute_result"
    }
   ],
   "source": [
    "# correlation between engagement and engagement.1\n",
    "eng = df.groupby(['main_folder', 'clip_folder', 'engagement', 'engagement.1'])['engagement'].mean()\n",
    "eng1 = df.groupby(['main_folder', 'clip_folder', 'engagement', 'engagement.1'])['engagement.1'].mean()\n",
    "eng.corr(eng1)"
   ]
  },
  {
   "cell_type": "code",
   "execution_count": 28,
   "metadata": {},
   "outputs": [
    {
     "data": {
      "text/plain": [
       "np.float64(0.19534438067953078)"
      ]
     },
     "execution_count": 28,
     "metadata": {},
     "output_type": "execute_result"
    }
   ],
   "source": [
    "# correlation between engagement and engagement.1\n",
    "df['engagement'].corr(df['engagement.1'])"
   ]
  },
  {
   "cell_type": "code",
   "execution_count": 30,
   "metadata": {},
   "outputs": [],
   "source": [
    "from scipy.stats import pearsonr\n",
    "import pandas as pd\n",
    "\n",
    "def calculate_pvalues(df):\n",
    "    dfcols = pd.DataFrame(columns=df.columns)\n",
    "    pvalues = dfcols.transpose().join(dfcols, how='outer')\n",
    "    for r in df.columns:\n",
    "        for c in df.columns:\n",
    "            tmp = df[df[r].notnull() & df[c].notnull()]\n",
    "            pvalues[r][c] = round(pearsonr(tmp[r], tmp[c])[1], 4)\n",
    "    return pvalues"
   ]
  },
  {
   "cell_type": "code",
   "execution_count": 31,
   "metadata": {},
   "outputs": [
    {
     "name": "stderr",
     "output_type": "stream",
     "text": [
      "/var/folders/2g/23mmv72s3y59y5qyv84l1pgr0000gp/T/ipykernel_53384/1587024105.py:10: FutureWarning: ChainedAssignmentError: behaviour will change in pandas 3.0!\n",
      "You are setting values through chained assignment. Currently this works in certain cases, but when using Copy-on-Write (which will become the default behaviour in pandas 3.0) this will never work to update the original DataFrame or Series, because the intermediate object on which we are setting values will behave as a copy.\n",
      "A typical example is when you are setting values in a column of a DataFrame, like:\n",
      "\n",
      "df[\"col\"][row_indexer] = value\n",
      "\n",
      "Use `df.loc[row_indexer, \"col\"] = values` instead, to perform the assignment in a single step and ensure this keeps updating the original `df`.\n",
      "\n",
      "See the caveats in the documentation: https://pandas.pydata.org/pandas-docs/stable/user_guide/indexing.html#returning-a-view-versus-a-copy\n",
      "\n",
      "  pvalues[r][c] = round(pearsonr(tmp[r], tmp[c])[1], 4)\n"
     ]
    },
    {
     "data": {
      "text/html": [
       "<div>\n",
       "<style scoped>\n",
       "    .dataframe tbody tr th:only-of-type {\n",
       "        vertical-align: middle;\n",
       "    }\n",
       "\n",
       "    .dataframe tbody tr th {\n",
       "        vertical-align: top;\n",
       "    }\n",
       "\n",
       "    .dataframe thead th {\n",
       "        text-align: right;\n",
       "    }\n",
       "</style>\n",
       "<table border=\"1\" class=\"dataframe\">\n",
       "  <thead>\n",
       "    <tr style=\"text-align: right;\">\n",
       "      <th></th>\n",
       "      <th>engagement</th>\n",
       "      <th>engagement.1</th>\n",
       "    </tr>\n",
       "  </thead>\n",
       "  <tbody>\n",
       "    <tr>\n",
       "      <th>engagement</th>\n",
       "      <td>0.0</td>\n",
       "      <td>0.0</td>\n",
       "    </tr>\n",
       "    <tr>\n",
       "      <th>engagement.1</th>\n",
       "      <td>0.0</td>\n",
       "      <td>0.0</td>\n",
       "    </tr>\n",
       "  </tbody>\n",
       "</table>\n",
       "</div>"
      ],
      "text/plain": [
       "             engagement engagement.1\n",
       "engagement          0.0          0.0\n",
       "engagement.1        0.0          0.0"
      ]
     },
     "execution_count": 31,
     "metadata": {},
     "output_type": "execute_result"
    }
   ],
   "source": [
    "calculate_pvalues(df[['engagement','engagement.1']])"
   ]
  },
  {
   "cell_type": "code",
   "execution_count": null,
   "metadata": {},
   "outputs": [],
   "source": []
  }
 ],
 "metadata": {
  "kernelspec": {
   "display_name": "eng_env",
   "language": "python",
   "name": "python3"
  },
  "language_info": {
   "codemirror_mode": {
    "name": "ipython",
    "version": 3
   },
   "file_extension": ".py",
   "mimetype": "text/x-python",
   "name": "python",
   "nbconvert_exporter": "python",
   "pygments_lexer": "ipython3",
   "version": "3.9.21"
  }
 },
 "nbformat": 4,
 "nbformat_minor": 2
}
