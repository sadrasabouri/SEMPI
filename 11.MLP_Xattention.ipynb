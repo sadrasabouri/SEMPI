{
 "cells": [
  {
   "cell_type": "code",
   "execution_count": 2,
   "id": "4497e9c1",
   "metadata": {},
   "outputs": [],
   "source": [
    "import torch\n",
    "from torch.utils.data import DataLoader, random_split\n",
    "from torch import nn, optim\n",
    "from tqdm import tqdm\n",
    "from SEMPIDataLoader import ListenerSpeakerFeatureDataset\n",
    "import torch\n",
    "import torch.nn as nn\n",
    "import sys, os\n",
    "import numpy as np\n",
    "from types import SimpleNamespace\n"
   ]
  },
  {
   "cell_type": "code",
   "execution_count": 3,
   "id": "f1e1f601",
   "metadata": {},
   "outputs": [],
   "source": [
    "sys.path.append(os.path.abspath(\"code\"))\n",
    "from metr import compute_ccc_batched , compute_pearson_correlation_batched,compute_r2_score_batched"
   ]
  },
  {
   "cell_type": "code",
   "execution_count": 4,
   "id": "87d60eb9",
   "metadata": {},
   "outputs": [
    {
     "name": "stdout",
     "output_type": "stream",
     "text": [
      "Listener feature shape: torch.Size([1024, 64])\n",
      "Speaker feature shape: torch.Size([768, 64])\n"
     ]
    }
   ],
   "source": [
    "\n",
    "device = torch.device(\"cuda\" if torch.cuda.is_available() else \"cpu\")\n",
    "\n",
    "dataset = ListenerSpeakerFeatureDataset(\n",
    "    csv_path=\"AudioVideo_Feature_Path_v2.csv\",\n",
    "    frame_length=64,\n",
    "    root_dir=\"./\",\n",
    ")\n",
    "\n",
    "train_size = int(0.8 * len(dataset))\n",
    "val_size = len(dataset) - train_size\n",
    "train_dataset, val_dataset = random_split(dataset, [train_size, val_size])\n",
    "\n",
    "train_loader = DataLoader(train_dataset, batch_size=32, shuffle=True, drop_last=True)\n",
    "val_loader = DataLoader(val_dataset, batch_size=32, shuffle=False, drop_last=False)\n",
    "\n",
    "sample = dataset[3]\n",
    "speaker_feat, listener_feat,_  = sample[\"features\"]\n",
    "listener_dim, speaker_dim = listener_feat.shape[0], speaker_feat.shape[0]\n",
    "print(f\"Listener feature shape: {listener_feat.shape}\")\n",
    "print(f\"Speaker feature shape: {speaker_feat.shape}\")\n",
    "\n"
   ]
  },
  {
   "cell_type": "code",
   "execution_count": null,
   "id": "25a99833",
   "metadata": {},
   "outputs": [],
   "source": [
    "config = { 'activation_fn': 'Tanh',\n",
    "           'extra_dropout':0 ,\n",
    "             'hidden_size':128,\n",
    "             'dropout': 0.1,\n",
    "             'num_labels': 1}\n",
    "\n",
    "config = SimpleNamespace(**config)"
   ]
  },
  {
   "cell_type": "markdown",
   "id": "73edc92e",
   "metadata": {},
   "source": [
    "# MLP and Self-attention on MLP hidden features"
   ]
  },
  {
   "cell_type": "code",
   "execution_count": 5,
   "id": "7c330cbd",
   "metadata": {},
   "outputs": [],
   "source": [
    "\n",
    "class MLPUpToHidden(nn.Module):\n",
    "    def __init__(self, in_size, hidden_size, dropout, config):\n",
    "        super().__init__()\n",
    "        self.config = config\n",
    "        self.dropout = nn.Dropout(dropout)\n",
    "        self.fc1 = nn.Linear(in_size, hidden_size)\n",
    "        self.fc2 = nn.Linear(hidden_size, hidden_size)\n",
    "\n",
    "        self.activation_fn = {\n",
    "            \"relu\": nn.ReLU(),\n",
    "            \"leaky_relu\": nn.LeakyReLU(),\n",
    "            \"Tanh\": nn.Tanh()\n",
    "        }[config.activation_fn]\n",
    "\n",
    "    def forward(self, x):\n",
    "        x = self.dropout(self.fc1(x))\n",
    "        x = self.activation_fn(x)\n",
    "        x = self.dropout(self.fc2(x))\n",
    "        x = self.activation_fn(x)\n",
    "        return x  \n",
    "\n",
    "\n",
    "class CrossAttention(nn.Module):\n",
    "    def __init__(self, dim):\n",
    "        super().__init__()\n",
    "        self.attn = nn.MultiheadAttention(embed_dim=dim, num_heads=1, batch_first=True)\n",
    "\n",
    "    def forward(self, q, k):\n",
    "        # q, k: [B, D]\n",
    "        q = q.unsqueeze(1)  # [B, 1, D]\n",
    "        k = k.unsqueeze(1)  # [B, 1, D]\n",
    "        v = k  \n",
    "        # print(f\"q shape: {q.shape}\")\n",
    "        # print(f\"k shape: {k.shape}\")\n",
    "        # print(f\"v shape: {v.shape}\")\n",
    "        attn_out, _ = self.attn(q, k, v)  # [B, 1, D]\n",
    "        return attn_out.squeeze(1)  # [B, D]\n",
    "    \n",
    "        # q shape: torch.Size([32, 1, 128])\n",
    "        # k shape: torch.Size([32, 1, 128])\n",
    "        # v shape: torch.Size([32, 1, 128])\n",
    "\n",
    "class ListenerSpeakerFusion(nn.Module):\n",
    "    def __init__(self, config, listener_input_dim=329, listener_seq_len=50,\n",
    "                 speaker_input_dim=768,\n",
    "                 reduced_speaker_dim=32):\n",
    "        super().__init__()\n",
    "        self.config = config\n",
    "\n",
    "        self.listener_pool = nn.Sequential(\n",
    "            nn.Linear(listener_input_dim, 1),\n",
    "            nn.Flatten(start_dim=1)\n",
    "        )\n",
    "\n",
    "        self.speaker_cnn = nn.Sequential(\n",
    "            nn.Conv1d(speaker_input_dim, 64, kernel_size=5, padding=2),\n",
    "            nn.ReLU(),\n",
    "            nn.AdaptiveAvgPool1d(1),\n",
    "            nn.Flatten(),\n",
    "            nn.Linear(64, reduced_speaker_dim)\n",
    "        )\n",
    "\n",
    "        self.mlp_input_size = listener_seq_len + reduced_speaker_dim\n",
    "        self.mlp = MLPUpToHidden(\n",
    "            in_size=self.mlp_input_size,\n",
    "            hidden_size=config.hidden_size,\n",
    "            dropout=config.dropout,\n",
    "            config=config\n",
    "        )\n",
    "\n",
    "        self.cross_attention = CrossAttention(dim=config.hidden_size)\n",
    "        self.final_fc = nn.Linear(config.hidden_size, config.num_labels)\n",
    "\n",
    "\n",
    "\n",
    "    def forward(self, listener_feats, speaker_feats):\n",
    "\n",
    "        listener_x = self.listener_pool(listener_feats) \n",
    "        # print(f\"Listener x shape: {listener_x.shape}\") # [B, 1024]\n",
    "        speaker_y = self.speaker_cnn(speaker_feats)     \n",
    "        # print(\"speaker_y shape: \", speaker_y.shape) #[B, 32]\n",
    "        fused = torch.cat([listener_x, speaker_y], dim=1)  # [B, 1056]\n",
    "        # print(f\"Fused shape: {fused.shape}\")\n",
    "        mlp_features = self.mlp(fused)                     # [B, hidden_size] , hidden_size=128\n",
    "        # print(f\"MLP features shape: {mlp_features.shape}\")\n",
    "        attn_out = self.cross_attention(mlp_features, mlp_features)  # [B, hidden_size]\n",
    "        # print(f\"Attention output shape: {attn_out.shape}\") # [B, 128]\n",
    "        return self.final_fc(attn_out)  # [B, num_labels]\n",
    "\n"
   ]
  },
  {
   "cell_type": "markdown",
   "id": "34e8f7b6",
   "metadata": {},
   "source": [
    "## Experiment 1: No cross validation "
   ]
  },
  {
   "cell_type": "code",
   "execution_count": null,
   "id": "b11363e6",
   "metadata": {},
   "outputs": [
    {
     "data": {
      "text/plain": [
       "ListenerSpeakerFusion(\n",
       "  (listener_pool): Sequential(\n",
       "    (0): Linear(in_features=64, out_features=1, bias=True)\n",
       "    (1): Flatten(start_dim=1, end_dim=-1)\n",
       "  )\n",
       "  (speaker_cnn): Sequential(\n",
       "    (0): Conv1d(768, 64, kernel_size=(5,), stride=(1,), padding=(2,))\n",
       "    (1): ReLU()\n",
       "    (2): AdaptiveAvgPool1d(output_size=1)\n",
       "    (3): Flatten(start_dim=1, end_dim=-1)\n",
       "    (4): Linear(in_features=64, out_features=32, bias=True)\n",
       "  )\n",
       "  (mlp): MLPUpToHidden(\n",
       "    (dropout): Dropout(p=0.1, inplace=False)\n",
       "    (fc1): Linear(in_features=1056, out_features=128, bias=True)\n",
       "    (fc2): Linear(in_features=128, out_features=128, bias=True)\n",
       "    (activation_fn): Tanh()\n",
       "  )\n",
       "  (cross_attention): CrossAttention(\n",
       "    (attn): MultiheadAttention(\n",
       "      (out_proj): NonDynamicallyQuantizableLinear(in_features=128, out_features=128, bias=True)\n",
       "    )\n",
       "  )\n",
       "  (final_fc): Linear(in_features=128, out_features=1, bias=True)\n",
       ")"
      ]
     },
     "execution_count": 7,
     "metadata": {},
     "output_type": "execute_result"
    }
   ],
   "source": [
    "\n",
    "sample = dataset[0]\n",
    "speaker_feat, listener_feat ,_= sample[\"features\"]\n",
    "\n",
    "model = ListenerSpeakerFusion(config=config , listener_input_dim=listener_feat.shape[1], listener_seq_len=listener_feat.shape[0], speaker_input_dim=speaker_feat.shape[0],reduced_speaker_dim=32).to(device)\n",
    "model.train()\n"
   ]
  },
  {
   "cell_type": "code",
   "execution_count": null,
   "id": "60e55a98",
   "metadata": {},
   "outputs": [],
   "source": [
    "epochs = 20\n",
    "\n",
    "criterion = torch.nn.MSELoss()\n",
    "optimizer = torch.optim.Adam(model.parameters(), lr=1e-3)\n",
    "\n",
    "for epoch in range(epochs):\n",
    "    model.train()\n",
    "    total_loss = 0\n",
    "    for batch in train_loader:\n",
    "        speaker_feat, listener_feat,_ = batch[\"features\"]\n",
    "        engagement = batch[\"score\"]\n",
    "\n",
    "        speaker_feat = speaker_feat.to(device)\n",
    "        listener_feat = listener_feat.to(device)\n",
    "        engagement = engagement.to(device)\n",
    "        engagement = engagement.view(-1, 1)\n",
    " \n",
    " \n",
    "        optimizer.zero_grad()\n",
    "        output = model(listener_feat, speaker_feat)\n",
    "        loss = criterion(output, engagement)\n",
    "        # print(output)\n",
    "        # print(engagement)\n",
    "        loss.backward()\n",
    "        optimizer.step()\n",
    "\n",
    "        total_loss += loss.item()\n",
    "\n",
    "    print(f\"Epoch {epoch+1}/{epochs} - Loss: {total_loss / len(train_loader):.4f}\")\n",
    "    model.eval()\n",
    "    val_loss = 0\n",
    "    val_correct = 0\n",
    "    val_preds = []\n",
    "    val_targets = []\n",
    "\n",
    "    with torch.no_grad():\n",
    "        for batch in tqdm(val_loader, desc=f\"Epoch {epoch} [Val]\", leave=False):\n",
    "                speaker, listener,_ = batch[\"features\"]\n",
    "                target = batch[\"score\"].to(device)\n",
    "                target = target.view(-1, 1)\n",
    "                speaker = speaker.to(device)\n",
    "                listener = listener.to(device)\n",
    "\n",
    "                output = model(listener, speaker)\n",
    "                loss = criterion(output, target)\n",
    "\n",
    "                val_loss += loss.item() * target.size(0)\n",
    "                val_preds.append(output.cpu())\n",
    "                val_targets.append(target.cpu())\n",
    "                # print(compute_ccc_batched(output.cpu(), target.cpu()))\n",
    "\n",
    "    val_loss /= len(val_loader.dataset)\n",
    "    val_ccc = compute_ccc_batched(\n",
    "            np.concatenate(val_preds),\n",
    "            np.concatenate(val_targets)\n",
    "            \n",
    "        )\n",
    "    val_pcc = compute_pearson_correlation_batched(\n",
    "             np.concatenate(val_preds),\n",
    "            np.concatenate(val_targets)\n",
    "           \n",
    "        )\n",
    "    val_r2 = compute_r2_score_batched(\n",
    "         np.concatenate(val_targets),\n",
    "             np.concatenate(val_preds)\n",
    "            \n",
    "           \n",
    "        )\n",
    "    val_preds = torch.cat(val_preds).numpy()\n",
    "    val_targets = torch.cat(val_targets).numpy()\n",
    "      # if epoch == 5:\n",
    "        #     print(\"Val targets and preds:\")\n",
    "        #     print(val_targets , val_preds)\n",
    "        \n",
    "    print(f\"| Val Loss: {val_loss:.4f} | Val CCC: {val_ccc:.4f} | Val PCC: {val_pcc:.4f} | Val R2: {val_r2:.4f} |\")\n",
    "\n",
    "\n",
    "    "
   ]
  },
  {
   "cell_type": "markdown",
   "id": "02235f8b",
   "metadata": {},
   "source": [
    "## Experiment 2: Cross Validation "
   ]
  },
  {
   "cell_type": "code",
   "execution_count": 8,
   "id": "fc0ad688",
   "metadata": {},
   "outputs": [
    {
     "name": "stdout",
     "output_type": "stream",
     "text": [
      "\n",
      "--- Fold 1 / 5 ---\n",
      "Epoch 1/30 - Train Loss: 0.0186\n"
     ]
    },
    {
     "name": "stderr",
     "output_type": "stream",
     "text": [
      "                                                              \r"
     ]
    },
    {
     "name": "stdout",
     "output_type": "stream",
     "text": [
      "| Val Loss: 0.0192 | Val CCC: 0.0389 | Val PCC: 0.2100 | Val R2: 0.0090 |\n",
      "Epoch 2/30 - Train Loss: 0.0166\n"
     ]
    },
    {
     "name": "stderr",
     "output_type": "stream",
     "text": [
      "                                                              \r"
     ]
    },
    {
     "name": "stdout",
     "output_type": "stream",
     "text": [
      "| Val Loss: 0.0189 | Val CCC: 0.1331 | Val PCC: 0.2958 | Val R2: 0.0263 |\n",
      "Epoch 3/30 - Train Loss: 0.0153\n"
     ]
    },
    {
     "name": "stderr",
     "output_type": "stream",
     "text": [
      "                                                              \r"
     ]
    },
    {
     "name": "stdout",
     "output_type": "stream",
     "text": [
      "| Val Loss: 0.0206 | Val CCC: 0.2639 | Val PCC: 0.3082 | Val R2: -0.0654 |\n",
      "Epoch 4/30 - Train Loss: 0.0144\n"
     ]
    },
    {
     "name": "stderr",
     "output_type": "stream",
     "text": [
      "                                                              \r"
     ]
    },
    {
     "name": "stdout",
     "output_type": "stream",
     "text": [
      "| Val Loss: 0.0171 | Val CCC: 0.2489 | Val PCC: 0.3504 | Val R2: 0.1151 |\n",
      "Epoch 5/30 - Train Loss: 0.0133\n"
     ]
    },
    {
     "name": "stderr",
     "output_type": "stream",
     "text": [
      "                                                              \r"
     ]
    },
    {
     "name": "stdout",
     "output_type": "stream",
     "text": [
      "| Val Loss: 0.0169 | Val CCC: 0.1920 | Val PCC: 0.3781 | Val R2: 0.1267 |\n",
      "Epoch 6/30 - Train Loss: 0.0127\n"
     ]
    },
    {
     "name": "stderr",
     "output_type": "stream",
     "text": [
      "                                                              \r"
     ]
    },
    {
     "name": "stdout",
     "output_type": "stream",
     "text": [
      "| Val Loss: 0.0187 | Val CCC: 0.3519 | Val PCC: 0.3749 | Val R2: 0.0340 |\n",
      "Epoch 7/30 - Train Loss: 0.0122\n"
     ]
    },
    {
     "name": "stderr",
     "output_type": "stream",
     "text": [
      "                                                              \r"
     ]
    },
    {
     "name": "stdout",
     "output_type": "stream",
     "text": [
      "| Val Loss: 0.0174 | Val CCC: 0.2605 | Val PCC: 0.3448 | Val R2: 0.1023 |\n",
      "Epoch 8/30 - Train Loss: 0.0118\n"
     ]
    },
    {
     "name": "stderr",
     "output_type": "stream",
     "text": [
      "                                                              \r"
     ]
    },
    {
     "name": "stdout",
     "output_type": "stream",
     "text": [
      "| Val Loss: 0.0197 | Val CCC: 0.3115 | Val PCC: 0.3425 | Val R2: -0.0183 |\n",
      "Epoch 9/30 - Train Loss: 0.0117\n"
     ]
    },
    {
     "name": "stderr",
     "output_type": "stream",
     "text": [
      "                                                              \r"
     ]
    },
    {
     "name": "stdout",
     "output_type": "stream",
     "text": [
      "| Val Loss: 0.0184 | Val CCC: 0.2990 | Val PCC: 0.3429 | Val R2: 0.0508 |\n",
      "Epoch 10/30 - Train Loss: 0.0109\n"
     ]
    },
    {
     "name": "stderr",
     "output_type": "stream",
     "text": [
      "                                                               \r"
     ]
    },
    {
     "name": "stdout",
     "output_type": "stream",
     "text": [
      "| Val Loss: 0.0175 | Val CCC: 0.2856 | Val PCC: 0.3517 | Val R2: 0.0974 |\n",
      "Epoch 11/30 - Train Loss: 0.0107\n"
     ]
    },
    {
     "name": "stderr",
     "output_type": "stream",
     "text": [
      "                                                               \r"
     ]
    },
    {
     "name": "stdout",
     "output_type": "stream",
     "text": [
      "| Val Loss: 0.0188 | Val CCC: 0.2962 | Val PCC: 0.3496 | Val R2: 0.0300 |\n",
      "Epoch 12/30 - Train Loss: 0.0106\n"
     ]
    },
    {
     "name": "stderr",
     "output_type": "stream",
     "text": [
      "                                                               \r"
     ]
    },
    {
     "name": "stdout",
     "output_type": "stream",
     "text": [
      "| Val Loss: 0.0186 | Val CCC: 0.2913 | Val PCC: 0.3336 | Val R2: 0.0371 |\n",
      "Epoch 13/30 - Train Loss: 0.0101\n"
     ]
    },
    {
     "name": "stderr",
     "output_type": "stream",
     "text": [
      "                                                               \r"
     ]
    },
    {
     "name": "stdout",
     "output_type": "stream",
     "text": [
      "| Val Loss: 0.0192 | Val CCC: 0.3126 | Val PCC: 0.3402 | Val R2: 0.0099 |\n",
      "Epoch 14/30 - Train Loss: 0.0102\n"
     ]
    },
    {
     "name": "stderr",
     "output_type": "stream",
     "text": [
      "                                                               \r"
     ]
    },
    {
     "name": "stdout",
     "output_type": "stream",
     "text": [
      "| Val Loss: 0.0191 | Val CCC: 0.3144 | Val PCC: 0.3431 | Val R2: 0.0143 |\n",
      "Epoch 15/30 - Train Loss: 0.0098\n"
     ]
    },
    {
     "name": "stderr",
     "output_type": "stream",
     "text": [
      "                                                               \r"
     ]
    },
    {
     "name": "stdout",
     "output_type": "stream",
     "text": [
      "| Val Loss: 0.0202 | Val CCC: 0.2862 | Val PCC: 0.3206 | Val R2: -0.0414 |\n",
      "Epoch 16/30 - Train Loss: 0.0098\n"
     ]
    },
    {
     "name": "stderr",
     "output_type": "stream",
     "text": [
      "                                                               \r"
     ]
    },
    {
     "name": "stdout",
     "output_type": "stream",
     "text": [
      "| Val Loss: 0.0196 | Val CCC: 0.2848 | Val PCC: 0.3198 | Val R2: -0.0124 |\n",
      "Epoch 17/30 - Train Loss: 0.0098\n"
     ]
    },
    {
     "name": "stderr",
     "output_type": "stream",
     "text": [
      "                                                               \r"
     ]
    },
    {
     "name": "stdout",
     "output_type": "stream",
     "text": [
      "| Val Loss: 0.0183 | Val CCC: 0.2834 | Val PCC: 0.3358 | Val R2: 0.0559 |\n",
      "Epoch 18/30 - Train Loss: 0.0097\n"
     ]
    },
    {
     "name": "stderr",
     "output_type": "stream",
     "text": [
      "                                                               \r"
     ]
    },
    {
     "name": "stdout",
     "output_type": "stream",
     "text": [
      "| Val Loss: 0.0202 | Val CCC: 0.2965 | Val PCC: 0.3255 | Val R2: -0.0450 |\n",
      "Epoch 19/30 - Train Loss: 0.0098\n"
     ]
    },
    {
     "name": "stderr",
     "output_type": "stream",
     "text": [
      "                                                               \r"
     ]
    },
    {
     "name": "stdout",
     "output_type": "stream",
     "text": [
      "| Val Loss: 0.0181 | Val CCC: 0.2698 | Val PCC: 0.3262 | Val R2: 0.0652 |\n",
      "Epoch 20/30 - Train Loss: 0.0097\n"
     ]
    },
    {
     "name": "stderr",
     "output_type": "stream",
     "text": [
      "                                                               \r"
     ]
    },
    {
     "name": "stdout",
     "output_type": "stream",
     "text": [
      "| Val Loss: 0.0218 | Val CCC: 0.3030 | Val PCC: 0.3120 | Val R2: -0.1271 |\n",
      "Epoch 21/30 - Train Loss: 0.0093\n"
     ]
    },
    {
     "name": "stderr",
     "output_type": "stream",
     "text": [
      "                                                               \r"
     ]
    },
    {
     "name": "stdout",
     "output_type": "stream",
     "text": [
      "| Val Loss: 0.0209 | Val CCC: 0.3036 | Val PCC: 0.3240 | Val R2: -0.0784 |\n",
      "Epoch 22/30 - Train Loss: 0.0093\n"
     ]
    },
    {
     "name": "stderr",
     "output_type": "stream",
     "text": [
      "                                                               \r"
     ]
    },
    {
     "name": "stdout",
     "output_type": "stream",
     "text": [
      "| Val Loss: 0.0192 | Val CCC: 0.2785 | Val PCC: 0.3136 | Val R2: 0.0102 |\n",
      "Epoch 23/30 - Train Loss: 0.0092\n"
     ]
    },
    {
     "name": "stderr",
     "output_type": "stream",
     "text": [
      "                                                               \r"
     ]
    },
    {
     "name": "stdout",
     "output_type": "stream",
     "text": [
      "| Val Loss: 0.0191 | Val CCC: 0.2763 | Val PCC: 0.3130 | Val R2: 0.0152 |\n",
      "Epoch 24/30 - Train Loss: 0.0093\n"
     ]
    },
    {
     "name": "stderr",
     "output_type": "stream",
     "text": [
      "                                                               \r"
     ]
    },
    {
     "name": "stdout",
     "output_type": "stream",
     "text": [
      "| Val Loss: 0.0186 | Val CCC: 0.2738 | Val PCC: 0.3189 | Val R2: 0.0388 |\n",
      "Epoch 25/30 - Train Loss: 0.0091\n"
     ]
    },
    {
     "name": "stderr",
     "output_type": "stream",
     "text": [
      "                                                               \r"
     ]
    },
    {
     "name": "stdout",
     "output_type": "stream",
     "text": [
      "| Val Loss: 0.0205 | Val CCC: 0.2977 | Val PCC: 0.3154 | Val R2: -0.0592 |\n",
      "Epoch 26/30 - Train Loss: 0.0091\n"
     ]
    },
    {
     "name": "stderr",
     "output_type": "stream",
     "text": [
      "                                                               \r"
     ]
    },
    {
     "name": "stdout",
     "output_type": "stream",
     "text": [
      "| Val Loss: 0.0196 | Val CCC: 0.2923 | Val PCC: 0.3230 | Val R2: -0.0099 |\n",
      "Epoch 27/30 - Train Loss: 0.0091\n"
     ]
    },
    {
     "name": "stderr",
     "output_type": "stream",
     "text": [
      "                                                               \r"
     ]
    },
    {
     "name": "stdout",
     "output_type": "stream",
     "text": [
      "| Val Loss: 0.0198 | Val CCC: 0.2949 | Val PCC: 0.3197 | Val R2: -0.0222 |\n",
      "Epoch 28/30 - Train Loss: 0.0091\n"
     ]
    },
    {
     "name": "stderr",
     "output_type": "stream",
     "text": [
      "                                                               \r"
     ]
    },
    {
     "name": "stdout",
     "output_type": "stream",
     "text": [
      "| Val Loss: 0.0210 | Val CCC: 0.3020 | Val PCC: 0.3154 | Val R2: -0.0838 |\n",
      "Epoch 29/30 - Train Loss: 0.0090\n"
     ]
    },
    {
     "name": "stderr",
     "output_type": "stream",
     "text": [
      "                                                               \r"
     ]
    },
    {
     "name": "stdout",
     "output_type": "stream",
     "text": [
      "| Val Loss: 0.0204 | Val CCC: 0.2839 | Val PCC: 0.3068 | Val R2: -0.0557 |\n",
      "Epoch 30/30 - Train Loss: 0.0092\n"
     ]
    },
    {
     "name": "stderr",
     "output_type": "stream",
     "text": [
      "                                                               \r"
     ]
    },
    {
     "name": "stdout",
     "output_type": "stream",
     "text": [
      "| Val Loss: 0.0200 | Val CCC: 0.2879 | Val PCC: 0.3191 | Val R2: -0.0324 |\n",
      "\n",
      "--- Fold 2 / 5 ---\n",
      "Epoch 1/30 - Train Loss: 0.0187\n"
     ]
    },
    {
     "name": "stderr",
     "output_type": "stream",
     "text": [
      "                                                              \r"
     ]
    },
    {
     "name": "stdout",
     "output_type": "stream",
     "text": [
      "| Val Loss: 0.0161 | Val CCC: 0.0815 | Val PCC: 0.2598 | Val R2: 0.0473 |\n",
      "Epoch 2/30 - Train Loss: 0.0173\n"
     ]
    },
    {
     "name": "stderr",
     "output_type": "stream",
     "text": [
      "                                                              \r"
     ]
    },
    {
     "name": "stdout",
     "output_type": "stream",
     "text": [
      "| Val Loss: 0.0168 | Val CCC: 0.1326 | Val PCC: 0.3485 | Val R2: 0.0086 |\n",
      "Epoch 3/30 - Train Loss: 0.0162\n"
     ]
    },
    {
     "name": "stderr",
     "output_type": "stream",
     "text": [
      "                                                              \r"
     ]
    },
    {
     "name": "stdout",
     "output_type": "stream",
     "text": [
      "| Val Loss: 0.0151 | Val CCC: 0.2888 | Val PCC: 0.3671 | Val R2: 0.1089 |\n",
      "Epoch 4/30 - Train Loss: 0.0144\n"
     ]
    },
    {
     "name": "stderr",
     "output_type": "stream",
     "text": [
      "                                                              \r"
     ]
    },
    {
     "name": "stdout",
     "output_type": "stream",
     "text": [
      "| Val Loss: 0.0154 | Val CCC: 0.2481 | Val PCC: 0.3644 | Val R2: 0.0887 |\n",
      "Epoch 5/30 - Train Loss: 0.0139\n"
     ]
    },
    {
     "name": "stderr",
     "output_type": "stream",
     "text": [
      "                                                              \r"
     ]
    },
    {
     "name": "stdout",
     "output_type": "stream",
     "text": [
      "| Val Loss: 0.0148 | Val CCC: 0.2586 | Val PCC: 0.3634 | Val R2: 0.1284 |\n",
      "Epoch 6/30 - Train Loss: 0.0134\n"
     ]
    },
    {
     "name": "stderr",
     "output_type": "stream",
     "text": [
      "                                                              \r"
     ]
    },
    {
     "name": "stdout",
     "output_type": "stream",
     "text": [
      "| Val Loss: 0.0148 | Val CCC: 0.2709 | Val PCC: 0.3661 | Val R2: 0.1238 |\n",
      "Epoch 7/30 - Train Loss: 0.0123\n"
     ]
    },
    {
     "name": "stderr",
     "output_type": "stream",
     "text": [
      "                                                              \r"
     ]
    },
    {
     "name": "stdout",
     "output_type": "stream",
     "text": [
      "| Val Loss: 0.0155 | Val CCC: 0.2816 | Val PCC: 0.3491 | Val R2: 0.0837 |\n",
      "Epoch 8/30 - Train Loss: 0.0116\n"
     ]
    },
    {
     "name": "stderr",
     "output_type": "stream",
     "text": [
      "                                                              \r"
     ]
    },
    {
     "name": "stdout",
     "output_type": "stream",
     "text": [
      "| Val Loss: 0.0158 | Val CCC: 0.3309 | Val PCC: 0.3721 | Val R2: 0.0700 |\n",
      "Epoch 9/30 - Train Loss: 0.0117\n"
     ]
    },
    {
     "name": "stderr",
     "output_type": "stream",
     "text": [
      "                                                              \r"
     ]
    },
    {
     "name": "stdout",
     "output_type": "stream",
     "text": [
      "| Val Loss: 0.0148 | Val CCC: 0.3036 | Val PCC: 0.3803 | Val R2: 0.1244 |\n",
      "Epoch 10/30 - Train Loss: 0.0111\n"
     ]
    },
    {
     "name": "stderr",
     "output_type": "stream",
     "text": [
      "                                                               \r"
     ]
    },
    {
     "name": "stdout",
     "output_type": "stream",
     "text": [
      "| Val Loss: 0.0179 | Val CCC: 0.3504 | Val PCC: 0.3651 | Val R2: -0.0565 |\n",
      "Epoch 11/30 - Train Loss: 0.0111\n"
     ]
    },
    {
     "name": "stderr",
     "output_type": "stream",
     "text": [
      "                                                               \r"
     ]
    },
    {
     "name": "stdout",
     "output_type": "stream",
     "text": [
      "| Val Loss: 0.0165 | Val CCC: 0.3322 | Val PCC: 0.3579 | Val R2: 0.0266 |\n",
      "Epoch 12/30 - Train Loss: 0.0108\n"
     ]
    },
    {
     "name": "stderr",
     "output_type": "stream",
     "text": [
      "                                                               \r"
     ]
    },
    {
     "name": "stdout",
     "output_type": "stream",
     "text": [
      "| Val Loss: 0.0165 | Val CCC: 0.2793 | Val PCC: 0.3520 | Val R2: 0.0285 |\n",
      "Epoch 13/30 - Train Loss: 0.0105\n"
     ]
    },
    {
     "name": "stderr",
     "output_type": "stream",
     "text": [
      "                                                               \r"
     ]
    },
    {
     "name": "stdout",
     "output_type": "stream",
     "text": [
      "| Val Loss: 0.0192 | Val CCC: 0.3222 | Val PCC: 0.3341 | Val R2: -0.1364 |\n",
      "Epoch 14/30 - Train Loss: 0.0104\n"
     ]
    },
    {
     "name": "stderr",
     "output_type": "stream",
     "text": [
      "                                                               \r"
     ]
    },
    {
     "name": "stdout",
     "output_type": "stream",
     "text": [
      "| Val Loss: 0.0174 | Val CCC: 0.3259 | Val PCC: 0.3482 | Val R2: -0.0259 |\n",
      "Epoch 15/30 - Train Loss: 0.0102\n"
     ]
    },
    {
     "name": "stderr",
     "output_type": "stream",
     "text": [
      "                                                               \r"
     ]
    },
    {
     "name": "stdout",
     "output_type": "stream",
     "text": [
      "| Val Loss: 0.0183 | Val CCC: 0.3061 | Val PCC: 0.3240 | Val R2: -0.0776 |\n",
      "Epoch 16/30 - Train Loss: 0.0103\n"
     ]
    },
    {
     "name": "stderr",
     "output_type": "stream",
     "text": [
      "                                                               \r"
     ]
    },
    {
     "name": "stdout",
     "output_type": "stream",
     "text": [
      "| Val Loss: 0.0157 | Val CCC: 0.2780 | Val PCC: 0.3377 | Val R2: 0.0755 |\n",
      "Epoch 17/30 - Train Loss: 0.0101\n"
     ]
    },
    {
     "name": "stderr",
     "output_type": "stream",
     "text": [
      "                                                               \r"
     ]
    },
    {
     "name": "stdout",
     "output_type": "stream",
     "text": [
      "| Val Loss: 0.0168 | Val CCC: 0.3117 | Val PCC: 0.3385 | Val R2: 0.0070 |\n",
      "Epoch 18/30 - Train Loss: 0.0101\n"
     ]
    },
    {
     "name": "stderr",
     "output_type": "stream",
     "text": [
      "                                                               \r"
     ]
    },
    {
     "name": "stdout",
     "output_type": "stream",
     "text": [
      "| Val Loss: 0.0159 | Val CCC: 0.2865 | Val PCC: 0.3492 | Val R2: 0.0599 |\n",
      "Epoch 19/30 - Train Loss: 0.0102\n"
     ]
    },
    {
     "name": "stderr",
     "output_type": "stream",
     "text": [
      "                                                               \r"
     ]
    },
    {
     "name": "stdout",
     "output_type": "stream",
     "text": [
      "| Val Loss: 0.0162 | Val CCC: 0.2913 | Val PCC: 0.3330 | Val R2: 0.0451 |\n",
      "Epoch 20/30 - Train Loss: 0.0099\n"
     ]
    },
    {
     "name": "stderr",
     "output_type": "stream",
     "text": [
      "                                                               \r"
     ]
    },
    {
     "name": "stdout",
     "output_type": "stream",
     "text": [
      "| Val Loss: 0.0168 | Val CCC: 0.3186 | Val PCC: 0.3432 | Val R2: 0.0055 |\n",
      "Epoch 21/30 - Train Loss: 0.0101\n"
     ]
    },
    {
     "name": "stderr",
     "output_type": "stream",
     "text": [
      "                                                               \r"
     ]
    },
    {
     "name": "stdout",
     "output_type": "stream",
     "text": [
      "| Val Loss: 0.0181 | Val CCC: 0.3243 | Val PCC: 0.3384 | Val R2: -0.0678 |\n",
      "Epoch 22/30 - Train Loss: 0.0097\n"
     ]
    },
    {
     "name": "stderr",
     "output_type": "stream",
     "text": [
      "                                                               \r"
     ]
    },
    {
     "name": "stdout",
     "output_type": "stream",
     "text": [
      "| Val Loss: 0.0164 | Val CCC: 0.2872 | Val PCC: 0.3273 | Val R2: 0.0340 |\n",
      "Epoch 23/30 - Train Loss: 0.0099\n"
     ]
    },
    {
     "name": "stderr",
     "output_type": "stream",
     "text": [
      "                                                               \r"
     ]
    },
    {
     "name": "stdout",
     "output_type": "stream",
     "text": [
      "| Val Loss: 0.0164 | Val CCC: 0.2805 | Val PCC: 0.3204 | Val R2: 0.0300 |\n",
      "Epoch 24/30 - Train Loss: 0.0099\n"
     ]
    },
    {
     "name": "stderr",
     "output_type": "stream",
     "text": [
      "                                                               \r"
     ]
    },
    {
     "name": "stdout",
     "output_type": "stream",
     "text": [
      "| Val Loss: 0.0191 | Val CCC: 0.3023 | Val PCC: 0.3117 | Val R2: -0.1264 |\n",
      "Epoch 25/30 - Train Loss: 0.0101\n"
     ]
    },
    {
     "name": "stderr",
     "output_type": "stream",
     "text": [
      "                                                               \r"
     ]
    },
    {
     "name": "stdout",
     "output_type": "stream",
     "text": [
      "| Val Loss: 0.0181 | Val CCC: 0.3145 | Val PCC: 0.3316 | Val R2: -0.0712 |\n",
      "Epoch 26/30 - Train Loss: 0.0101\n"
     ]
    },
    {
     "name": "stderr",
     "output_type": "stream",
     "text": [
      "                                                               \r"
     ]
    },
    {
     "name": "stdout",
     "output_type": "stream",
     "text": [
      "| Val Loss: 0.0192 | Val CCC: 0.3125 | Val PCC: 0.3289 | Val R2: -0.1334 |\n",
      "Epoch 27/30 - Train Loss: 0.0095\n"
     ]
    },
    {
     "name": "stderr",
     "output_type": "stream",
     "text": [
      "                                                               \r"
     ]
    },
    {
     "name": "stdout",
     "output_type": "stream",
     "text": [
      "| Val Loss: 0.0167 | Val CCC: 0.2882 | Val PCC: 0.3211 | Val R2: 0.0119 |\n",
      "Epoch 28/30 - Train Loss: 0.0097\n"
     ]
    },
    {
     "name": "stderr",
     "output_type": "stream",
     "text": [
      "                                                               \r"
     ]
    },
    {
     "name": "stdout",
     "output_type": "stream",
     "text": [
      "| Val Loss: 0.0198 | Val CCC: 0.2913 | Val PCC: 0.3167 | Val R2: -0.1698 |\n",
      "Epoch 29/30 - Train Loss: 0.0094\n"
     ]
    },
    {
     "name": "stderr",
     "output_type": "stream",
     "text": [
      "                                                               \r"
     ]
    },
    {
     "name": "stdout",
     "output_type": "stream",
     "text": [
      "| Val Loss: 0.0172 | Val CCC: 0.2880 | Val PCC: 0.3169 | Val R2: -0.0156 |\n",
      "Epoch 30/30 - Train Loss: 0.0093\n"
     ]
    },
    {
     "name": "stderr",
     "output_type": "stream",
     "text": [
      "                                                               \r"
     ]
    },
    {
     "name": "stdout",
     "output_type": "stream",
     "text": [
      "| Val Loss: 0.0183 | Val CCC: 0.3025 | Val PCC: 0.3275 | Val R2: -0.0796 |\n",
      "\n",
      "--- Fold 3 / 5 ---\n",
      "Epoch 1/30 - Train Loss: 0.0184\n"
     ]
    },
    {
     "name": "stderr",
     "output_type": "stream",
     "text": [
      "                                                              \r"
     ]
    },
    {
     "name": "stdout",
     "output_type": "stream",
     "text": [
      "| Val Loss: 0.0186 | Val CCC: 0.1164 | Val PCC: 0.2395 | Val R2: 0.0544 |\n",
      "Epoch 2/30 - Train Loss: 0.0166\n"
     ]
    },
    {
     "name": "stderr",
     "output_type": "stream",
     "text": [
      "                                                              \r"
     ]
    },
    {
     "name": "stdout",
     "output_type": "stream",
     "text": [
      "| Val Loss: 0.0178 | Val CCC: 0.2020 | Val PCC: 0.3106 | Val R2: 0.0930 |\n",
      "Epoch 3/30 - Train Loss: 0.0160\n"
     ]
    },
    {
     "name": "stderr",
     "output_type": "stream",
     "text": [
      "                                                              \r"
     ]
    },
    {
     "name": "stdout",
     "output_type": "stream",
     "text": [
      "| Val Loss: 0.0179 | Val CCC: 0.1353 | Val PCC: 0.3170 | Val R2: 0.0913 |\n",
      "Epoch 4/30 - Train Loss: 0.0144\n"
     ]
    },
    {
     "name": "stderr",
     "output_type": "stream",
     "text": [
      "                                                              \r"
     ]
    },
    {
     "name": "stdout",
     "output_type": "stream",
     "text": [
      "| Val Loss: 0.0179 | Val CCC: 0.1572 | Val PCC: 0.3003 | Val R2: 0.0887 |\n",
      "Epoch 5/30 - Train Loss: 0.0138\n"
     ]
    },
    {
     "name": "stderr",
     "output_type": "stream",
     "text": [
      "                                                              \r"
     ]
    },
    {
     "name": "stdout",
     "output_type": "stream",
     "text": [
      "| Val Loss: 0.0190 | Val CCC: 0.2892 | Val PCC: 0.3301 | Val R2: 0.0354 |\n",
      "Epoch 6/30 - Train Loss: 0.0128\n"
     ]
    },
    {
     "name": "stderr",
     "output_type": "stream",
     "text": [
      "                                                              \r"
     ]
    },
    {
     "name": "stdout",
     "output_type": "stream",
     "text": [
      "| Val Loss: 0.0197 | Val CCC: 0.3030 | Val PCC: 0.3340 | Val R2: -0.0003 |\n",
      "Epoch 7/30 - Train Loss: 0.0119\n"
     ]
    },
    {
     "name": "stderr",
     "output_type": "stream",
     "text": [
      "                                                              \r"
     ]
    },
    {
     "name": "stdout",
     "output_type": "stream",
     "text": [
      "| Val Loss: 0.0176 | Val CCC: 0.1770 | Val PCC: 0.3300 | Val R2: 0.1031 |\n",
      "Epoch 8/30 - Train Loss: 0.0120\n"
     ]
    },
    {
     "name": "stderr",
     "output_type": "stream",
     "text": [
      "                                                              \r"
     ]
    },
    {
     "name": "stdout",
     "output_type": "stream",
     "text": [
      "| Val Loss: 0.0189 | Val CCC: 0.2599 | Val PCC: 0.3094 | Val R2: 0.0389 |\n",
      "Epoch 9/30 - Train Loss: 0.0115\n"
     ]
    },
    {
     "name": "stderr",
     "output_type": "stream",
     "text": [
      "                                                              \r"
     ]
    },
    {
     "name": "stdout",
     "output_type": "stream",
     "text": [
      "| Val Loss: 0.0201 | Val CCC: 0.2924 | Val PCC: 0.3179 | Val R2: -0.0215 |\n",
      "Epoch 10/30 - Train Loss: 0.0110\n"
     ]
    },
    {
     "name": "stderr",
     "output_type": "stream",
     "text": [
      "                                                               \r"
     ]
    },
    {
     "name": "stdout",
     "output_type": "stream",
     "text": [
      "| Val Loss: 0.0204 | Val CCC: 0.2942 | Val PCC: 0.3194 | Val R2: -0.0368 |\n",
      "Epoch 11/30 - Train Loss: 0.0105\n"
     ]
    },
    {
     "name": "stderr",
     "output_type": "stream",
     "text": [
      "                                                               \r"
     ]
    },
    {
     "name": "stdout",
     "output_type": "stream",
     "text": [
      "| Val Loss: 0.0182 | Val CCC: 0.2226 | Val PCC: 0.3021 | Val R2: 0.0724 |\n",
      "Epoch 12/30 - Train Loss: 0.0106\n"
     ]
    },
    {
     "name": "stderr",
     "output_type": "stream",
     "text": [
      "                                                               \r"
     ]
    },
    {
     "name": "stdout",
     "output_type": "stream",
     "text": [
      "| Val Loss: 0.0206 | Val CCC: 0.2828 | Val PCC: 0.3160 | Val R2: -0.0486 |\n",
      "Epoch 13/30 - Train Loss: 0.0102\n"
     ]
    },
    {
     "name": "stderr",
     "output_type": "stream",
     "text": [
      "                                                               \r"
     ]
    },
    {
     "name": "stdout",
     "output_type": "stream",
     "text": [
      "| Val Loss: 0.0198 | Val CCC: 0.2334 | Val PCC: 0.2799 | Val R2: -0.0096 |\n",
      "Epoch 14/30 - Train Loss: 0.0099\n"
     ]
    },
    {
     "name": "stderr",
     "output_type": "stream",
     "text": [
      "                                                               \r"
     ]
    },
    {
     "name": "stdout",
     "output_type": "stream",
     "text": [
      "| Val Loss: 0.0189 | Val CCC: 0.2355 | Val PCC: 0.2929 | Val R2: 0.0375 |\n",
      "Epoch 15/30 - Train Loss: 0.0099\n"
     ]
    },
    {
     "name": "stderr",
     "output_type": "stream",
     "text": [
      "                                                               \r"
     ]
    },
    {
     "name": "stdout",
     "output_type": "stream",
     "text": [
      "| Val Loss: 0.0216 | Val CCC: 0.2835 | Val PCC: 0.2985 | Val R2: -0.0966 |\n",
      "Epoch 16/30 - Train Loss: 0.0102\n"
     ]
    },
    {
     "name": "stderr",
     "output_type": "stream",
     "text": [
      "                                                               \r"
     ]
    },
    {
     "name": "stdout",
     "output_type": "stream",
     "text": [
      "| Val Loss: 0.0226 | Val CCC: 0.2697 | Val PCC: 0.2812 | Val R2: -0.1513 |\n",
      "Epoch 17/30 - Train Loss: 0.0100\n"
     ]
    },
    {
     "name": "stderr",
     "output_type": "stream",
     "text": [
      "                                                               \r"
     ]
    },
    {
     "name": "stdout",
     "output_type": "stream",
     "text": [
      "| Val Loss: 0.0186 | Val CCC: 0.2099 | Val PCC: 0.2841 | Val R2: 0.0550 |\n",
      "Epoch 18/30 - Train Loss: 0.0097\n"
     ]
    },
    {
     "name": "stderr",
     "output_type": "stream",
     "text": [
      "                                                               \r"
     ]
    },
    {
     "name": "stdout",
     "output_type": "stream",
     "text": [
      "| Val Loss: 0.0241 | Val CCC: 0.2891 | Val PCC: 0.2953 | Val R2: -0.2254 |\n",
      "Epoch 19/30 - Train Loss: 0.0095\n"
     ]
    },
    {
     "name": "stderr",
     "output_type": "stream",
     "text": [
      "                                                               \r"
     ]
    },
    {
     "name": "stdout",
     "output_type": "stream",
     "text": [
      "| Val Loss: 0.0210 | Val CCC: 0.2718 | Val PCC: 0.2915 | Val R2: -0.0706 |\n",
      "Epoch 20/30 - Train Loss: 0.0094\n"
     ]
    },
    {
     "name": "stderr",
     "output_type": "stream",
     "text": [
      "                                                               \r"
     ]
    },
    {
     "name": "stdout",
     "output_type": "stream",
     "text": [
      "| Val Loss: 0.0225 | Val CCC: 0.2831 | Val PCC: 0.2960 | Val R2: -0.1461 |\n",
      "Epoch 21/30 - Train Loss: 0.0093\n"
     ]
    },
    {
     "name": "stderr",
     "output_type": "stream",
     "text": [
      "                                                               \r"
     ]
    },
    {
     "name": "stdout",
     "output_type": "stream",
     "text": [
      "| Val Loss: 0.0211 | Val CCC: 0.2708 | Val PCC: 0.2906 | Val R2: -0.0736 |\n",
      "Epoch 22/30 - Train Loss: 0.0092\n"
     ]
    },
    {
     "name": "stderr",
     "output_type": "stream",
     "text": [
      "                                                               \r"
     ]
    },
    {
     "name": "stdout",
     "output_type": "stream",
     "text": [
      "| Val Loss: 0.0208 | Val CCC: 0.2571 | Val PCC: 0.2818 | Val R2: -0.0558 |\n",
      "Epoch 23/30 - Train Loss: 0.0092\n"
     ]
    },
    {
     "name": "stderr",
     "output_type": "stream",
     "text": [
      "                                                               \r"
     ]
    },
    {
     "name": "stdout",
     "output_type": "stream",
     "text": [
      "| Val Loss: 0.0206 | Val CCC: 0.2217 | Val PCC: 0.2583 | Val R2: -0.0456 |\n",
      "Epoch 24/30 - Train Loss: 0.0091\n"
     ]
    },
    {
     "name": "stderr",
     "output_type": "stream",
     "text": [
      "                                                               \r"
     ]
    },
    {
     "name": "stdout",
     "output_type": "stream",
     "text": [
      "| Val Loss: 0.0205 | Val CCC: 0.2724 | Val PCC: 0.2970 | Val R2: -0.0409 |\n",
      "Epoch 25/30 - Train Loss: 0.0095\n"
     ]
    },
    {
     "name": "stderr",
     "output_type": "stream",
     "text": [
      "                                                               \r"
     ]
    },
    {
     "name": "stdout",
     "output_type": "stream",
     "text": [
      "| Val Loss: 0.0222 | Val CCC: 0.2575 | Val PCC: 0.2728 | Val R2: -0.1277 |\n",
      "Epoch 26/30 - Train Loss: 0.0092\n"
     ]
    },
    {
     "name": "stderr",
     "output_type": "stream",
     "text": [
      "                                                               \r"
     ]
    },
    {
     "name": "stdout",
     "output_type": "stream",
     "text": [
      "| Val Loss: 0.0239 | Val CCC: 0.2938 | Val PCC: 0.3009 | Val R2: -0.2142 |\n",
      "Epoch 27/30 - Train Loss: 0.0091\n"
     ]
    },
    {
     "name": "stderr",
     "output_type": "stream",
     "text": [
      "                                                               \r"
     ]
    },
    {
     "name": "stdout",
     "output_type": "stream",
     "text": [
      "| Val Loss: 0.0229 | Val CCC: 0.2734 | Val PCC: 0.2822 | Val R2: -0.1665 |\n",
      "Epoch 28/30 - Train Loss: 0.0093\n"
     ]
    },
    {
     "name": "stderr",
     "output_type": "stream",
     "text": [
      "                                                               \r"
     ]
    },
    {
     "name": "stdout",
     "output_type": "stream",
     "text": [
      "| Val Loss: 0.0197 | Val CCC: 0.2525 | Val PCC: 0.2923 | Val R2: -0.0009 |\n",
      "Epoch 29/30 - Train Loss: 0.0098\n"
     ]
    },
    {
     "name": "stderr",
     "output_type": "stream",
     "text": [
      "                                                               \r"
     ]
    },
    {
     "name": "stdout",
     "output_type": "stream",
     "text": [
      "| Val Loss: 0.0202 | Val CCC: 0.2604 | Val PCC: 0.2900 | Val R2: -0.0286 |\n",
      "Epoch 30/30 - Train Loss: 0.0093\n"
     ]
    },
    {
     "name": "stderr",
     "output_type": "stream",
     "text": [
      "                                                               \r"
     ]
    },
    {
     "name": "stdout",
     "output_type": "stream",
     "text": [
      "| Val Loss: 0.0227 | Val CCC: 0.2697 | Val PCC: 0.2823 | Val R2: -0.1548 |\n",
      "\n",
      "--- Fold 4 / 5 ---\n",
      "Epoch 1/30 - Train Loss: 0.0188\n"
     ]
    },
    {
     "name": "stderr",
     "output_type": "stream",
     "text": [
      "                                                              \r"
     ]
    },
    {
     "name": "stdout",
     "output_type": "stream",
     "text": [
      "| Val Loss: 0.0182 | Val CCC: 0.1316 | Val PCC: 0.2254 | Val R2: 0.0342 |\n",
      "Epoch 2/30 - Train Loss: 0.0179\n"
     ]
    },
    {
     "name": "stderr",
     "output_type": "stream",
     "text": [
      "                                                              \r"
     ]
    },
    {
     "name": "stdout",
     "output_type": "stream",
     "text": [
      "| Val Loss: 0.0185 | Val CCC: 0.2446 | Val PCC: 0.3350 | Val R2: 0.0172 |\n",
      "Epoch 3/30 - Train Loss: 0.0163\n"
     ]
    },
    {
     "name": "stderr",
     "output_type": "stream",
     "text": [
      "                                                              \r"
     ]
    },
    {
     "name": "stdout",
     "output_type": "stream",
     "text": [
      "| Val Loss: 0.0181 | Val CCC: 0.2242 | Val PCC: 0.3657 | Val R2: 0.0396 |\n",
      "Epoch 4/30 - Train Loss: 0.0153\n"
     ]
    },
    {
     "name": "stderr",
     "output_type": "stream",
     "text": [
      "                                                              \r"
     ]
    },
    {
     "name": "stdout",
     "output_type": "stream",
     "text": [
      "| Val Loss: 0.0164 | Val CCC: 0.2410 | Val PCC: 0.3868 | Val R2: 0.1311 |\n",
      "Epoch 5/30 - Train Loss: 0.0143\n"
     ]
    },
    {
     "name": "stderr",
     "output_type": "stream",
     "text": [
      "                                                              \r"
     ]
    },
    {
     "name": "stdout",
     "output_type": "stream",
     "text": [
      "| Val Loss: 0.0168 | Val CCC: 0.2989 | Val PCC: 0.4002 | Val R2: 0.1086 |\n",
      "Epoch 6/30 - Train Loss: 0.0132\n"
     ]
    },
    {
     "name": "stderr",
     "output_type": "stream",
     "text": [
      "                                                              \r"
     ]
    },
    {
     "name": "stdout",
     "output_type": "stream",
     "text": [
      "| Val Loss: 0.0180 | Val CCC: 0.3114 | Val PCC: 0.3885 | Val R2: 0.0465 |\n",
      "Epoch 7/30 - Train Loss: 0.0124\n"
     ]
    },
    {
     "name": "stderr",
     "output_type": "stream",
     "text": [
      "                                                              \r"
     ]
    },
    {
     "name": "stdout",
     "output_type": "stream",
     "text": [
      "| Val Loss: 0.0164 | Val CCC: 0.3199 | Val PCC: 0.3915 | Val R2: 0.1278 |\n",
      "Epoch 8/30 - Train Loss: 0.0119\n"
     ]
    },
    {
     "name": "stderr",
     "output_type": "stream",
     "text": [
      "                                                              \r"
     ]
    },
    {
     "name": "stdout",
     "output_type": "stream",
     "text": [
      "| Val Loss: 0.0185 | Val CCC: 0.3669 | Val PCC: 0.3841 | Val R2: 0.0162 |\n",
      "Epoch 9/30 - Train Loss: 0.0117\n"
     ]
    },
    {
     "name": "stderr",
     "output_type": "stream",
     "text": [
      "                                                              \r"
     ]
    },
    {
     "name": "stdout",
     "output_type": "stream",
     "text": [
      "| Val Loss: 0.0175 | Val CCC: 0.3484 | Val PCC: 0.3843 | Val R2: 0.0731 |\n",
      "Epoch 10/30 - Train Loss: 0.0113\n"
     ]
    },
    {
     "name": "stderr",
     "output_type": "stream",
     "text": [
      "                                                               \r"
     ]
    },
    {
     "name": "stdout",
     "output_type": "stream",
     "text": [
      "| Val Loss: 0.0184 | Val CCC: 0.3708 | Val PCC: 0.3916 | Val R2: 0.0248 |\n",
      "Epoch 11/30 - Train Loss: 0.0110\n"
     ]
    },
    {
     "name": "stderr",
     "output_type": "stream",
     "text": [
      "                                                               \r"
     ]
    },
    {
     "name": "stdout",
     "output_type": "stream",
     "text": [
      "| Val Loss: 0.0173 | Val CCC: 0.3390 | Val PCC: 0.3770 | Val R2: 0.0804 |\n",
      "Epoch 12/30 - Train Loss: 0.0112\n"
     ]
    },
    {
     "name": "stderr",
     "output_type": "stream",
     "text": [
      "                                                               \r"
     ]
    },
    {
     "name": "stdout",
     "output_type": "stream",
     "text": [
      "| Val Loss: 0.0167 | Val CCC: 0.3184 | Val PCC: 0.3817 | Val R2: 0.1145 |\n",
      "Epoch 13/30 - Train Loss: 0.0105\n"
     ]
    },
    {
     "name": "stderr",
     "output_type": "stream",
     "text": [
      "                                                               \r"
     ]
    },
    {
     "name": "stdout",
     "output_type": "stream",
     "text": [
      "| Val Loss: 0.0180 | Val CCC: 0.3497 | Val PCC: 0.3749 | Val R2: 0.0414 |\n",
      "Epoch 14/30 - Train Loss: 0.0101\n"
     ]
    },
    {
     "name": "stderr",
     "output_type": "stream",
     "text": [
      "                                                               \r"
     ]
    },
    {
     "name": "stdout",
     "output_type": "stream",
     "text": [
      "| Val Loss: 0.0179 | Val CCC: 0.3032 | Val PCC: 0.3444 | Val R2: 0.0469 |\n",
      "Epoch 15/30 - Train Loss: 0.0101\n"
     ]
    },
    {
     "name": "stderr",
     "output_type": "stream",
     "text": [
      "                                                               \r"
     ]
    },
    {
     "name": "stdout",
     "output_type": "stream",
     "text": [
      "| Val Loss: 0.0178 | Val CCC: 0.3373 | Val PCC: 0.3731 | Val R2: 0.0535 |\n",
      "Epoch 16/30 - Train Loss: 0.0102\n"
     ]
    },
    {
     "name": "stderr",
     "output_type": "stream",
     "text": [
      "                                                               \r"
     ]
    },
    {
     "name": "stdout",
     "output_type": "stream",
     "text": [
      "| Val Loss: 0.0170 | Val CCC: 0.3011 | Val PCC: 0.3623 | Val R2: 0.0976 |\n",
      "Epoch 17/30 - Train Loss: 0.0103\n"
     ]
    },
    {
     "name": "stderr",
     "output_type": "stream",
     "text": [
      "                                                               \r"
     ]
    },
    {
     "name": "stdout",
     "output_type": "stream",
     "text": [
      "| Val Loss: 0.0187 | Val CCC: 0.3466 | Val PCC: 0.3658 | Val R2: 0.0088 |\n",
      "Epoch 18/30 - Train Loss: 0.0100\n"
     ]
    },
    {
     "name": "stderr",
     "output_type": "stream",
     "text": [
      "                                                               \r"
     ]
    },
    {
     "name": "stdout",
     "output_type": "stream",
     "text": [
      "| Val Loss: 0.0176 | Val CCC: 0.3208 | Val PCC: 0.3607 | Val R2: 0.0645 |\n",
      "Epoch 19/30 - Train Loss: 0.0099\n"
     ]
    },
    {
     "name": "stderr",
     "output_type": "stream",
     "text": [
      "                                                               \r"
     ]
    },
    {
     "name": "stdout",
     "output_type": "stream",
     "text": [
      "| Val Loss: 0.0186 | Val CCC: 0.3357 | Val PCC: 0.3592 | Val R2: 0.0133 |\n",
      "Epoch 20/30 - Train Loss: 0.0096\n"
     ]
    },
    {
     "name": "stderr",
     "output_type": "stream",
     "text": [
      "                                                               \r"
     ]
    },
    {
     "name": "stdout",
     "output_type": "stream",
     "text": [
      "| Val Loss: 0.0184 | Val CCC: 0.3347 | Val PCC: 0.3662 | Val R2: 0.0209 |\n",
      "Epoch 21/30 - Train Loss: 0.0096\n"
     ]
    },
    {
     "name": "stderr",
     "output_type": "stream",
     "text": [
      "                                                               \r"
     ]
    },
    {
     "name": "stdout",
     "output_type": "stream",
     "text": [
      "| Val Loss: 0.0183 | Val CCC: 0.3363 | Val PCC: 0.3650 | Val R2: 0.0265 |\n",
      "Epoch 22/30 - Train Loss: 0.0096\n"
     ]
    },
    {
     "name": "stderr",
     "output_type": "stream",
     "text": [
      "                                                               \r"
     ]
    },
    {
     "name": "stdout",
     "output_type": "stream",
     "text": [
      "| Val Loss: 0.0218 | Val CCC: 0.3551 | Val PCC: 0.3620 | Val R2: -0.1557 |\n",
      "Epoch 23/30 - Train Loss: 0.0097\n"
     ]
    },
    {
     "name": "stderr",
     "output_type": "stream",
     "text": [
      "                                                               \r"
     ]
    },
    {
     "name": "stdout",
     "output_type": "stream",
     "text": [
      "| Val Loss: 0.0190 | Val CCC: 0.3522 | Val PCC: 0.3691 | Val R2: -0.0094 |\n",
      "Epoch 24/30 - Train Loss: 0.0095\n"
     ]
    },
    {
     "name": "stderr",
     "output_type": "stream",
     "text": [
      "                                                               \r"
     ]
    },
    {
     "name": "stdout",
     "output_type": "stream",
     "text": [
      "| Val Loss: 0.0175 | Val CCC: 0.2961 | Val PCC: 0.3673 | Val R2: 0.0721 |\n",
      "Epoch 25/30 - Train Loss: 0.0099\n"
     ]
    },
    {
     "name": "stderr",
     "output_type": "stream",
     "text": [
      "                                                               \r"
     ]
    },
    {
     "name": "stdout",
     "output_type": "stream",
     "text": [
      "| Val Loss: 0.0195 | Val CCC: 0.3313 | Val PCC: 0.3646 | Val R2: -0.0341 |\n",
      "Epoch 26/30 - Train Loss: 0.0096\n"
     ]
    },
    {
     "name": "stderr",
     "output_type": "stream",
     "text": [
      "                                                               \r"
     ]
    },
    {
     "name": "stdout",
     "output_type": "stream",
     "text": [
      "| Val Loss: 0.0206 | Val CCC: 0.3495 | Val PCC: 0.3565 | Val R2: -0.0944 |\n",
      "Epoch 27/30 - Train Loss: 0.0093\n"
     ]
    },
    {
     "name": "stderr",
     "output_type": "stream",
     "text": [
      "                                                               \r"
     ]
    },
    {
     "name": "stdout",
     "output_type": "stream",
     "text": [
      "| Val Loss: 0.0186 | Val CCC: 0.3311 | Val PCC: 0.3549 | Val R2: 0.0125 |\n",
      "Epoch 28/30 - Train Loss: 0.0094\n"
     ]
    },
    {
     "name": "stderr",
     "output_type": "stream",
     "text": [
      "                                                               \r"
     ]
    },
    {
     "name": "stdout",
     "output_type": "stream",
     "text": [
      "| Val Loss: 0.0211 | Val CCC: 0.3498 | Val PCC: 0.3554 | Val R2: -0.1191 |\n",
      "Epoch 29/30 - Train Loss: 0.0095\n"
     ]
    },
    {
     "name": "stderr",
     "output_type": "stream",
     "text": [
      "                                                               \r"
     ]
    },
    {
     "name": "stdout",
     "output_type": "stream",
     "text": [
      "| Val Loss: 0.0177 | Val CCC: 0.2925 | Val PCC: 0.3473 | Val R2: 0.0611 |\n",
      "Epoch 30/30 - Train Loss: 0.0093\n"
     ]
    },
    {
     "name": "stderr",
     "output_type": "stream",
     "text": [
      "                                                               \r"
     ]
    },
    {
     "name": "stdout",
     "output_type": "stream",
     "text": [
      "| Val Loss: 0.0180 | Val CCC: 0.3170 | Val PCC: 0.3541 | Val R2: 0.0432 |\n",
      "\n",
      "--- Fold 5 / 5 ---\n",
      "Epoch 1/30 - Train Loss: 0.0190\n"
     ]
    },
    {
     "name": "stderr",
     "output_type": "stream",
     "text": [
      "                                                              \r"
     ]
    },
    {
     "name": "stdout",
     "output_type": "stream",
     "text": [
      "| Val Loss: 0.0171 | Val CCC: 0.0652 | Val PCC: 0.2620 | Val R2: 0.0319 |\n",
      "Epoch 2/30 - Train Loss: 0.0172\n"
     ]
    },
    {
     "name": "stderr",
     "output_type": "stream",
     "text": [
      "                                                              \r"
     ]
    },
    {
     "name": "stdout",
     "output_type": "stream",
     "text": [
      "| Val Loss: 0.0167 | Val CCC: 0.2035 | Val PCC: 0.2942 | Val R2: 0.0513 |\n",
      "Epoch 3/30 - Train Loss: 0.0161\n"
     ]
    },
    {
     "name": "stderr",
     "output_type": "stream",
     "text": [
      "                                                              \r"
     ]
    },
    {
     "name": "stdout",
     "output_type": "stream",
     "text": [
      "| Val Loss: 0.0165 | Val CCC: 0.1000 | Val PCC: 0.2718 | Val R2: 0.0659 |\n",
      "Epoch 4/30 - Train Loss: 0.0152\n"
     ]
    },
    {
     "name": "stderr",
     "output_type": "stream",
     "text": [
      "                                                              \r"
     ]
    },
    {
     "name": "stdout",
     "output_type": "stream",
     "text": [
      "| Val Loss: 0.0181 | Val CCC: 0.2116 | Val PCC: 0.3013 | Val R2: -0.0258 |\n",
      "Epoch 5/30 - Train Loss: 0.0137\n"
     ]
    },
    {
     "name": "stderr",
     "output_type": "stream",
     "text": [
      "                                                              \r"
     ]
    },
    {
     "name": "stdout",
     "output_type": "stream",
     "text": [
      "| Val Loss: 0.0161 | Val CCC: 0.2237 | Val PCC: 0.3495 | Val R2: 0.0853 |\n",
      "Epoch 6/30 - Train Loss: 0.0125\n"
     ]
    },
    {
     "name": "stderr",
     "output_type": "stream",
     "text": [
      "                                                              \r"
     ]
    },
    {
     "name": "stdout",
     "output_type": "stream",
     "text": [
      "| Val Loss: 0.0184 | Val CCC: 0.2992 | Val PCC: 0.3198 | Val R2: -0.0415 |\n",
      "Epoch 7/30 - Train Loss: 0.0119\n"
     ]
    },
    {
     "name": "stderr",
     "output_type": "stream",
     "text": [
      "                                                              \r"
     ]
    },
    {
     "name": "stdout",
     "output_type": "stream",
     "text": [
      "| Val Loss: 0.0179 | Val CCC: 0.3090 | Val PCC: 0.3367 | Val R2: -0.0153 |\n",
      "Epoch 8/30 - Train Loss: 0.0115\n"
     ]
    },
    {
     "name": "stderr",
     "output_type": "stream",
     "text": [
      "                                                              \r"
     ]
    },
    {
     "name": "stdout",
     "output_type": "stream",
     "text": [
      "| Val Loss: 0.0168 | Val CCC: 0.2669 | Val PCC: 0.3176 | Val R2: 0.0488 |\n",
      "Epoch 9/30 - Train Loss: 0.0113\n"
     ]
    },
    {
     "name": "stderr",
     "output_type": "stream",
     "text": [
      "                                                              \r"
     ]
    },
    {
     "name": "stdout",
     "output_type": "stream",
     "text": [
      "| Val Loss: 0.0181 | Val CCC: 0.2614 | Val PCC: 0.2929 | Val R2: -0.0275 |\n",
      "Epoch 10/30 - Train Loss: 0.0115\n"
     ]
    },
    {
     "name": "stderr",
     "output_type": "stream",
     "text": [
      "                                                               \r"
     ]
    },
    {
     "name": "stdout",
     "output_type": "stream",
     "text": [
      "| Val Loss: 0.0171 | Val CCC: 0.2835 | Val PCC: 0.3316 | Val R2: 0.0287 |\n",
      "Epoch 11/30 - Train Loss: 0.0114\n"
     ]
    },
    {
     "name": "stderr",
     "output_type": "stream",
     "text": [
      "                                                               \r"
     ]
    },
    {
     "name": "stdout",
     "output_type": "stream",
     "text": [
      "| Val Loss: 0.0184 | Val CCC: 0.2935 | Val PCC: 0.3152 | Val R2: -0.0434 |\n",
      "Epoch 12/30 - Train Loss: 0.0103\n"
     ]
    },
    {
     "name": "stderr",
     "output_type": "stream",
     "text": [
      "                                                               \r"
     ]
    },
    {
     "name": "stdout",
     "output_type": "stream",
     "text": [
      "| Val Loss: 0.0171 | Val CCC: 0.2566 | Val PCC: 0.3039 | Val R2: 0.0306 |\n",
      "Epoch 13/30 - Train Loss: 0.0102\n"
     ]
    },
    {
     "name": "stderr",
     "output_type": "stream",
     "text": [
      "                                                               \r"
     ]
    },
    {
     "name": "stdout",
     "output_type": "stream",
     "text": [
      "| Val Loss: 0.0178 | Val CCC: 0.2260 | Val PCC: 0.2928 | Val R2: -0.0093 |\n",
      "Epoch 14/30 - Train Loss: 0.0105\n"
     ]
    },
    {
     "name": "stderr",
     "output_type": "stream",
     "text": [
      "                                                               \r"
     ]
    },
    {
     "name": "stdout",
     "output_type": "stream",
     "text": [
      "| Val Loss: 0.0189 | Val CCC: 0.2293 | Val PCC: 0.2693 | Val R2: -0.0726 |\n",
      "Epoch 15/30 - Train Loss: 0.0101\n"
     ]
    },
    {
     "name": "stderr",
     "output_type": "stream",
     "text": [
      "                                                               \r"
     ]
    },
    {
     "name": "stdout",
     "output_type": "stream",
     "text": [
      "| Val Loss: 0.0173 | Val CCC: 0.2363 | Val PCC: 0.2901 | Val R2: 0.0191 |\n",
      "Epoch 16/30 - Train Loss: 0.0099\n"
     ]
    },
    {
     "name": "stderr",
     "output_type": "stream",
     "text": [
      "                                                               \r"
     ]
    },
    {
     "name": "stdout",
     "output_type": "stream",
     "text": [
      "| Val Loss: 0.0186 | Val CCC: 0.2428 | Val PCC: 0.2810 | Val R2: -0.0525 |\n",
      "Epoch 17/30 - Train Loss: 0.0101\n"
     ]
    },
    {
     "name": "stderr",
     "output_type": "stream",
     "text": [
      "                                                               \r"
     ]
    },
    {
     "name": "stdout",
     "output_type": "stream",
     "text": [
      "| Val Loss: 0.0184 | Val CCC: 0.2662 | Val PCC: 0.2911 | Val R2: -0.0450 |\n",
      "Epoch 18/30 - Train Loss: 0.0103\n"
     ]
    },
    {
     "name": "stderr",
     "output_type": "stream",
     "text": [
      "                                                               \r"
     ]
    },
    {
     "name": "stdout",
     "output_type": "stream",
     "text": [
      "| Val Loss: 0.0175 | Val CCC: 0.2739 | Val PCC: 0.3103 | Val R2: 0.0112 |\n",
      "Epoch 19/30 - Train Loss: 0.0099\n"
     ]
    },
    {
     "name": "stderr",
     "output_type": "stream",
     "text": [
      "                                                               \r"
     ]
    },
    {
     "name": "stdout",
     "output_type": "stream",
     "text": [
      "| Val Loss: 0.0193 | Val CCC: 0.2614 | Val PCC: 0.2819 | Val R2: -0.0953 |\n",
      "Epoch 20/30 - Train Loss: 0.0097\n"
     ]
    },
    {
     "name": "stderr",
     "output_type": "stream",
     "text": [
      "                                                               \r"
     ]
    },
    {
     "name": "stdout",
     "output_type": "stream",
     "text": [
      "| Val Loss: 0.0182 | Val CCC: 0.2689 | Val PCC: 0.2966 | Val R2: -0.0284 |\n",
      "Epoch 21/30 - Train Loss: 0.0099\n"
     ]
    },
    {
     "name": "stderr",
     "output_type": "stream",
     "text": [
      "                                                               \r"
     ]
    },
    {
     "name": "stdout",
     "output_type": "stream",
     "text": [
      "| Val Loss: 0.0189 | Val CCC: 0.2563 | Val PCC: 0.2882 | Val R2: -0.0715 |\n",
      "Epoch 22/30 - Train Loss: 0.0097\n"
     ]
    },
    {
     "name": "stderr",
     "output_type": "stream",
     "text": [
      "                                                               \r"
     ]
    },
    {
     "name": "stdout",
     "output_type": "stream",
     "text": [
      "| Val Loss: 0.0200 | Val CCC: 0.2776 | Val PCC: 0.2916 | Val R2: -0.1351 |\n",
      "Epoch 23/30 - Train Loss: 0.0096\n"
     ]
    },
    {
     "name": "stderr",
     "output_type": "stream",
     "text": [
      "                                                               \r"
     ]
    },
    {
     "name": "stdout",
     "output_type": "stream",
     "text": [
      "| Val Loss: 0.0202 | Val CCC: 0.2785 | Val PCC: 0.2966 | Val R2: -0.1436 |\n",
      "Epoch 24/30 - Train Loss: 0.0093\n"
     ]
    },
    {
     "name": "stderr",
     "output_type": "stream",
     "text": [
      "                                                               \r"
     ]
    },
    {
     "name": "stdout",
     "output_type": "stream",
     "text": [
      "| Val Loss: 0.0203 | Val CCC: 0.2758 | Val PCC: 0.2935 | Val R2: -0.1502 |\n",
      "Epoch 25/30 - Train Loss: 0.0097\n"
     ]
    },
    {
     "name": "stderr",
     "output_type": "stream",
     "text": [
      "                                                               \r"
     ]
    },
    {
     "name": "stdout",
     "output_type": "stream",
     "text": [
      "| Val Loss: 0.0181 | Val CCC: 0.2532 | Val PCC: 0.2850 | Val R2: -0.0239 |\n",
      "Epoch 26/30 - Train Loss: 0.0093\n"
     ]
    },
    {
     "name": "stderr",
     "output_type": "stream",
     "text": [
      "                                                               \r"
     ]
    },
    {
     "name": "stdout",
     "output_type": "stream",
     "text": [
      "| Val Loss: 0.0203 | Val CCC: 0.2670 | Val PCC: 0.2803 | Val R2: -0.1525 |\n",
      "Epoch 27/30 - Train Loss: 0.0092\n"
     ]
    },
    {
     "name": "stderr",
     "output_type": "stream",
     "text": [
      "                                                               \r"
     ]
    },
    {
     "name": "stdout",
     "output_type": "stream",
     "text": [
      "| Val Loss: 0.0180 | Val CCC: 0.2669 | Val PCC: 0.2973 | Val R2: -0.0189 |\n",
      "Epoch 28/30 - Train Loss: 0.0096\n"
     ]
    },
    {
     "name": "stderr",
     "output_type": "stream",
     "text": [
      "                                                               \r"
     ]
    },
    {
     "name": "stdout",
     "output_type": "stream",
     "text": [
      "| Val Loss: 0.0224 | Val CCC: 0.2570 | Val PCC: 0.2779 | Val R2: -0.2713 |\n",
      "Epoch 29/30 - Train Loss: 0.0096\n"
     ]
    },
    {
     "name": "stderr",
     "output_type": "stream",
     "text": [
      "                                                               \r"
     ]
    },
    {
     "name": "stdout",
     "output_type": "stream",
     "text": [
      "| Val Loss: 0.0210 | Val CCC: 0.2791 | Val PCC: 0.2900 | Val R2: -0.1880 |\n",
      "Epoch 30/30 - Train Loss: 0.0095\n"
     ]
    },
    {
     "name": "stderr",
     "output_type": "stream",
     "text": [
      "                                                               "
     ]
    },
    {
     "name": "stdout",
     "output_type": "stream",
     "text": [
      "| Val Loss: 0.0188 | Val CCC: 0.2521 | Val PCC: 0.2756 | Val R2: -0.0676 |\n",
      "\n",
      "--- K-Fold Cross Validation Results ---\n",
      "Fold 1 | Val Loss: 0.0200 | CCC: 0.2879 | PCC: 0.3191 | R2: -0.0324\n",
      "Fold 2 | Val Loss: 0.0183 | CCC: 0.3025 | PCC: 0.3275 | R2: -0.0796\n",
      "Fold 3 | Val Loss: 0.0227 | CCC: 0.2697 | PCC: 0.2823 | R2: -0.1548\n",
      "Fold 4 | Val Loss: 0.0180 | CCC: 0.3170 | PCC: 0.3541 | R2: 0.0432\n",
      "Fold 5 | Val Loss: 0.0188 | CCC: 0.2521 | PCC: 0.2756 | R2: -0.0676\n"
     ]
    },
    {
     "name": "stderr",
     "output_type": "stream",
     "text": [
      "\r"
     ]
    }
   ],
   "source": [
    "from sklearn.model_selection import KFold\n",
    "from tqdm import tqdm\n",
    "from torch.utils.data import DataLoader, Subset\n",
    "\n",
    "epochs = 30\n",
    "k_folds = 5\n",
    "batch_size = 32\n",
    "learning_rate = 1e-3\n",
    "\n",
    "kfold = KFold(n_splits=k_folds, shuffle=True, random_state=42)\n",
    "\n",
    "\n",
    "fold_results = {}\n",
    "\n",
    "sample = dataset[0]\n",
    "\n",
    "for fold, (train_idx, val_idx) in enumerate(kfold.split(dataset)):\n",
    "    print(f'\\n--- Fold {fold+1} / {k_folds} ---')\n",
    "\n",
    "    # Create data loaders for this fold\n",
    "    train_subset = Subset(dataset, train_idx)\n",
    "    val_subset = Subset(dataset, val_idx)\n",
    "\n",
    "    train_loader = DataLoader(train_subset, batch_size=batch_size, shuffle=True)\n",
    "    val_loader = DataLoader(val_subset, batch_size=batch_size, shuffle=False)\n",
    "\n",
    "    # model = model(config).to(device)\n",
    "    speaker, listener ,_= sample[\"features\"]\n",
    "    # print(\"Listener feature shape: \", listener_feat.shape)\n",
    "    # print(\"Speaker feature shape: \", speaker_feat.shape)\n",
    "    model = ListenerSpeakerFusion(config=config , listener_input_dim=listener.shape[1], listener_seq_len=listener.shape[0], speaker_input_dim=speaker.shape[0], reduced_speaker_dim=32).to(device)\n",
    "\n",
    "\n",
    "    criterion = torch.nn.MSELoss()\n",
    "    optimizer = torch.optim.Adam(model.parameters(), lr=learning_rate)\n",
    "\n",
    "    for epoch in range(epochs):\n",
    "        model.train()\n",
    "        total_loss = 0\n",
    "\n",
    "        for batch in train_loader:\n",
    "            speaker_feat, listener_feat, _ = batch[\"features\"]\n",
    "            engagement = batch[\"score\"]\n",
    "\n",
    "            speaker_feat = speaker_feat.to(device)\n",
    "            listener_feat = listener_feat.to(device)\n",
    "            engagement = engagement.to(device)\n",
    "            engagement = engagement.view(-1, 1)\n",
    "\n",
    "            optimizer.zero_grad()\n",
    "            # print(\"before model\", listener_feat.shape , speaker_feat.shape)\n",
    "            output = model(listener_feat, speaker_feat)\n",
    "            loss = criterion(output, engagement)\n",
    "            loss.backward()\n",
    "            optimizer.step()\n",
    "\n",
    "            total_loss += loss.item()\n",
    "\n",
    "        avg_train_loss = total_loss / len(train_loader)\n",
    "        print(f\"Epoch {epoch+1}/{epochs} - Train Loss: {avg_train_loss:.4f}\")\n",
    "\n",
    "        # Validation\n",
    "        model.eval()\n",
    "        val_loss = 0\n",
    "        val_preds = []\n",
    "        val_targets = []\n",
    "\n",
    "        with torch.no_grad():\n",
    "            for batch in tqdm(val_loader, desc=f\"Epoch {epoch+1} [Val]\", leave=False):\n",
    "                speaker, listener, _ = batch[\"features\"]\n",
    "                target = batch[\"score\"].to(device)\n",
    "                target = target.view(-1, 1)\n",
    "                speaker = speaker.to(device)\n",
    "                listener = listener.to(device)\n",
    "\n",
    "                output = model(listener, speaker)\n",
    "                loss = criterion(output, target)\n",
    "\n",
    "                val_loss += loss.item() * target.size(0)\n",
    "                val_preds.append(output.cpu())\n",
    "                val_targets.append(target.cpu())\n",
    "\n",
    "        val_loss /= len(val_loader.dataset)\n",
    "\n",
    "        val_preds_np = torch.cat(val_preds).numpy()\n",
    "        val_targets_np = torch.cat(val_targets).numpy()\n",
    "\n",
    "        val_ccc = compute_ccc_batched(val_preds_np, val_targets_np)\n",
    "        val_pcc = compute_pearson_correlation_batched(val_preds_np, val_targets_np)\n",
    "        val_r2 = compute_r2_score_batched(val_targets_np, val_preds_np)\n",
    "\n",
    "        print(f\"| Val Loss: {val_loss:.4f} | Val CCC: {val_ccc:.4f} | Val PCC: {val_pcc:.4f} | Val R2: {val_r2:.4f} |\")\n",
    "\n",
    "    # Save the result for this fold\n",
    "    fold_results[fold] = {\n",
    "        'val_loss': val_loss,\n",
    "        'val_ccc': val_ccc,\n",
    "        'val_pcc': val_pcc,\n",
    "        'val_r2': val_r2\n",
    "    }\n",
    "\n",
    "# After K-Folds\n",
    "print(\"\\n--- K-Fold Cross Validation Results ---\")\n",
    "for fold in fold_results:\n",
    "    print(f\"Fold {fold+1} | Val Loss: {fold_results[fold]['val_loss']:.4f} | CCC: {fold_results[fold]['val_ccc']:.4f} | PCC: {fold_results[fold]['val_pcc']:.4f} | R2: {fold_results[fold]['val_r2']:.4f}\")\n"
   ]
  },
  {
   "cell_type": "markdown",
   "id": "99efa395",
   "metadata": {},
   "source": [
    "# MLP on features and Merge with Xattention features on features "
   ]
  },
  {
   "cell_type": "code",
   "execution_count": null,
   "id": "25ee4aff",
   "metadata": {},
   "outputs": [],
   "source": [
    "import torch\n",
    "import torch.nn as nn\n",
    "\n",
    "\n",
    "class CrossAttention(nn.Module):\n",
    "    def __init__(self, dim):\n",
    "        super().__init__()\n",
    "        self.attn = nn.MultiheadAttention(embed_dim=dim, num_heads=1, batch_first=True)\n",
    "\n",
    "    def forward(self, query, context):\n",
    "        query = query.unsqueeze(1)    # [B, 1, D]\n",
    "        context = context.unsqueeze(1)  # [B, 1, D]\n",
    "        attn_out, _ = self.attn(query, context, context)  # [B, 1, D]\n",
    "        return attn_out.squeeze(1)     # [B, D]\n",
    "\n",
    "\n",
    "class ListenerSpeakerHybridFusion(nn.Module):\n",
    "    def __init__(self, config, listener_input_dim=329, listener_seq_len=50,\n",
    "                 speaker_input_dim=768, reduced_speaker_dim=32):\n",
    "        super().__init__()\n",
    "        self.config = config\n",
    "\n",
    "        # Listener: [B, 50, 329] to [B, 50]\n",
    "        self.listener_pool = nn.Sequential(\n",
    "            nn.Linear(listener_input_dim, 1),\n",
    "            nn.Flatten(start_dim=1)\n",
    "        )\n",
    "\n",
    "        # Speaker: [B, 768, 424] to [B, 32]\n",
    "        self.speaker_cnn = nn.Sequential(\n",
    "        nn.Conv1d(speaker_input_dim, reduced_speaker_dim, kernel_size=5, padding=2),\n",
    "        nn.ReLU(),\n",
    "        nn.AdaptiveAvgPool1d(1),\n",
    "        nn.Flatten(),\n",
    "        # nn.Linear(64, reduced_speaker_dim)     \n",
    "        )        \n",
    "\n",
    "        self.mlp = nn.Sequential(\n",
    "            nn.Linear(listener_seq_len + reduced_speaker_dim, config.hidden_size),\n",
    "            nn.ReLU(),\n",
    "            nn.Dropout(config.dropout),\n",
    "            nn.Linear(config.hidden_size, config.hidden_size),\n",
    "            nn.ReLU()\n",
    "        )\n",
    "        self.mlp_norm = nn.LayerNorm(config.hidden_size)\n",
    "\n",
    "        self.listener_proj = nn.Linear(listener_seq_len, config.hidden_size)\n",
    "        self.speaker_proj = nn.Linear(reduced_speaker_dim, config.hidden_size)\n",
    "\n",
    "        self.cross_attention = CrossAttention(dim=config.hidden_size)\n",
    "        self.attn_norm = nn.LayerNorm(config.hidden_size)\n",
    "\n",
    "        self.classifier = nn.Linear(config.hidden_size * 2, config.num_labels)\n",
    "        self.activation_fn = {\n",
    "            \"relu\": nn.ReLU(),\n",
    "            \"leaky_relu\": nn.LeakyReLU(),\n",
    "            \"Tanh\": nn.Tanh()\n",
    "        }[config.activation_fn]\n",
    "\n",
    "    def forward(self, listener_feats, speaker_feats):\n",
    "\n",
    "        listener_x = self.listener_pool(listener_feats)     # [B, 50]\n",
    "        speaker_y = self.speaker_cnn(speaker_feats)         # [B, 32]\n",
    "\n",
    "\n",
    "        fused = torch.cat([listener_x, speaker_y], dim=1)   # [B, 82]\n",
    "        mlp_hidden = self.mlp(fused)                        # [B, hidden_size]\n",
    "        mlp_hidden = self.mlp_norm(mlp_hidden)\n",
    "\n",
    "        listener_proj_out = self.listener_proj(listener_x)  # [B, hidden_size]\n",
    "        speaker_proj_out = self.speaker_proj(speaker_y)     # [B, hidden_size]\n",
    "\n",
    "        listener_attn = self.cross_attention(listener_proj_out, speaker_proj_out)  # [B, hidden_size]\n",
    "        listener_attn = self.attn_norm(listener_attn)\n",
    "\n",
    "        # final_rep = torch.cat([mlp_hidden, listener_attn], dim=1)  # [B, hidden_size * 2]\n",
    "        final_rep  = mlp_hidden+ listener_attn\n",
    "        final_rep = self.classifier(final_rep)  # [B, num_labels]\n",
    "        # print(\"final_rep : \", final_rep)\n",
    "        # print(\"Logits before tanh:\", final_rep.mean().item(), final_rep.min().item(), final_rep.max().item())\n",
    "        final_rep = self.activation_fn(final_rep)\n",
    "    \n",
    "        return final_rep\n"
   ]
  },
  {
   "cell_type": "code",
   "execution_count": null,
   "id": "b901a1fd",
   "metadata": {},
   "outputs": [],
   "source": [
    "\n",
    "\n",
    "# class ListenerSpeakerHybridFusion(nn.Module):\n",
    "#     def __init__(self, config, listener_input_dim=329, speaker_input_dim=768):\n",
    "#         super().__init__()\n",
    "#         self.config = config\n",
    "\n",
    "#         self.listener_pool = nn.AdaptiveAvgPool1d(1)\n",
    "#         self.speaker_pool = nn.AdaptiveAvgPool1d(1)\n",
    "\n",
    "#         self.mlp_fc1 = nn.Linear(listener_input_dim + speaker_input_dim, config.hidden_size)\n",
    "#         self.mlp_fc2 = nn.Linear(config.hidden_size, config.hidden_size)\n",
    "\n",
    "#         self.listener_proj = nn.Linear(listener_input_dim, config.hidden_size)\n",
    "#         self.speaker_proj = nn.Linear(speaker_input_dim, config.hidden_size)\n",
    "\n",
    "#         self.cross_attention = CrossAttention(dim=config.hidden_size)\n",
    "\n",
    "#         self.classifier = nn.Linear(config.hidden_size, 1)\n",
    "#         self.activation_fn = nn.Tanh()  # <-- Final Tanh activation\n",
    "\n",
    "#     def forward(self, listener_feats, speaker_feats):\n",
    "#         listener_vec = self.listener_pool(listener_feats.permute(0, 2, 1)).squeeze(-1)\n",
    "#         speaker_vec = self.speaker_pool(speaker_feats).squeeze(-1)\n",
    "\n",
    "#         # MLP path\n",
    "#         fused = torch.cat([listener_vec, speaker_vec], dim=1)\n",
    "#         mlp_hidden = torch.relu(self.mlp_fc1(fused))\n",
    "#         mlp_hidden = torch.relu(self.mlp_fc2(mlp_hidden))\n",
    "\n",
    "#         # Cross-attention path\n",
    "#         listener_proj = self.listener_proj(listener_vec)\n",
    "#         speaker_proj = self.speaker_proj(speaker_vec)\n",
    "#         attn_out = self.cross_attention(listener_proj, speaker_proj)\n",
    "\n",
    "#         # Combine and regress\n",
    "#         combined = mlp_hidden + attn_out\n",
    "#         output = self.classifier(combined)\n",
    "#         return self.activation_fn(output) \n"
   ]
  },
  {
   "cell_type": "code",
   "execution_count": 16,
   "id": "43bf3f88",
   "metadata": {},
   "outputs": [],
   "source": [
    "config = { 'activation_fn': 'Tanh',\n",
    "           'extra_dropout':0 ,\n",
    "             'hidden_size':64,\n",
    "             'dropout': 0.4,\n",
    "             'num_labels': 1}\n",
    "\n",
    "config = SimpleNamespace(**config)\n",
    "sample = dataset[0]\n",
    "speaker_feat, listener_feat,_ = sample[\"features\"]\n",
    "model = ListenerSpeakerHybridFusion(config=config , listener_input_dim=listener_feat.shape[1], speaker_input_dim=speaker_feat.shape[0]).to(device)\n"
   ]
  },
  {
   "cell_type": "code",
   "execution_count": 47,
   "id": "e1072c78",
   "metadata": {},
   "outputs": [
    {
     "data": {
      "text/plain": [
       "ListenerSpeakerHybridFusion(\n",
       "  (listener_pool): AdaptiveAvgPool1d(output_size=1)\n",
       "  (speaker_pool): AdaptiveAvgPool1d(output_size=1)\n",
       "  (mlp_fc1): Linear(in_features=393, out_features=64, bias=True)\n",
       "  (mlp_fc2): Linear(in_features=64, out_features=64, bias=True)\n",
       "  (listener_proj): Linear(in_features=64, out_features=64, bias=True)\n",
       "  (speaker_proj): Linear(in_features=329, out_features=64, bias=True)\n",
       "  (cross_attention): CrossAttention(\n",
       "    (attn): MultiheadAttention(\n",
       "      (out_proj): NonDynamicallyQuantizableLinear(in_features=64, out_features=64, bias=True)\n",
       "    )\n",
       "  )\n",
       "  (classifier): Linear(in_features=64, out_features=1, bias=True)\n",
       "  (activation_fn): Tanh()\n",
       ")"
      ]
     },
     "execution_count": 47,
     "metadata": {},
     "output_type": "execute_result"
    }
   ],
   "source": [
    "model.train()"
   ]
  },
  {
   "cell_type": "markdown",
   "id": "dbf21700",
   "metadata": {},
   "source": [
    "## Experiment 3: No Validation"
   ]
  },
  {
   "cell_type": "code",
   "execution_count": 17,
   "id": "42b3aab8",
   "metadata": {},
   "outputs": [
    {
     "name": "stdout",
     "output_type": "stream",
     "text": [
      "Epoch 1/20 | Train Loss: 0.0182\n"
     ]
    },
    {
     "name": "stderr",
     "output_type": "stream",
     "text": [
      "                                                              \r"
     ]
    },
    {
     "name": "stdout",
     "output_type": "stream",
     "text": [
      "| Val Loss: 0.0176 | Val CCC: 0.1390 | Val PCC: 0.2459\n",
      "Epoch 2/20 | Train Loss: 0.0157\n"
     ]
    },
    {
     "name": "stderr",
     "output_type": "stream",
     "text": [
      "                                                              \r"
     ]
    },
    {
     "name": "stdout",
     "output_type": "stream",
     "text": [
      "| Val Loss: 0.0184 | Val CCC: 0.1563 | Val PCC: 0.2579\n",
      "Epoch 3/20 | Train Loss: 0.0151\n"
     ]
    },
    {
     "name": "stderr",
     "output_type": "stream",
     "text": [
      "                                                              \r"
     ]
    },
    {
     "name": "stdout",
     "output_type": "stream",
     "text": [
      "| Val Loss: 0.0181 | Val CCC: 0.1899 | Val PCC: 0.2753\n",
      "Epoch 4/20 | Train Loss: 0.0141\n"
     ]
    },
    {
     "name": "stderr",
     "output_type": "stream",
     "text": [
      "                                                              \r"
     ]
    },
    {
     "name": "stdout",
     "output_type": "stream",
     "text": [
      "| Val Loss: 0.0193 | Val CCC: 0.1934 | Val PCC: 0.2789\n",
      "Epoch 5/20 | Train Loss: 0.0135\n"
     ]
    },
    {
     "name": "stderr",
     "output_type": "stream",
     "text": [
      "                                                              \r"
     ]
    },
    {
     "name": "stdout",
     "output_type": "stream",
     "text": [
      "| Val Loss: 0.0184 | Val CCC: 0.2182 | Val PCC: 0.2828\n",
      "Epoch 6/20 | Train Loss: 0.0132\n"
     ]
    },
    {
     "name": "stderr",
     "output_type": "stream",
     "text": [
      "                                                              \r"
     ]
    },
    {
     "name": "stdout",
     "output_type": "stream",
     "text": [
      "| Val Loss: 0.0182 | Val CCC: 0.2334 | Val PCC: 0.3095\n",
      "Epoch 7/20 | Train Loss: 0.0122\n"
     ]
    },
    {
     "name": "stderr",
     "output_type": "stream",
     "text": [
      "                                                              \r"
     ]
    },
    {
     "name": "stdout",
     "output_type": "stream",
     "text": [
      "| Val Loss: 0.0176 | Val CCC: 0.2443 | Val PCC: 0.3036\n",
      "Epoch 8/20 | Train Loss: 0.0115\n"
     ]
    },
    {
     "name": "stderr",
     "output_type": "stream",
     "text": [
      "                                                              \r"
     ]
    },
    {
     "name": "stdout",
     "output_type": "stream",
     "text": [
      "| Val Loss: 0.0188 | Val CCC: 0.2702 | Val PCC: 0.3022\n",
      "Epoch 9/20 | Train Loss: 0.0117\n"
     ]
    },
    {
     "name": "stderr",
     "output_type": "stream",
     "text": [
      "                                                              \r"
     ]
    },
    {
     "name": "stdout",
     "output_type": "stream",
     "text": [
      "| Val Loss: 0.0187 | Val CCC: 0.2351 | Val PCC: 0.2842\n",
      "Epoch 10/20 | Train Loss: 0.0108\n"
     ]
    },
    {
     "name": "stderr",
     "output_type": "stream",
     "text": [
      "                                                               \r"
     ]
    },
    {
     "name": "stdout",
     "output_type": "stream",
     "text": [
      "| Val Loss: 0.0192 | Val CCC: 0.2544 | Val PCC: 0.2850\n",
      "Epoch 11/20 | Train Loss: 0.0107\n"
     ]
    },
    {
     "name": "stderr",
     "output_type": "stream",
     "text": [
      "                                                               \r"
     ]
    },
    {
     "name": "stdout",
     "output_type": "stream",
     "text": [
      "| Val Loss: 0.0208 | Val CCC: 0.1931 | Val PCC: 0.2499\n",
      "Epoch 12/20 | Train Loss: 0.0105\n"
     ]
    },
    {
     "name": "stderr",
     "output_type": "stream",
     "text": [
      "                                                               \r"
     ]
    },
    {
     "name": "stdout",
     "output_type": "stream",
     "text": [
      "| Val Loss: 0.0186 | Val CCC: 0.2438 | Val PCC: 0.2834\n",
      "Epoch 13/20 | Train Loss: 0.0102\n"
     ]
    },
    {
     "name": "stderr",
     "output_type": "stream",
     "text": [
      "                                                               \r"
     ]
    },
    {
     "name": "stdout",
     "output_type": "stream",
     "text": [
      "| Val Loss: 0.0196 | Val CCC: 0.2799 | Val PCC: 0.3005\n",
      "Epoch 14/20 | Train Loss: 0.0098\n"
     ]
    },
    {
     "name": "stderr",
     "output_type": "stream",
     "text": [
      "                                                               \r"
     ]
    },
    {
     "name": "stdout",
     "output_type": "stream",
     "text": [
      "| Val Loss: 0.0205 | Val CCC: 0.2646 | Val PCC: 0.2840\n",
      "Epoch 15/20 | Train Loss: 0.0100\n"
     ]
    },
    {
     "name": "stderr",
     "output_type": "stream",
     "text": [
      "                                                               \r"
     ]
    },
    {
     "name": "stdout",
     "output_type": "stream",
     "text": [
      "| Val Loss: 0.0208 | Val CCC: 0.2808 | Val PCC: 0.2930\n",
      "Epoch 16/20 | Train Loss: 0.0099\n"
     ]
    },
    {
     "name": "stderr",
     "output_type": "stream",
     "text": [
      "                                                               \r"
     ]
    },
    {
     "name": "stdout",
     "output_type": "stream",
     "text": [
      "| Val Loss: 0.0200 | Val CCC: 0.2481 | Val PCC: 0.2743\n",
      "Epoch 17/20 | Train Loss: 0.0096\n"
     ]
    },
    {
     "name": "stderr",
     "output_type": "stream",
     "text": [
      "                                                               \r"
     ]
    },
    {
     "name": "stdout",
     "output_type": "stream",
     "text": [
      "| Val Loss: 0.0204 | Val CCC: 0.2452 | Val PCC: 0.2757\n",
      "Epoch 18/20 | Train Loss: 0.0097\n"
     ]
    },
    {
     "name": "stderr",
     "output_type": "stream",
     "text": [
      "                                                               \r"
     ]
    },
    {
     "name": "stdout",
     "output_type": "stream",
     "text": [
      "| Val Loss: 0.0214 | Val CCC: 0.2121 | Val PCC: 0.2379\n",
      "Epoch 19/20 | Train Loss: 0.0095\n"
     ]
    },
    {
     "name": "stderr",
     "output_type": "stream",
     "text": [
      "                                                               \r"
     ]
    },
    {
     "name": "stdout",
     "output_type": "stream",
     "text": [
      "| Val Loss: 0.0205 | Val CCC: 0.2708 | Val PCC: 0.2862\n",
      "Epoch 20/20 | Train Loss: 0.0093\n"
     ]
    },
    {
     "name": "stderr",
     "output_type": "stream",
     "text": [
      "                                                               "
     ]
    },
    {
     "name": "stdout",
     "output_type": "stream",
     "text": [
      "| Val Loss: 0.0200 | Val CCC: 0.2343 | Val PCC: 0.2584\n"
     ]
    },
    {
     "name": "stderr",
     "output_type": "stream",
     "text": [
      "\r"
     ]
    }
   ],
   "source": [
    "import numpy as np\n",
    "from tqdm import tqdm\n",
    "\n",
    "epochs = 20\n",
    "criterion = torch.nn.MSELoss()\n",
    "optimizer = torch.optim.Adam(model.parameters(), lr=1e-3)\n",
    "\n",
    "for epoch in range(epochs):\n",
    "    model.train()\n",
    "    total_loss = 0.0\n",
    "\n",
    "    for batch in train_loader:\n",
    "        speaker_feat, listener_feat,_ = batch[\"features\"]\n",
    "        engagement = batch[\"score\"].view(-1, 1).to(device)\n",
    "\n",
    "        speaker_feat = speaker_feat.to(device)\n",
    "        listener_feat = listener_feat.to(device)\n",
    "\n",
    "        optimizer.zero_grad()\n",
    "        output = model(listener_feat, speaker_feat)\n",
    "        loss = criterion(output, engagement)\n",
    "        loss.backward()\n",
    "        optimizer.step()\n",
    "\n",
    "        total_loss += loss.item()\n",
    "\n",
    "    avg_train_loss = total_loss / len(train_loader)\n",
    "    print(f\"Epoch {epoch+1}/{epochs} | Train Loss: {avg_train_loss:.4f}\")\n",
    "\n",
    "    model.eval()\n",
    "    val_loss = 0.0\n",
    "    val_preds, val_targets = [], []\n",
    "\n",
    "    with torch.no_grad():\n",
    "        for batch in tqdm(val_loader, desc=f\"Epoch {epoch+1} [Val]\", leave=False):\n",
    "            speaker_feat, listener_feat,_= batch[\"features\"]\n",
    "            target = batch[\"score\"].view(-1, 1).to(device)\n",
    "\n",
    "            speaker_feat = speaker_feat.to(device)\n",
    "            listener_feat = listener_feat.to(device)\n",
    "\n",
    "            output = model(listener_feat, speaker_feat)\n",
    "            loss = criterion(output, target)\n",
    "\n",
    "            val_loss += loss.item() * target.size(0)\n",
    "            val_preds.append(output.cpu().numpy())\n",
    "            val_targets.append(target.cpu().numpy())\n",
    "\n",
    "            # print(\"Output: \", output.shape)\n",
    "            # print(\"Target: \", target.shape)\n",
    "            # print(compute_ccc_batched(output.detach().cpu().numpy(), target.detach().cpu().numpy()))\n",
    "\n",
    "    val_loss /= len(val_loader.dataset)\n",
    "    val_preds = np.concatenate(val_preds)\n",
    "    val_targets = np.concatenate(val_targets)\n",
    "\n",
    "    val_ccc = compute_ccc_batched(val_preds, val_targets)\n",
    "    val_pcc = compute_pearson_correlation_batched(val_preds, val_targets)\n",
    "\n",
    "    print(f\"| Val Loss: {val_loss:.4f} | Val CCC: {val_ccc:.4f} | Val PCC: {val_pcc:.4f}\")\n"
   ]
  },
  {
   "cell_type": "code",
   "execution_count": null,
   "id": "1b7bf926",
   "metadata": {},
   "outputs": [
    {
     "name": "stdout",
     "output_type": "stream",
     "text": [
      "Total trainable parameters: 127,553\n"
     ]
    }
   ],
   "source": [
    "def count_parameters(model):\n",
    "    return sum(p.numel() for p in model.parameters() if p.requires_grad)\n",
    "\n",
    "print(f\"Total trainable parameters: {count_parameters(model):,}\")\n"
   ]
  },
  {
   "cell_type": "markdown",
   "id": "a915f183",
   "metadata": {},
   "source": [
    "# Experiment 4: To do - add corss-validation"
   ]
  },
  {
   "cell_type": "code",
   "execution_count": 9,
   "id": "f3c99981",
   "metadata": {},
   "outputs": [],
   "source": [
    "## todo"
   ]
  },
  {
   "cell_type": "markdown",
   "id": "e8e7a4e2",
   "metadata": {},
   "source": [
    "# Feature Pooling-- no AveragePooling layer"
   ]
  },
  {
   "cell_type": "code",
   "execution_count": 98,
   "id": "7ac76ac1",
   "metadata": {},
   "outputs": [
    {
     "name": "stdout",
     "output_type": "stream",
     "text": [
      "2.1.0\n",
      "1.24.4\n"
     ]
    }
   ],
   "source": [
    "import torch\n",
    "print(torch.__version__)\n",
    "import numpy\n",
    "print(numpy.__version__)\n",
    "# !pip install numpy==1.24.4\n",
    "\n"
   ]
  },
  {
   "cell_type": "code",
   "execution_count": 22,
   "id": "309df0dc",
   "metadata": {},
   "outputs": [],
   "source": [
    "import torch\n",
    "from torch.utils.data import DataLoader, random_split\n",
    "from torch import nn, optim\n",
    "from tqdm import tqdm\n",
    "from SEMPIDataLoader import ListenerSpeakerFeatureDataset\n",
    "import torch\n",
    "import torch.nn as nn\n",
    "import sys, os\n",
    "import numpy as np\n",
    "from types import SimpleNamespace"
   ]
  },
  {
   "cell_type": "code",
   "execution_count": null,
   "id": "c8982407",
   "metadata": {},
   "outputs": [],
   "source": [
    "import torch\n",
    "import torch.nn as nn\n",
    "\n",
    "class CrossAttention(nn.Module):\n",
    "    def __init__(self, dim):\n",
    "        super().__init__()\n",
    "        self.attn = nn.MultiheadAttention(embed_dim=dim, num_heads=1, batch_first=True)\n",
    "\n",
    "    def forward(self, query, context):\n",
    "        query = query.unsqueeze(1)    # [B, 1, D]\n",
    "        context = context.unsqueeze(1)  # [B, 1, D]\n",
    "        attn_out, _ = self.attn(query, context, context)  # [B, 1, D]\n",
    "        return attn_out.squeeze(1)     # [B, D]\n",
    "\n",
    "class ListenerSpeakerHybridFusion_2(nn.Module):\n",
    "    def __init__(self, config, listener_input_dim=64, listener_seq_len=1024,\n",
    "                 speaker_input_dim=64, speaker_seq_len=768, reduced_speaker_dim=32):\n",
    "        super().__init__()\n",
    "        self.config = config\n",
    "\n",
    "        # Pool across sequence dimension\n",
    "        self.listener_pool = nn.AdaptiveAvgPool1d(1)  # keep seq_len = 1024\n",
    "        self.speaker_pool = nn.AdaptiveAvgPool1d(1)  # squeeze speaker to [B, feature_dim, 1]\n",
    "\n",
    "        self.mlp = nn.Sequential(\n",
    "            nn.Linear(1792, config.hidden_size),  \n",
    "            nn.ReLU(),\n",
    "            nn.Dropout(config.dropout),\n",
    "            nn.Linear(config.hidden_size, config.hidden_size),\n",
    "            nn.ReLU()\n",
    "        )\n",
    "        self.mlp_norm = nn.LayerNorm(config.hidden_size)\n",
    "\n",
    "        self.listener_proj = nn.Linear(listener_seq_len, config.hidden_size)\n",
    "        self.speaker_proj = nn.Linear(speaker_input_dim, config.hidden_size)\n",
    "\n",
    "        self.cross_attention = CrossAttention(dim=config.hidden_size)\n",
    "        self.attn_norm = nn.LayerNorm(config.hidden_size)\n",
    "\n",
    "        self.classifier = nn.Linear(config.hidden_size, config.num_labels)\n",
    "        self.activation_fn = {\n",
    "            \"relu\": nn.ReLU(),\n",
    "            \"leaky_relu\": nn.LeakyReLU(),\n",
    "            \"tanh\": nn.Tanh()\n",
    "\n",
    "        }[config.activation_fn.lower()] \n",
    "\n",
    "    def forward(self, listener_feats, speaker_feats):\n",
    "        # listener_feats: [B, 1024, 64]\n",
    "        # speaker_feats:  [B, 768, 64]\n",
    "\n",
    "        # [B, feature_dim, seq_len]\n",
    "        listener_feats = listener_feats.transpose(1, 2)  # [B, 64, 1024]\n",
    "        speaker_feats = speaker_feats.transpose(1, 2)    # [B, 64, 768]\n",
    "\n",
    "        listener_x = listener_feats.mean(dim=1)  # [B, 1024]\n",
    "        speaker_y = speaker_feats.mean(dim=1) # [B, 768]\n",
    "\n",
    "        # print(f\"listener x shape: {listener_x.shape}\") \n",
    "        # print(f\"speaker y shape: {speaker_y.shape}\") \n",
    "\n",
    "        # print(f\"Listener feats shape: {listener_feats.shape}\")\n",
    "        # print(f\"Speaker feats shape: {speaker_feats.shape}\")\n",
    "        \n",
    "        # listener_x = self.listener_pool(listener_feats).squeeze(2)  # [B, 64]\n",
    "        # speaker_y = self.speaker_pool(speaker_feats).squeeze(2)     # [B, 64]\n",
    "\n",
    "    \n",
    "        fused = torch.cat([listener_x, speaker_y], dim=1)    # [B, 1792] \n",
    "        # print(f\"Fused shape: {fused.shape}\")  \n",
    "        # print(f\"Fused shape: {fused.shape}\")\n",
    "\n",
    "        mlp_hidden = self.mlp(fused)                      \n",
    "        # mlp_hidden = self.mlp_norm(mlp_hidden)\n",
    "        # print(f\"mlp_hidden shape: {mlp_hidden.shape}\")  # [B, 64]\n",
    "        # print(listener_x.shape)\n",
    "        listener_proj_out = self.listener_proj(listener_x)  # [B, hidden_size]\n",
    "        speaker_proj_out = self.speaker_proj(speaker_y)     # [B, hidden_size]\n",
    "\n",
    "        # print(f\"listener_proj_out shape: {listener_proj_out.shape}\")\n",
    "        # print(f\"speaker_proj_out shape: {speaker_proj_out.shape}\")\n",
    "        listener_attn = self.cross_attention(listener_proj_out, speaker_proj_out)  # [B, hidden_size]\n",
    "        # listener_attn = self.attn_norm(listener_attn)\n",
    "\n",
    "        # print(f\"listener_attn shape: {listener_attn.shape}\")\n",
    "        final_rep = mlp_hidden + listener_attn  # [B, hidden_size]\n",
    "        # print(f\"final_rep shape: {final_rep.shape}\")\n",
    "        final_rep = self.classifier(final_rep)  # [B, num_labels]\n",
    "        # print(f\"Logits before tanh: {final_rep.mean().item()}, {final_rep.min().item()}, {final_rep.max().item()}\")\n",
    "        final_rep = self.activation_fn(final_rep)\n",
    "\n",
    "\n",
    "#torch.Size([32, 768, 64]) torch.Size([32, 1024, 64])\n",
    "# Listener feats shape: torch.Size([32, 64, 1024])\n",
    "# Speaker feats shape: torch.Size([32, 64, 768])\n",
    "# Listener x shape: torch.Size([32, 64])\n",
    "# Speaker y shape: torch.Size([32, 64])\n",
    "# Fused shape: torch.Size([32, 128])\n",
    "\n",
    "        return final_rep\n"
   ]
  },
  {
   "cell_type": "code",
   "execution_count": null,
   "id": "e01c01a5",
   "metadata": {},
   "outputs": [],
   "source": [
    "from torch.nn.utils.rnn import pad_sequence\n",
    "import torch.nn.functional as F\n",
    "from SEMPIDataLoader import ListenerSpeakerFeatureDataset\n",
    "\n",
    "\n",
    "dataset = ListenerSpeakerFeatureDataset(\n",
    "    csv_path=\"AudioVideo_Feature_Path_v2.csv\",\n",
    "    frame_length=64,\n",
    "    root_dir=\"./\",\n",
    ")\n",
    "\n",
    "train_size = int(0.8 * len(dataset))\n",
    "val_size = len(dataset) - train_size\n",
    "train_dataset, val_dataset = random_split(dataset, [train_size, val_size])\n",
    "device = torch.device(\"cuda\" if torch.cuda.is_available() else \"cpu\")\n",
    "train_loader = DataLoader(train_dataset, batch_size=32, shuffle=True, drop_last=True)\n",
    "val_loader = DataLoader(val_dataset, batch_size=32, shuffle=False, drop_last=False)\n",
    "\n",
    "config = { 'activation_fn': 'Tanh',\n",
    "           'extra_dropout':0 ,\n",
    "             'hidden_size':64,\n",
    "             'dropout': 0.4,\n",
    "             'num_labels': 1}\n",
    "\n",
    "config = SimpleNamespace(**config)\n",
    "sample = dataset[9]\n",
    "speaker_feat, listener_feat,_ = sample[\"features\"]\n",
    "model = ListenerSpeakerHybridFusion_2(config=config , listener_input_dim=listener_feat.shape[1], speaker_input_dim=speaker_feat.shape[0]).to(device)\n",
    "listener_feat.shape,speaker_feat.shape"
   ]
  },
  {
   "cell_type": "markdown",
   "id": "4e452b3f",
   "metadata": {},
   "source": [
    "# Experiment 5: no validation"
   ]
  },
  {
   "cell_type": "code",
   "execution_count": null,
   "id": "5286259c",
   "metadata": {},
   "outputs": [],
   "source": [
    "epochs = 20\n",
    "\n",
    "criterion = torch.nn.MSELoss()\n",
    "optimizer = torch.optim.Adam(model.parameters(), lr=1e-3)\n",
    "\n",
    "\n",
    "for epoch in range(epochs):\n",
    "    model.train()\n",
    "    total_loss = 0\n",
    "    for batch in train_loader:\n",
    "        speaker_feat, listener_feat,_ = batch[\"features\"]\n",
    "        # print(speaker_feat.shape, listener_feat.shape)\n",
    "        engagement = batch[\"score\"]\n",
    "\n",
    "        speaker_feat = speaker_feat.to(device)\n",
    "        listener_feat = listener_feat.to(device)\n",
    "        engagement = engagement.to(device)\n",
    "        engagement = engagement.view(-1, 1)\n",
    " \n",
    "        optimizer.zero_grad()\n",
    "        output = model(listener_feat,speaker_feat)\n",
    "        loss = criterion(output, engagement)\n",
    "        # print(output)\n",
    "        # print(engagement)\n",
    "        loss.backward()\n",
    "        optimizer.step()\n",
    "\n",
    "        total_loss += loss.item()\n",
    "\n",
    "    print(f\"Epoch {epoch+1}/{epochs} - Loss: {total_loss / len(train_loader):.4f}\")\n",
    "    model.eval()\n",
    "    val_loss = 0\n",
    "    val_correct = 0\n",
    "    val_preds = []\n",
    "    val_targets = []\n",
    "\n",
    "    with torch.no_grad():\n",
    "        for batch in tqdm(val_loader, desc=f\"Epoch {epoch} [Val]\", leave=False):\n",
    "                speaker, listener,_ = batch[\"features\"]\n",
    "                # print(speaker_feat.shape, listener_feat.shape)\n",
    "                target = batch[\"score\"].to(device)\n",
    "                target = target.view(-1, 1)\n",
    "                speaker = speaker.to(device)\n",
    "                listener = listener.to(device)\n",
    "\n",
    "                output = model(listener,speaker )\n",
    "                loss = criterion(output, target)\n",
    "\n",
    "                val_loss += loss.item() * target.size(0)\n",
    "                val_preds.append(output.cpu())\n",
    "                val_targets.append(target.cpu())\n",
    "                # print(compute_ccc_batched(output.cpu(), target.cpu()))\n",
    "\n",
    "    val_loss /= len(val_loader.dataset)\n",
    "    val_ccc = compute_ccc_batched(\n",
    "            np.concatenate(val_preds),\n",
    "            np.concatenate(val_targets)\n",
    "            \n",
    "        )\n",
    "    val_pcc = compute_pearson_correlation_batched(\n",
    "             np.concatenate(val_preds),\n",
    "            np.concatenate(val_targets)\n",
    "           \n",
    "        )\n",
    "    val_preds = torch.cat(val_preds).numpy()\n",
    "    val_targets = torch.cat(val_targets).numpy()\n",
    "      # if epoch == 5:\n",
    "        #     print(\"Val targets and preds:\")\n",
    "        #     print(val_targets , val_preds)\n",
    "        \n",
    "    print(f\"| Val Loss: {val_loss:.4f} | Val CCC: {val_ccc:.4f} | Val PCC: {val_pcc:.4f}\")\n",
    "\n",
    "\n",
    "# listener x shape: torch.Size([32, 1024])\n",
    "# speaker y shape: torch.Size([32, 768])\n",
    "# Fused shape: torch.Size([32, 1792])\n",
    "# mlp_hidden shape: torch.Size([32, 64])\n",
    "# listener_proj_out shape: torch.Size([32, 64])\n",
    "# speaker_proj_out shape: torch.Size([32, 64])\n",
    "# listener_attn shape: torch.Size([32, 64])\n",
    "# final_rep shape: torch.Size([32, 64])\n",
    "# Logits before tanh: 0.025505496188998222, -0.016170799732208252, 0.11344294995069504\n"
   ]
  },
  {
   "cell_type": "markdown",
   "id": "52b2be89",
   "metadata": {},
   "source": [
    "# Experiment 6: cross- validation"
   ]
  },
  {
   "cell_type": "code",
   "execution_count": null,
   "id": "6c64a688",
   "metadata": {},
   "outputs": [],
   "source": [
    "from sklearn.model_selection import KFold\n",
    "from tqdm import tqdm\n",
    "from torch.utils.data import DataLoader, Subset\n",
    "\n",
    "epochs = 30\n",
    "k_folds = 5\n",
    "batch_size = 32\n",
    "learning_rate = 1e-3\n",
    "\n",
    "kfold = KFold(n_splits=k_folds, shuffle=True, random_state=42)\n",
    "\n",
    "\n",
    "criterion = torch.nn.MSELoss()\n",
    "optimizer = torch.optim.Adam(model.parameters(), lr=learning_rate)\n",
    "fold_results = {}\n",
    "\n",
    "sample = dataset[0]\n",
    "\n",
    "for fold, (train_idx, val_idx) in enumerate(kfold.split(dataset)):\n",
    "    print(f'\\n--- Fold {fold+1} / {k_folds} ---')\n",
    "\n",
    "    # Create data loaders for this fold\n",
    "    train_subset = Subset(dataset, train_idx)\n",
    "    val_subset = Subset(dataset, val_idx)\n",
    "\n",
    "    train_loader = DataLoader(train_subset, batch_size=batch_size, shuffle=True)\n",
    "    val_loader = DataLoader(val_subset, batch_size=batch_size, shuffle=False)\n",
    "\n",
    "    # model = model(config).to(device)\n",
    "    speaker, listener ,_= sample[\"features\"]\n",
    "    # print(\"Listener feature shape: \", listener_feat.shape)\n",
    "    # print(\"Speaker feature shape: \", speaker_feat.shape)\n",
    "    model = ListenerSpeakerHybridFusion_2(config=config , listener_input_dim=listener.shape[1], speaker_input_dim=speaker.shape[0]).to(device)\n",
    "\n",
    "    for epoch in range(epochs):\n",
    "        model.train()\n",
    "        total_loss = 0\n",
    "\n",
    "        for batch in train_loader:\n",
    "            speaker_feat, listener_feat, _ = batch[\"features\"]\n",
    "            engagement = batch[\"score\"]\n",
    "\n",
    "            speaker_feat = speaker_feat.to(device)\n",
    "            listener_feat = listener_feat.to(device)\n",
    "            engagement = engagement.to(device)\n",
    "            engagement = engagement.view(-1, 1)\n",
    "\n",
    "            optimizer.zero_grad()\n",
    "            # print(\"before model\", listener_feat.shape , speaker_feat.shape)\n",
    "            output = model(listener_feat, speaker_feat)\n",
    "            loss = criterion(output, engagement)\n",
    "            loss.backward()\n",
    "            optimizer.step()\n",
    "\n",
    "            total_loss += loss.item()\n",
    "\n",
    "        avg_train_loss = total_loss / len(train_loader)\n",
    "        print(f\"Epoch {epoch+1}/{epochs} - Train Loss: {avg_train_loss:.4f}\")\n",
    "\n",
    "        # Validation\n",
    "        model.eval()\n",
    "        val_loss = 0\n",
    "        val_preds = []\n",
    "        val_targets = []\n",
    "\n",
    "        with torch.no_grad():\n",
    "            for batch in tqdm(val_loader, desc=f\"Epoch {epoch+1} [Val]\", leave=False):\n",
    "                speaker, listener, _ = batch[\"features\"]\n",
    "                target = batch[\"score\"].to(device)\n",
    "                target = target.view(-1, 1)\n",
    "                speaker = speaker.to(device)\n",
    "                listener = listener.to(device)\n",
    "\n",
    "                output = model(listener, speaker)\n",
    "                loss = criterion(output, target)\n",
    "\n",
    "                val_loss += loss.item() * target.size(0)\n",
    "                val_preds.append(output.cpu())\n",
    "                val_targets.append(target.cpu())\n",
    "\n",
    "        val_loss /= len(val_loader.dataset)\n",
    "\n",
    "        val_preds_np = torch.cat(val_preds).numpy()\n",
    "        val_targets_np = torch.cat(val_targets).numpy()\n",
    "\n",
    "        val_ccc = compute_ccc_batched(val_preds_np, val_targets_np)\n",
    "        val_pcc = compute_pearson_correlation_batched(val_preds_np, val_targets_np)\n",
    "        val_r2 = compute_r2_score_batched(val_targets_np, val_preds_np)\n",
    "\n",
    "        print(f\"| Val Loss: {val_loss:.4f} | Val CCC: {val_ccc:.4f} | Val PCC: {val_pcc:.4f} | Val R2: {val_r2:.4f} |\")\n",
    "\n",
    "    # Save the result for this fold\n",
    "    fold_results[fold] = {\n",
    "        'val_loss': val_loss,\n",
    "        'val_ccc': val_ccc,\n",
    "        'val_pcc': val_pcc,\n",
    "        'val_r2': val_r2\n",
    "    }\n",
    "\n",
    "# After K-Folds\n",
    "print(\"\\n--- K-Fold Cross Validation Results ---\")\n",
    "for fold in fold_results:\n",
    "    print(f\"Fold {fold+1} | Val Loss: {fold_results[fold]['val_loss']:.4f} | CCC: {fold_results[fold]['val_ccc']:.4f} | PCC: {fold_results[fold]['val_pcc']:.4f} | R2: {fold_results[fold]['val_r2']:.4f}\")\n"
   ]
  },
  {
   "cell_type": "code",
   "execution_count": null,
   "id": "53ce1d02",
   "metadata": {},
   "outputs": [
    {
     "name": "stdout",
     "output_type": "stream",
     "text": [
      "Epoch 1/20 - Loss: 0.0567\n"
     ]
    },
    {
     "name": "stderr",
     "output_type": "stream",
     "text": [
      "                                                              \r"
     ]
    },
    {
     "name": "stdout",
     "output_type": "stream",
     "text": [
      "| Val Loss: 0.0195 | Val CCC: 0.0012 | Val PCC: 0.0148\n",
      "Epoch 2/20 - Loss: 0.0211\n"
     ]
    },
    {
     "name": "stderr",
     "output_type": "stream",
     "text": [
      "                                                              \r"
     ]
    },
    {
     "name": "stdout",
     "output_type": "stream",
     "text": [
      "| Val Loss: 0.0221 | Val CCC: 0.0027 | Val PCC: 0.0416\n",
      "Epoch 3/20 - Loss: 0.0206\n"
     ]
    },
    {
     "name": "stderr",
     "output_type": "stream",
     "text": [
      "                                                              \r"
     ]
    },
    {
     "name": "stdout",
     "output_type": "stream",
     "text": [
      "| Val Loss: 0.0207 | Val CCC: 0.0019 | Val PCC: 0.0326\n",
      "Epoch 4/20 - Loss: 0.0193\n"
     ]
    },
    {
     "name": "stderr",
     "output_type": "stream",
     "text": [
      "                                                              \r"
     ]
    },
    {
     "name": "stdout",
     "output_type": "stream",
     "text": [
      "| Val Loss: 0.0196 | Val CCC: 0.0003 | Val PCC: 0.0049\n",
      "Epoch 5/20 - Loss: 0.0197\n"
     ]
    },
    {
     "name": "stderr",
     "output_type": "stream",
     "text": [
      "                                                              \r"
     ]
    },
    {
     "name": "stdout",
     "output_type": "stream",
     "text": [
      "| Val Loss: 0.0234 | Val CCC: 0.0011 | Val PCC: 0.0269\n",
      "Epoch 6/20 - Loss: 0.0213\n"
     ]
    },
    {
     "name": "stderr",
     "output_type": "stream",
     "text": [
      "                                                              \r"
     ]
    },
    {
     "name": "stdout",
     "output_type": "stream",
     "text": [
      "| Val Loss: 0.0204 | Val CCC: 0.0011 | Val PCC: 0.0267\n",
      "Epoch 7/20 - Loss: 0.0194\n"
     ]
    },
    {
     "name": "stderr",
     "output_type": "stream",
     "text": [
      "                                                              \r"
     ]
    },
    {
     "name": "stdout",
     "output_type": "stream",
     "text": [
      "| Val Loss: 0.0208 | Val CCC: 0.0014 | Val PCC: 0.0301\n",
      "Epoch 8/20 - Loss: 0.0194\n"
     ]
    },
    {
     "name": "stderr",
     "output_type": "stream",
     "text": [
      "                                                              \r"
     ]
    },
    {
     "name": "stdout",
     "output_type": "stream",
     "text": [
      "| Val Loss: 0.0199 | Val CCC: 0.0016 | Val PCC: 0.0310\n",
      "Epoch 9/20 - Loss: 0.0198\n"
     ]
    },
    {
     "name": "stderr",
     "output_type": "stream",
     "text": [
      "                                                              \r"
     ]
    },
    {
     "name": "stdout",
     "output_type": "stream",
     "text": [
      "| Val Loss: 0.0198 | Val CCC: 0.0007 | Val PCC: 0.0139\n",
      "Epoch 10/20 - Loss: 0.0189\n"
     ]
    },
    {
     "name": "stderr",
     "output_type": "stream",
     "text": [
      "                                                              \r"
     ]
    },
    {
     "name": "stdout",
     "output_type": "stream",
     "text": [
      "| Val Loss: 0.0199 | Val CCC: 0.0013 | Val PCC: 0.0293\n",
      "Epoch 11/20 - Loss: 0.0184\n"
     ]
    },
    {
     "name": "stderr",
     "output_type": "stream",
     "text": [
      "                                                               \r"
     ]
    },
    {
     "name": "stdout",
     "output_type": "stream",
     "text": [
      "| Val Loss: 0.0196 | Val CCC: 0.0013 | Val PCC: 0.0238\n",
      "Epoch 12/20 - Loss: 0.0191\n"
     ]
    },
    {
     "name": "stderr",
     "output_type": "stream",
     "text": [
      "                                                               \r"
     ]
    },
    {
     "name": "stdout",
     "output_type": "stream",
     "text": [
      "| Val Loss: 0.0200 | Val CCC: 0.0017 | Val PCC: 0.0333\n",
      "Epoch 13/20 - Loss: 0.0198\n"
     ]
    },
    {
     "name": "stderr",
     "output_type": "stream",
     "text": [
      "                                                               \r"
     ]
    },
    {
     "name": "stdout",
     "output_type": "stream",
     "text": [
      "| Val Loss: 0.0205 | Val CCC: 0.0010 | Val PCC: 0.0220\n",
      "Epoch 14/20 - Loss: 0.0185\n"
     ]
    },
    {
     "name": "stderr",
     "output_type": "stream",
     "text": [
      "                                                               \r"
     ]
    },
    {
     "name": "stdout",
     "output_type": "stream",
     "text": [
      "| Val Loss: 0.0196 | Val CCC: 0.0015 | Val PCC: 0.0248\n",
      "Epoch 15/20 - Loss: 0.0186\n"
     ]
    },
    {
     "name": "stderr",
     "output_type": "stream",
     "text": [
      "                                                               \r"
     ]
    },
    {
     "name": "stdout",
     "output_type": "stream",
     "text": [
      "| Val Loss: 0.0222 | Val CCC: 0.0025 | Val PCC: 0.0437\n",
      "Epoch 16/20 - Loss: 0.0188\n"
     ]
    },
    {
     "name": "stderr",
     "output_type": "stream",
     "text": [
      "                                                               \r"
     ]
    },
    {
     "name": "stdout",
     "output_type": "stream",
     "text": [
      "| Val Loss: 0.0201 | Val CCC: 0.0014 | Val PCC: 0.0220\n",
      "Epoch 17/20 - Loss: 0.0183\n"
     ]
    },
    {
     "name": "stderr",
     "output_type": "stream",
     "text": [
      "                                                               \r"
     ]
    },
    {
     "name": "stdout",
     "output_type": "stream",
     "text": [
      "| Val Loss: 0.0196 | Val CCC: -0.0005 | Val PCC: -0.0064\n",
      "Epoch 18/20 - Loss: 0.0193\n"
     ]
    },
    {
     "name": "stderr",
     "output_type": "stream",
     "text": [
      "                                                               \r"
     ]
    },
    {
     "name": "stdout",
     "output_type": "stream",
     "text": [
      "| Val Loss: 0.0202 | Val CCC: 0.0011 | Val PCC: 0.0186\n",
      "Epoch 19/20 - Loss: 0.0183\n"
     ]
    },
    {
     "name": "stderr",
     "output_type": "stream",
     "text": [
      "                                                               \r"
     ]
    },
    {
     "name": "stdout",
     "output_type": "stream",
     "text": [
      "| Val Loss: 0.0208 | Val CCC: 0.0016 | Val PCC: 0.0284\n",
      "Epoch 20/20 - Loss: 0.0188\n"
     ]
    },
    {
     "name": "stderr",
     "output_type": "stream",
     "text": [
      "                                                               "
     ]
    },
    {
     "name": "stdout",
     "output_type": "stream",
     "text": [
      "| Val Loss: 0.0198 | Val CCC: 0.0024 | Val PCC: 0.0301\n"
     ]
    },
    {
     "name": "stderr",
     "output_type": "stream",
     "text": [
      "\r"
     ]
    }
   ],
   "source": [
    "# ## adaptive pooling results:\n",
    "\n",
    "# Epoch 1/20 - Loss: 0.0567\n",
    "                                                              \n",
    "# | Val Loss: 0.0195 | Val CCC: 0.0012 | Val PCC: 0.0148\n",
    "# Epoch 2/20 - Loss: 0.0211\n",
    "                                                              \n",
    "# | Val Loss: 0.0221 | Val CCC: 0.0027 | Val PCC: 0.0416\n",
    "# Epoch 3/20 - Loss: 0.0206\n",
    "                                                              \n",
    "# | Val Loss: 0.0207 | Val CCC: 0.0019 | Val PCC: 0.0326\n",
    "# Epoch 4/20 - Loss: 0.0193\n",
    "                                                              \n",
    "# | Val Loss: 0.0196 | Val CCC: 0.0003 | Val PCC: 0.0049\n",
    "# Epoch 5/20 - Loss: 0.0197\n",
    "                                                              \n",
    "# | Val Loss: 0.0234 | Val CCC: 0.0011 | Val PCC: 0.0269\n",
    "# Epoch 6/20 - Loss: 0.0213\n",
    "                                                              \n",
    "# | Val Loss: 0.0204 | Val CCC: 0.0011 | Val PCC: 0.0267\n",
    "# Epoch 7/20 - Loss: 0.0194\n",
    "                                                              \n",
    "# | Val Loss: 0.0208 | Val CCC: 0.0014 | Val PCC: 0.0301\n",
    "# Epoch 8/20 - Loss: 0.0194\n",
    "                                                              \n",
    "# | Val Loss: 0.0199 | Val CCC: 0.0016 | Val PCC: 0.0310\n",
    "# Epoch 9/20 - Loss: 0.0198\n",
    "                                                              \n",
    "# | Val Loss: 0.0198 | Val CCC: 0.0007 | Val PCC: 0.0139\n",
    "# Epoch 10/20 - Loss: 0.0189\n",
    "                                                              \n",
    "# | Val Loss: 0.0199 | Val CCC: 0.0013 | Val PCC: 0.0293\n",
    "# Epoch 11/20 - Loss: 0.0184\n",
    "                                                               \n",
    "# | Val Loss: 0.0196 | Val CCC: 0.0013 | Val PCC: 0.0238\n",
    "# Epoch 12/20 - Loss: 0.0191\n",
    "                                                               \n",
    "# | Val Loss: 0.0200 | Val CCC: 0.0017 | Val PCC: 0.0333\n",
    "# Epoch 13/20 - Loss: 0.0198\n",
    "                                                               \n",
    "# | Val Loss: 0.0205 | Val CCC: 0.0010 | Val PCC: 0.0220\n",
    "# Epoch 14/20 - Loss: 0.0185\n",
    "                                                               \n",
    "# | Val Loss: 0.0196 | Val CCC: 0.0015 | Val PCC: 0.0248\n",
    "# Epoch 15/20 - Loss: 0.0186\n",
    "                                                               \n",
    "# | Val Loss: 0.0222 | Val CCC: 0.0025 | Val PCC: 0.0437\n",
    "# Epoch 16/20 - Loss: 0.0188\n",
    "                                                               \n",
    "# | Val Loss: 0.0201 | Val CCC: 0.0014 | Val PCC: 0.0220\n",
    "# Epoch 17/20 - Loss: 0.0183\n",
    "                                                               \n",
    "# | Val Loss: 0.0196 | Val CCC: -0.0005 | Val PCC: -0.0064\n",
    "# Epoch 18/20 - Loss: 0.0193\n",
    "                                                               \n",
    "# | Val Loss: 0.0202 | Val CCC: 0.0011 | Val PCC: 0.0186\n",
    "# Epoch 19/20 - Loss: 0.0183\n",
    "                                                               \n",
    "# | Val Loss: 0.0208 | Val CCC: 0.0016 | Val PCC: 0.0284\n",
    "# Epoch 20/20 - Loss: 0.0188\n",
    "#                                                                | Val Loss: 0.0198 | Val CCC: 0.0024 | Val PCC: 0.0301"
   ]
  },
  {
   "cell_type": "code",
   "execution_count": 146,
   "id": "80913a0c",
   "metadata": {},
   "outputs": [
    {
     "name": "stdout",
     "output_type": "stream",
     "text": [
      "Total trainable parameters: 37,697\n"
     ]
    }
   ],
   "source": [
    "def count_parameters(model):\n",
    "    return sum(p.numel() for p in model.parameters() if p.requires_grad)\n",
    "\n",
    "print(f\"Total trainable parameters: {count_parameters(model):,}\")\n"
   ]
  },
  {
   "cell_type": "code",
   "execution_count": null,
   "id": "109f952e",
   "metadata": {},
   "outputs": [],
   "source": []
  }
 ],
 "metadata": {
  "kernelspec": {
   "display_name": "myenv",
   "language": "python",
   "name": "python3"
  },
  "language_info": {
   "codemirror_mode": {
    "name": "ipython",
    "version": 3
   },
   "file_extension": ".py",
   "mimetype": "text/x-python",
   "name": "python",
   "nbconvert_exporter": "python",
   "pygments_lexer": "ipython3",
   "version": "3.9.21"
  }
 },
 "nbformat": 4,
 "nbformat_minor": 5
}
