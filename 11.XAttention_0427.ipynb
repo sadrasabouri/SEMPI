{
 "cells": [
  {
   "cell_type": "code",
   "execution_count": 1,
   "id": "d2a8a88f",
   "metadata": {},
   "outputs": [
    {
     "name": "stderr",
     "output_type": "stream",
     "text": [
      "d:\\software\\Anaconda\\envs\\eng_env\\lib\\site-packages\\tqdm\\auto.py:21: TqdmWarning: IProgress not found. Please update jupyter and ipywidgets. See https://ipywidgets.readthedocs.io/en/stable/user_install.html\n",
      "  from .autonotebook import tqdm as notebook_tqdm\n"
     ]
    }
   ],
   "source": [
    "import sys\n",
    "import os\n",
    "import torch\n",
    "from torch.utils.data import DataLoader, random_split\n",
    "from torch import nn, optim\n",
    "from tqdm import tqdm\n",
    "#from SEMPIDataLoader import ListenerSpeakerFeatureDataset\n",
    "from multimodal_xattention import EarlyFusion\n",
    "\n",
    "import numpy as np\n",
    "from types import SimpleNamespace\n",
    "\n",
    "import matplotlib.pyplot as plt\n",
    "from scipy.stats import pearsonr"
   ]
  },
  {
   "cell_type": "code",
   "execution_count": 2,
   "id": "3d2bdce5",
   "metadata": {},
   "outputs": [],
   "source": [
    "import os\n",
    "import pandas as pd\n",
    "import torch\n",
    "from torch.utils.data import Dataset\n",
    "\n",
    "META_DATA_COLUMNS = ['frame', 'face_id', 'timestamp', 'confidence', 'success']\n",
    "\n",
    "class ListenerSpeakerFeatureDataset(Dataset):\n",
    "    def __init__(self, csv_path, frame_length=64, root_dir=\"\", listener_video_features_size=1024, speaker_features_size=1024):\n",
    "        self.data = pd.read_csv(csv_path)\n",
    "        self.frame_length = frame_length\n",
    "        self.root_dir = root_dir\n",
    "        self.listener_video_features_size = listener_video_features_size  # Fixed size for listener video features\n",
    "        self.speaker_features_size = speaker_features_size  # Fixed size for speaker features\n",
    "\n",
    "    def __len__(self):\n",
    "        return len(self.data)\n",
    "\n",
    "    def load_audio_feature(self, path):\n",
    "        full_path = os.path.join(self.root_dir, path)\n",
    "        try:\n",
    "            tensor = torch.load(full_path)\n",
    "            #print(tensor.shape)\n",
    "            if tensor.ndim == 1:\n",
    "                tensor = tensor.unsqueeze(0)\n",
    "            return tensor if tensor.ndim == 2 else tensor\n",
    "        except Exception as e:\n",
    "            print(f\"Error loading audio feature from {full_path}:\\n{e}\")\n",
    "            raise\n",
    "\n",
    "    def load_openface_feature(self, path, exclude_cols=META_DATA_COLUMNS):\n",
    "        full_path = os.path.join(self.root_dir, path)\n",
    "        df = pd.read_csv(full_path)\n",
    "        df = df.loc[:, ~df.columns.isin(exclude_cols)]\n",
    "        return torch.tensor(df.values, dtype=torch.float32)\n",
    "\n",
    "    def load_video_feature(self, path):\n",
    "        full_path = os.path.join(self.root_dir, path)\n",
    "        try:\n",
    "            tensor = torch.load(full_path)\n",
    "            if tensor.ndim == 1:\n",
    "                tensor = tensor.unsqueeze(0)\n",
    "            return tensor.T if tensor.ndim == 2 else tensor\n",
    "        except Exception as e:\n",
    "            print(f\"Error loading video feature from {full_path}:\\n{e}\")\n",
    "            raise\n",
    "\n",
    "    def _pad_or_crop(self, feature_tensor, expected_size):\n",
    "        \"\"\" Ensure the second dimension (features) is of the expected size \"\"\"\n",
    "        _, n_features = feature_tensor.shape\n",
    "        if n_features < expected_size:\n",
    "            padding = expected_size - n_features\n",
    "            feature_tensor = torch.cat([feature_tensor, torch.zeros(feature_tensor.shape[0], padding)], dim=1)\n",
    "        elif n_features > expected_size:\n",
    "            feature_tensor = feature_tensor[:, :expected_size]\n",
    "        return feature_tensor\n",
    "\n",
    "    def _pad_or_crop_frames(self, feature_tensor):\n",
    "        \"\"\" Padding or cropping the frames dimension to match frame_length \"\"\"\n",
    "        n_frames, n_features = feature_tensor.shape\n",
    "        output = torch.zeros((self.frame_length, n_features))\n",
    "        if n_frames >= self.frame_length:\n",
    "            output[:] = feature_tensor[:self.frame_length]\n",
    "        else:\n",
    "            output[:n_frames] = feature_tensor\n",
    "        return output.T\n",
    "\n",
    "    def __getitem__(self, idx):\n",
    "        row = self.data.iloc[idx]\n",
    "\n",
    "        listener_audio = self.load_audio_feature(row[\"listener_audio_path\"])\n",
    "        #listener_video = self.load_video_feature(row[\"listener_video_path\"])\n",
    "        speaker_audio = self.load_audio_feature(row[\"speaker_audio_path\"])\n",
    "        #speaker_video = self.load_video_feature(row[\"speaker_video_path\"])\n",
    "        listener_openface = self.load_openface_feature(row[\"listener_openface_path\"])\n",
    "        speaker_openface = self.load_openface_feature(row[\"speaker_openface_path\"])\n",
    "\n",
    "        #listener_video = self._pad_or_crop(listener_video, self.listener_video_features_size)\n",
    "        #listener_video = self._pad_or_crop_frames(listener_video)\n",
    "\n",
    "        #speaker_video = self._pad_or_crop(speaker_video, self.speaker_features_size)\n",
    "        #speaker_video = self._pad_or_crop_frames(speaker_video)\n",
    "\n",
    "        listener_audio = self._pad_or_crop_frames(listener_audio)\n",
    "        listener_openface = self._pad_or_crop_frames(listener_openface)\n",
    "\n",
    "        speaker_audio = self._pad_or_crop_frames(speaker_audio)\n",
    "        speaker_openface = self._pad_or_crop_frames(speaker_openface)\n",
    "\n",
    "        #listener_feat = listener_video\n",
    "        speaker_feat = speaker_audio\n",
    "\n",
    "        #features = (speaker_feat, listener_feat, listener_openface)\n",
    "        features = (speaker_feat, listener_openface)\n",
    "        \n",
    "        engagement = torch.tensor(float(row[\"engagement\"]), dtype=torch.float32)\n",
    "        pids = torch.tensor([0, 1], dtype=torch.int64)\n",
    "\n",
    "        return {\n",
    "            \"features\": features,\n",
    "            \"score\": engagement,\n",
    "            \"pids\": pids\n",
    "        }\n"
   ]
  },
  {
   "cell_type": "code",
   "execution_count": 3,
   "id": "c1bafaeb",
   "metadata": {},
   "outputs": [],
   "source": [
    "device = torch.device(\"cuda\" if torch.cuda.is_available() else \"cpu\")\n",
    "\n",
    "dataset = ListenerSpeakerFeatureDataset(\n",
    "    csv_path=\"AudioVideo_Feature_Paths.csv\",\n",
    "    frame_length=64,\n",
    "    root_dir=\"./\",\n",
    ")\n",
    "\n",
    "train_size = int(0.8 * len(dataset))\n",
    "val_size = len(dataset) - train_size\n",
    "train_dataset, val_dataset = random_split(dataset, [train_size, val_size])\n",
    "\n",
    "train_loader = DataLoader(train_dataset, batch_size=16, shuffle=True, drop_last=True)\n",
    "val_loader = DataLoader(val_dataset, batch_size=16, shuffle=False, drop_last=False)\n"
   ]
  },
  {
   "cell_type": "code",
   "execution_count": 4,
   "id": "9dd9d4fd",
   "metadata": {},
   "outputs": [
    {
     "name": "stdout",
     "output_type": "stream",
     "text": [
      "Listener feature shape: torch.Size([329, 64])\n",
      "Speaker feature shape: torch.Size([768, 64])\n"
     ]
    }
   ],
   "source": [
    "sample = dataset[0]\n",
    "speaker_feat, listener_openface = sample[\"features\"]\n",
    "listener_dim, speaker_dim = listener_openface.shape[0], speaker_feat.shape[0]\n",
    "print(f\"Listener feature shape: {listener_openface.shape}\")\n",
    "print(f\"Speaker feature shape: {speaker_feat.shape}\")"
   ]
  },
  {
   "cell_type": "code",
   "execution_count": 5,
   "id": "5f60b471",
   "metadata": {},
   "outputs": [
    {
     "name": "stdout",
     "output_type": "stream",
     "text": [
      "Parameter extra_mlp.0.weight: dtype = torch.float32\n",
      "Parameter extra_mlp.0.bias: dtype = torch.float32\n",
      "Parameter out.fc1.weight: dtype = torch.float32\n",
      "Parameter out.fc1.bias: dtype = torch.float32\n",
      "Parameter out.fc2.weight: dtype = torch.float32\n",
      "Parameter out.fc2.bias: dtype = torch.float32\n",
      "Parameter out.fc3.weight: dtype = torch.float32\n",
      "Parameter out.fc3.bias: dtype = torch.float32\n",
      "Parameter cross_attention.in_proj_weight: dtype = torch.float32\n",
      "Parameter cross_attention.in_proj_bias: dtype = torch.float32\n",
      "Parameter cross_attention.out_proj.weight: dtype = torch.float32\n",
      "Parameter cross_attention.out_proj.bias: dtype = torch.float32\n",
      "Parameter audio_mlp.0.weight: dtype = torch.float32\n",
      "Parameter audio_mlp.0.bias: dtype = torch.float32\n",
      "Parameter fusion_mlp.0.weight: dtype = torch.float32\n",
      "Parameter fusion_mlp.0.bias: dtype = torch.float32\n",
      "EarlyFusion(\n",
      "  (extra_mlp): Sequential(\n",
      "    (0): Linear(in_features=329, out_features=128, bias=True)\n",
      "    (1): Tanh()\n",
      "  )\n",
      "  (out): Classifier(\n",
      "    (dropout): Dropout(p=0.1, inplace=False)\n",
      "    (fc1): Linear(in_features=128, out_features=128, bias=True)\n",
      "    (fc2): Linear(in_features=128, out_features=128, bias=True)\n",
      "    (fc3): Linear(in_features=128, out_features=1, bias=True)\n",
      "    (activation_fn): Tanh()\n",
      "  )\n",
      "  (cross_attention): MultiheadAttention(\n",
      "    (out_proj): NonDynamicallyQuantizableLinear(in_features=128, out_features=128, bias=True)\n",
      "  )\n",
      "  (audio_mlp): Sequential(\n",
      "    (0): Linear(in_features=768, out_features=128, bias=True)\n",
      "    (1): Tanh()\n",
      "  )\n",
      "  (fusion_mlp): Sequential(\n",
      "    (0): Linear(in_features=256, out_features=128, bias=True)\n",
      "    (1): Tanh()\n",
      "  )\n",
      ")\n"
     ]
    }
   ],
   "source": [
    "config = {\n",
    "    'ckpt_root': './pretrained',\n",
    "    'activation_fn': 'tanh',\n",
    "    'extra_dropout': 0,\n",
    "    'hidden_size': 128,\n",
    "    'dropout': 0.1,\n",
    "    'weight_decay': 0.01,\n",
    "    'expnum': 8,\n",
    "    'openfacefeat': 1,\n",
    "    'openfacefeat_extramlp': 1,\n",
    "    'openfacefeat_extramlp_dim': 128,\n",
    "    'ablation': 8,\n",
    "    'num_labels': 1\n",
    "}\n",
    "\n",
    "config = SimpleNamespace(**config)\n",
    "\n",
    "model = EarlyFusion(config=config).to(device).float()\n",
    "for name, param in model.named_parameters():\n",
    "    print(f\"Parameter {name}: dtype = {param.dtype}\")\n",
    "print(model)"
   ]
  },
  {
   "cell_type": "code",
   "execution_count": 6,
   "id": "9c17f382",
   "metadata": {},
   "outputs": [
    {
     "name": "stdout",
     "output_type": "stream",
     "text": [
      "Total number of parameters: 272769\n",
      "Number of trainable parameters: 272769\n"
     ]
    }
   ],
   "source": [
    "# Count total parameters\n",
    "total_params = sum(p.numel() for p in model.parameters())\n",
    "print(f\"Total number of parameters: {total_params}\")\n",
    "\n",
    "# Count trainable parameters\n",
    "trainable_params = sum(p.numel() for p in model.parameters() if p.requires_grad)\n",
    "print(f\"Number of trainable parameters: {trainable_params}\")"
   ]
  },
  {
   "cell_type": "code",
   "execution_count": 7,
   "id": "586755f4",
   "metadata": {},
   "outputs": [],
   "source": [
    "def compute_ccc_batched(y_pred, y_true):\n",
    "\n",
    "    y_true_np = y_true.flatten()\n",
    "    y_pred_np = y_pred.flatten()\n",
    "    mean_true = np.mean(y_true_np)\n",
    "    mean_pred = np.mean(y_pred_np)\n",
    "    std_true = np.std(y_true_np)\n",
    "    std_pred = np.std(y_pred_np)\n",
    "\n",
    "    rho, _ = pearsonr(y_true_np, y_pred_np)\n",
    "\n",
    "    # Calculate CCC\n",
    "    ccc = (2 * rho * std_true * std_pred) / (std_true**2 + std_pred**2 + (mean_true - mean_pred)**2)\n",
    "    \n",
    "    return ccc\n",
    "\n",
    "import numpy as np\n",
    "from scipy.stats import pearsonr\n",
    "\n",
    "def compute_pearson_correlation_batched(y_pred, y_true):\n",
    " \n",
    "    y_true_np = y_true.flatten()\n",
    "    y_pred_np = y_pred.flatten()\n",
    "\n",
    "    # Calculate PCC\n",
    "    rho, _ = pearsonr(y_true_np, y_pred_np)\n",
    "\n",
    "    return rho"
   ]
  },
  {
   "cell_type": "code",
   "execution_count": null,
   "id": "586f3d0f",
   "metadata": {},
   "outputs": [
    {
     "name": "stderr",
     "output_type": "stream",
     "text": [
      "d:\\software\\Anaconda\\envs\\eng_env\\lib\\site-packages\\torch\\optim\\lr_scheduler.py:28: UserWarning: The verbose parameter is deprecated. Please use get_last_lr() to access the learning rate.\n",
      "  warnings.warn(\"The verbose parameter is deprecated. Please use get_last_lr() \"\n"
     ]
    },
    {
     "data": {
      "text/plain": [
       "<Figure size 1500x500 with 0 Axes>"
      ]
     },
     "execution_count": 8,
     "metadata": {},
     "output_type": "execute_result"
    },
    {
     "data": {
      "text/plain": [
       "<Figure size 1500x500 with 0 Axes>"
      ]
     },
     "metadata": {},
     "output_type": "display_data"
    }
   ],
   "source": [
    "# Training settings\n",
    "num_epochs = 30\n",
    "learning_rate = 3e-4\n",
    "early_stop_patience = 10\n",
    "best_model_path = 'best_early_fusion_model.pth'\n",
    "\n",
    "criterion = torch.nn.MSELoss()\n",
    "optimizer = torch.optim.AdamW(model.parameters(), lr=learning_rate, weight_decay=config.weight_decay)\n",
    "scheduler = torch.optim.lr_scheduler.ReduceLROnPlateau(\n",
    "    optimizer, mode='min', factor=0.5, patience=5, verbose=True\n",
    ")\n",
    "\n",
    "# Training tracking\n",
    "best_val_loss = float('inf')\n",
    "no_improve_count = 0\n",
    "train_losses = []\n",
    "val_losses = []\n",
    "val_cccs = []\n",
    "val_pccs = []"
   ]
  },
  {
   "cell_type": "code",
   "execution_count": null,
   "id": "f5ff922b",
   "metadata": {},
   "outputs": [
    {
     "name": "stdout",
     "output_type": "stream",
     "text": [
      "Epoch 1/30\n"
     ]
    },
    {
     "name": "stderr",
     "output_type": "stream",
     "text": [
      "                                                                  \r"
     ]
    },
    {
     "name": "stdout",
     "output_type": "stream",
     "text": [
      "Training Loss: 0.0192\n"
     ]
    },
    {
     "name": "stderr",
     "output_type": "stream",
     "text": [
      "                                                              \r"
     ]
    },
    {
     "name": "stdout",
     "output_type": "stream",
     "text": [
      "Validation Loss: 0.0193, CCC: 0.0989, PCC: 0.3028\n",
      "✓ Saved new best model with validation loss: 0.0193\n",
      "Epoch 2/30\n"
     ]
    },
    {
     "name": "stderr",
     "output_type": "stream",
     "text": [
      "                                                                  \r"
     ]
    },
    {
     "name": "stdout",
     "output_type": "stream",
     "text": [
      "Training Loss: 0.0175\n"
     ]
    },
    {
     "name": "stderr",
     "output_type": "stream",
     "text": [
      "                                                              \r"
     ]
    },
    {
     "name": "stdout",
     "output_type": "stream",
     "text": [
      "Validation Loss: 0.0168, CCC: 0.1950, PCC: 0.3416\n",
      "✓ Saved new best model with validation loss: 0.0168\n",
      "Epoch 3/30\n"
     ]
    },
    {
     "name": "stderr",
     "output_type": "stream",
     "text": [
      "                                                                  \r"
     ]
    },
    {
     "name": "stdout",
     "output_type": "stream",
     "text": [
      "Training Loss: 0.0167\n"
     ]
    },
    {
     "name": "stderr",
     "output_type": "stream",
     "text": [
      "                                                              \r"
     ]
    },
    {
     "name": "stdout",
     "output_type": "stream",
     "text": [
      "Validation Loss: 0.0160, CCC: 0.2482, PCC: 0.3948\n",
      "✓ Saved new best model with validation loss: 0.0160\n",
      "Epoch 4/30\n"
     ]
    },
    {
     "name": "stderr",
     "output_type": "stream",
     "text": [
      "                                                                  \r"
     ]
    },
    {
     "name": "stdout",
     "output_type": "stream",
     "text": [
      "Training Loss: 0.0159\n"
     ]
    },
    {
     "name": "stderr",
     "output_type": "stream",
     "text": [
      "                                                              \r"
     ]
    },
    {
     "name": "stdout",
     "output_type": "stream",
     "text": [
      "Validation Loss: 0.0161, CCC: 0.2458, PCC: 0.3934\n",
      "Epoch 5/30\n"
     ]
    },
    {
     "name": "stderr",
     "output_type": "stream",
     "text": [
      "                                                                  \r"
     ]
    },
    {
     "name": "stdout",
     "output_type": "stream",
     "text": [
      "Training Loss: 0.0149\n"
     ]
    },
    {
     "name": "stderr",
     "output_type": "stream",
     "text": [
      "                                                              \r"
     ]
    },
    {
     "name": "stdout",
     "output_type": "stream",
     "text": [
      "Validation Loss: 0.0158, CCC: 0.2861, PCC: 0.4103\n",
      "✓ Saved new best model with validation loss: 0.0158\n",
      "Epoch 6/30\n"
     ]
    },
    {
     "name": "stderr",
     "output_type": "stream",
     "text": [
      "                                                                  \r"
     ]
    },
    {
     "name": "stdout",
     "output_type": "stream",
     "text": [
      "Training Loss: 0.0152\n"
     ]
    },
    {
     "name": "stderr",
     "output_type": "stream",
     "text": [
      "                                                              \r"
     ]
    },
    {
     "name": "stdout",
     "output_type": "stream",
     "text": [
      "Validation Loss: 0.0161, CCC: 0.3371, PCC: 0.4150\n",
      "Epoch 7/30\n"
     ]
    },
    {
     "name": "stderr",
     "output_type": "stream",
     "text": [
      "                                                                  \r"
     ]
    },
    {
     "name": "stdout",
     "output_type": "stream",
     "text": [
      "Training Loss: 0.0148\n"
     ]
    },
    {
     "name": "stderr",
     "output_type": "stream",
     "text": [
      "                                                              \r"
     ]
    },
    {
     "name": "stdout",
     "output_type": "stream",
     "text": [
      "Validation Loss: 0.0160, CCC: 0.2704, PCC: 0.3812\n",
      "Epoch 8/30\n"
     ]
    },
    {
     "name": "stderr",
     "output_type": "stream",
     "text": [
      "                                                                  \r"
     ]
    },
    {
     "name": "stdout",
     "output_type": "stream",
     "text": [
      "Training Loss: 0.0148\n"
     ]
    },
    {
     "name": "stderr",
     "output_type": "stream",
     "text": [
      "                                                              \r"
     ]
    },
    {
     "name": "stdout",
     "output_type": "stream",
     "text": [
      "Validation Loss: 0.0157, CCC: 0.2930, PCC: 0.4113\n",
      "✓ Saved new best model with validation loss: 0.0157\n",
      "Epoch 9/30\n"
     ]
    },
    {
     "name": "stderr",
     "output_type": "stream",
     "text": [
      "                                                                  \r"
     ]
    },
    {
     "name": "stdout",
     "output_type": "stream",
     "text": [
      "Training Loss: 0.0149\n"
     ]
    },
    {
     "name": "stderr",
     "output_type": "stream",
     "text": [
      "                                                              \r"
     ]
    },
    {
     "name": "stdout",
     "output_type": "stream",
     "text": [
      "Validation Loss: 0.0160, CCC: 0.2646, PCC: 0.3940\n",
      "Epoch 10/30\n"
     ]
    },
    {
     "name": "stderr",
     "output_type": "stream",
     "text": [
      "                                                                   \r"
     ]
    },
    {
     "name": "stdout",
     "output_type": "stream",
     "text": [
      "Training Loss: 0.0143\n"
     ]
    },
    {
     "name": "stderr",
     "output_type": "stream",
     "text": [
      "                                                               \r"
     ]
    },
    {
     "name": "stdout",
     "output_type": "stream",
     "text": [
      "Validation Loss: 0.0154, CCC: 0.2951, PCC: 0.4229\n",
      "✓ Saved new best model with validation loss: 0.0154\n",
      "Epoch 11/30\n"
     ]
    },
    {
     "name": "stderr",
     "output_type": "stream",
     "text": [
      "                                                                   \r"
     ]
    },
    {
     "name": "stdout",
     "output_type": "stream",
     "text": [
      "Training Loss: 0.0139\n"
     ]
    },
    {
     "name": "stderr",
     "output_type": "stream",
     "text": [
      "                                                               \r"
     ]
    },
    {
     "name": "stdout",
     "output_type": "stream",
     "text": [
      "Validation Loss: 0.0151, CCC: 0.3195, PCC: 0.4549\n",
      "✓ Saved new best model with validation loss: 0.0151\n",
      "Epoch 12/30\n"
     ]
    },
    {
     "name": "stderr",
     "output_type": "stream",
     "text": [
      "                                                                   \r"
     ]
    },
    {
     "name": "stdout",
     "output_type": "stream",
     "text": [
      "Training Loss: 0.0136\n"
     ]
    },
    {
     "name": "stderr",
     "output_type": "stream",
     "text": [
      "                                                               \r"
     ]
    },
    {
     "name": "stdout",
     "output_type": "stream",
     "text": [
      "Validation Loss: 0.0152, CCC: 0.2900, PCC: 0.4346\n",
      "Epoch 13/30\n"
     ]
    },
    {
     "name": "stderr",
     "output_type": "stream",
     "text": [
      "                                                                   \r"
     ]
    },
    {
     "name": "stdout",
     "output_type": "stream",
     "text": [
      "Training Loss: 0.0135\n"
     ]
    },
    {
     "name": "stderr",
     "output_type": "stream",
     "text": [
      "                                                               \r"
     ]
    },
    {
     "name": "stdout",
     "output_type": "stream",
     "text": [
      "Validation Loss: 0.0158, CCC: 0.3497, PCC: 0.4458\n",
      "Epoch 14/30\n"
     ]
    },
    {
     "name": "stderr",
     "output_type": "stream",
     "text": [
      "                                                                   \r"
     ]
    },
    {
     "name": "stdout",
     "output_type": "stream",
     "text": [
      "Training Loss: 0.0134\n"
     ]
    },
    {
     "name": "stderr",
     "output_type": "stream",
     "text": [
      "                                                               \r"
     ]
    },
    {
     "name": "stdout",
     "output_type": "stream",
     "text": [
      "Validation Loss: 0.0150, CCC: 0.3523, PCC: 0.4435\n",
      "✓ Saved new best model with validation loss: 0.0150\n",
      "Epoch 15/30\n"
     ]
    },
    {
     "name": "stderr",
     "output_type": "stream",
     "text": [
      "                                                                   \r"
     ]
    },
    {
     "name": "stdout",
     "output_type": "stream",
     "text": [
      "Training Loss: 0.0137\n"
     ]
    },
    {
     "name": "stderr",
     "output_type": "stream",
     "text": [
      "                                                               \r"
     ]
    },
    {
     "name": "stdout",
     "output_type": "stream",
     "text": [
      "Validation Loss: 0.0155, CCC: 0.3652, PCC: 0.4284\n",
      "Epoch 16/30\n"
     ]
    },
    {
     "name": "stderr",
     "output_type": "stream",
     "text": [
      "                                                                   \r"
     ]
    },
    {
     "name": "stdout",
     "output_type": "stream",
     "text": [
      "Training Loss: 0.0135\n"
     ]
    },
    {
     "name": "stderr",
     "output_type": "stream",
     "text": [
      "                                                               \r"
     ]
    },
    {
     "name": "stdout",
     "output_type": "stream",
     "text": [
      "Validation Loss: 0.0178, CCC: 0.2781, PCC: 0.4449\n",
      "Epoch 17/30\n"
     ]
    },
    {
     "name": "stderr",
     "output_type": "stream",
     "text": [
      "                                                                   \r"
     ]
    },
    {
     "name": "stdout",
     "output_type": "stream",
     "text": [
      "Training Loss: 0.0137\n"
     ]
    },
    {
     "name": "stderr",
     "output_type": "stream",
     "text": [
      "                                                               \r"
     ]
    },
    {
     "name": "stdout",
     "output_type": "stream",
     "text": [
      "Validation Loss: 0.0154, CCC: 0.3412, PCC: 0.4494\n",
      "Epoch 18/30\n"
     ]
    },
    {
     "name": "stderr",
     "output_type": "stream",
     "text": [
      "                                                                   \r"
     ]
    },
    {
     "name": "stdout",
     "output_type": "stream",
     "text": [
      "Training Loss: 0.0130\n"
     ]
    },
    {
     "name": "stderr",
     "output_type": "stream",
     "text": [
      "                                                               \r"
     ]
    },
    {
     "name": "stdout",
     "output_type": "stream",
     "text": [
      "Validation Loss: 0.0154, CCC: 0.3426, PCC: 0.4511\n",
      "Epoch 19/30\n"
     ]
    },
    {
     "name": "stderr",
     "output_type": "stream",
     "text": [
      "                                                                   \r"
     ]
    },
    {
     "name": "stdout",
     "output_type": "stream",
     "text": [
      "Training Loss: 0.0133\n"
     ]
    },
    {
     "name": "stderr",
     "output_type": "stream",
     "text": [
      "                                                               \r"
     ]
    },
    {
     "name": "stdout",
     "output_type": "stream",
     "text": [
      "Validation Loss: 0.0158, CCC: 0.3914, PCC: 0.4451\n",
      "Epoch 20/30\n"
     ]
    },
    {
     "name": "stderr",
     "output_type": "stream",
     "text": [
      "                                                                   \r"
     ]
    },
    {
     "name": "stdout",
     "output_type": "stream",
     "text": [
      "Training Loss: 0.0126\n"
     ]
    },
    {
     "name": "stderr",
     "output_type": "stream",
     "text": [
      "                                                               \r"
     ]
    },
    {
     "name": "stdout",
     "output_type": "stream",
     "text": [
      "Validation Loss: 0.0150, CCC: 0.3917, PCC: 0.4556\n",
      "✓ Saved new best model with validation loss: 0.0150\n",
      "Epoch 21/30\n"
     ]
    },
    {
     "name": "stderr",
     "output_type": "stream",
     "text": [
      "                                                                   \r"
     ]
    },
    {
     "name": "stdout",
     "output_type": "stream",
     "text": [
      "Training Loss: 0.0128\n"
     ]
    },
    {
     "name": "stderr",
     "output_type": "stream",
     "text": [
      "                                                               \r"
     ]
    },
    {
     "name": "stdout",
     "output_type": "stream",
     "text": [
      "Validation Loss: 0.0163, CCC: 0.3953, PCC: 0.4367\n",
      "Epoch 22/30\n"
     ]
    },
    {
     "name": "stderr",
     "output_type": "stream",
     "text": [
      "                                                                   \r"
     ]
    },
    {
     "name": "stdout",
     "output_type": "stream",
     "text": [
      "Training Loss: 0.0129\n"
     ]
    },
    {
     "name": "stderr",
     "output_type": "stream",
     "text": [
      "                                                               \r"
     ]
    },
    {
     "name": "stdout",
     "output_type": "stream",
     "text": [
      "Validation Loss: 0.0153, CCC: 0.3532, PCC: 0.4479\n",
      "Epoch 23/30\n"
     ]
    },
    {
     "name": "stderr",
     "output_type": "stream",
     "text": [
      "                                                                   \r"
     ]
    },
    {
     "name": "stdout",
     "output_type": "stream",
     "text": [
      "Training Loss: 0.0125\n"
     ]
    },
    {
     "name": "stderr",
     "output_type": "stream",
     "text": [
      "                                                               \r"
     ]
    },
    {
     "name": "stdout",
     "output_type": "stream",
     "text": [
      "Validation Loss: 0.0154, CCC: 0.3896, PCC: 0.4475\n",
      "Epoch 24/30\n"
     ]
    },
    {
     "name": "stderr",
     "output_type": "stream",
     "text": [
      "                                                                   \r"
     ]
    },
    {
     "name": "stdout",
     "output_type": "stream",
     "text": [
      "Training Loss: 0.0129\n"
     ]
    },
    {
     "name": "stderr",
     "output_type": "stream",
     "text": [
      "                                                               \r"
     ]
    },
    {
     "name": "stdout",
     "output_type": "stream",
     "text": [
      "Validation Loss: 0.0152, CCC: 0.3908, PCC: 0.4577\n",
      "Epoch 25/30\n"
     ]
    },
    {
     "name": "stderr",
     "output_type": "stream",
     "text": [
      "                                                                   \r"
     ]
    },
    {
     "name": "stdout",
     "output_type": "stream",
     "text": [
      "Training Loss: 0.0122\n"
     ]
    },
    {
     "name": "stderr",
     "output_type": "stream",
     "text": [
      "                                                               \r"
     ]
    },
    {
     "name": "stdout",
     "output_type": "stream",
     "text": [
      "Validation Loss: 0.0164, CCC: 0.3788, PCC: 0.4562\n",
      "Epoch 26/30\n"
     ]
    },
    {
     "name": "stderr",
     "output_type": "stream",
     "text": [
      "                                                                   \r"
     ]
    },
    {
     "name": "stdout",
     "output_type": "stream",
     "text": [
      "Training Loss: 0.0126\n"
     ]
    },
    {
     "name": "stderr",
     "output_type": "stream",
     "text": [
      "                                                               \r"
     ]
    },
    {
     "name": "stdout",
     "output_type": "stream",
     "text": [
      "Validation Loss: 0.0164, CCC: 0.4128, PCC: 0.4393\n",
      "Epoch 27/30\n"
     ]
    },
    {
     "name": "stderr",
     "output_type": "stream",
     "text": [
      "                                                                   \r"
     ]
    },
    {
     "name": "stdout",
     "output_type": "stream",
     "text": [
      "Training Loss: 0.0120\n"
     ]
    },
    {
     "name": "stderr",
     "output_type": "stream",
     "text": [
      "                                                               \r"
     ]
    },
    {
     "name": "stdout",
     "output_type": "stream",
     "text": [
      "Validation Loss: 0.0157, CCC: 0.4080, PCC: 0.4475\n",
      "Epoch 28/30\n"
     ]
    },
    {
     "name": "stderr",
     "output_type": "stream",
     "text": [
      "                                                                   \r"
     ]
    },
    {
     "name": "stdout",
     "output_type": "stream",
     "text": [
      "Training Loss: 0.0117\n"
     ]
    },
    {
     "name": "stderr",
     "output_type": "stream",
     "text": [
      "                                                               \r"
     ]
    },
    {
     "name": "stdout",
     "output_type": "stream",
     "text": [
      "Validation Loss: 0.0157, CCC: 0.4219, PCC: 0.4569\n",
      "Epoch 29/30\n"
     ]
    },
    {
     "name": "stderr",
     "output_type": "stream",
     "text": [
      "                                                                   \r"
     ]
    },
    {
     "name": "stdout",
     "output_type": "stream",
     "text": [
      "Training Loss: 0.0114\n"
     ]
    },
    {
     "name": "stderr",
     "output_type": "stream",
     "text": [
      "                                                               \r"
     ]
    },
    {
     "name": "stdout",
     "output_type": "stream",
     "text": [
      "Validation Loss: 0.0155, CCC: 0.4148, PCC: 0.4548\n",
      "Epoch 30/30\n"
     ]
    },
    {
     "name": "stderr",
     "output_type": "stream",
     "text": [
      "                                                                   \r"
     ]
    },
    {
     "name": "stdout",
     "output_type": "stream",
     "text": [
      "Training Loss: 0.0118\n"
     ]
    },
    {
     "name": "stderr",
     "output_type": "stream",
     "text": [
      "                                                               "
     ]
    },
    {
     "name": "stdout",
     "output_type": "stream",
     "text": [
      "Validation Loss: 0.0150, CCC: 0.3789, PCC: 0.4522\n",
      "✓ Saved new best model with validation loss: 0.0150\n"
     ]
    },
    {
     "name": "stderr",
     "output_type": "stream",
     "text": [
      "\r"
     ]
    }
   ],
   "source": [
    "try:\n",
    "    for epoch in range(num_epochs):\n",
    "        print(f\"Epoch {epoch+1}/{num_epochs}\")\n",
    "        \n",
    "        # Training:\n",
    "        model.train()\n",
    "        total_train_loss = 0\n",
    "        \n",
    "        for batch in tqdm(train_loader, desc=f\"Epoch {epoch+1} [Train]\", leave=False):\n",
    "\n",
    "            speaker_feat, listener_feat = batch[\"features\"]\n",
    "            engagement = batch[\"score\"]\n",
    "            \n",
    "            speaker_feat = speaker_feat.to(device).float()\n",
    "            listener_feat = listener_feat.to(device).float()\n",
    "            engagement = engagement.to(device)\n",
    "            engagement = engagement.view(-1, 1)\n",
    "            optimizer.zero_grad()\n",
    "            \n",
    "            # Create a list of listener features with transposed dimensions\n",
    "            listener_feat_list = []\n",
    "            for i in range(listener_feat.size(0)):\n",
    "                listener_feat_list.append(listener_feat[i].transpose(0, 1))\n",
    "            \n",
    "            output = model(audio_paths=speaker_feat, openfacefeat_=listener_feat_list)\n",
    "            loss = criterion(output, engagement)\n",
    "            loss.backward()\n",
    "            optimizer.step()\n",
    "            total_train_loss += loss.item()\n",
    "        \n",
    "        # Calculate average training loss\n",
    "        avg_train_loss = total_train_loss / len(train_loader)\n",
    "        train_losses.append(avg_train_loss)\n",
    "        print(f\"Training Loss: {avg_train_loss:.4f}\")\n",
    "        \n",
    "        # Validation:\n",
    "        model.eval()\n",
    "        val_loss = 0\n",
    "        val_preds = []\n",
    "        val_targets = []\n",
    "        \n",
    "        with torch.no_grad():\n",
    "            for batch in tqdm(val_loader, desc=f\"Epoch {epoch+1} [Val]\", leave=False):\n",
    "\n",
    "                speaker_feat, listener_feat = batch[\"features\"]\n",
    "                engagement = batch[\"score\"]\n",
    "                \n",
    "                speaker_feat = speaker_feat.to(device)\n",
    "                listener_feat = listener_feat.to(device)\n",
    "                engagement = engagement.to(device)\n",
    "                engagement = engagement.view(-1, 1)\n",
    "\n",
    "                # Create a list of listener features with transposed dimensions\n",
    "                listener_feat_list = []\n",
    "                for i in range(listener_feat.size(0)):\n",
    "                    listener_feat_list.append(listener_feat[i].transpose(0, 1))\n",
    "                \n",
    "                output = model(audio_paths=speaker_feat, openfacefeat_=listener_feat_list)\n",
    "                loss = criterion(output, engagement)\n",
    "                val_loss += loss.item() * engagement.size(0)\n",
    "                \n",
    "                # Store predictions and targets for metrics\n",
    "                val_preds.append(output.cpu())\n",
    "                val_targets.append(engagement.cpu())\n",
    "        \n",
    "        # Calculate average validation loss\n",
    "        avg_val_loss = val_loss / len(val_loader.dataset)\n",
    "        val_losses.append(avg_val_loss)\n",
    "        \n",
    "        # Calculate metrics\n",
    "        val_preds_combined = torch.cat(val_preds).numpy()\n",
    "        val_targets_combined = torch.cat(val_targets).numpy()\n",
    "        \n",
    "        val_ccc = compute_ccc_batched(val_preds_combined, val_targets_combined)\n",
    "        val_pcc = compute_pearson_correlation_batched(val_preds_combined, val_targets_combined)\n",
    "        \n",
    "        val_cccs.append(val_ccc)\n",
    "        val_pccs.append(val_pcc)\n",
    "        \n",
    "        print(f\"Validation Loss: {avg_val_loss:.4f}, CCC: {val_ccc:.4f}, PCC: {val_pcc:.4f}\")\n",
    "        \n",
    "        # Update learning rate\n",
    "        scheduler.step(avg_val_loss)\n",
    "        \n",
    "        # Check if this is the best model\n",
    "        if avg_val_loss < best_val_loss:\n",
    "            best_val_loss = avg_val_loss\n",
    "            # Save model\n",
    "            torch.save({\n",
    "                'epoch': epoch,\n",
    "                'model_state_dict': model.state_dict(),\n",
    "                'optimizer_state_dict': optimizer.state_dict(),\n",
    "                'val_loss': avg_val_loss,\n",
    "                'val_ccc': val_ccc,\n",
    "                'val_pcc': val_pcc,\n",
    "                'config': config,\n",
    "            }, best_model_path)\n",
    "            print(f\"✓ Saved new best model with validation loss: {avg_val_loss:.4f}\")\n",
    "\n",
    "except KeyboardInterrupt:\n",
    "    print(\"Training interrupted by user\")"
   ]
  },
  {
   "cell_type": "code",
   "execution_count": 10,
   "id": "3ec09c98",
   "metadata": {},
   "outputs": [
    {
     "data": {
      "image/png": "[encoded data removed]",
      "text/plain": [
       "<Figure size 1500x500 with 3 Axes>"
      ]
     },
     "metadata": {},
     "output_type": "display_data"
    }
   ],
   "source": [
    "# Final visualization\n",
    "plt.figure(figsize=(15, 5))\n",
    "\n",
    "# Plot 1: Loss curves\n",
    "plt.subplot(1, 3, 1)\n",
    "plt.plot(train_losses, label='Train Loss')\n",
    "plt.plot(val_losses, label='Validation Loss')\n",
    "plt.xlabel('Epoch')\n",
    "plt.ylabel('Loss')\n",
    "plt.legend()\n",
    "plt.title('Loss Curves')\n",
    "\n",
    "# Plot 2: CCC curve\n",
    "plt.subplot(1, 3, 2)\n",
    "plt.plot(val_cccs, label='Validation CCC', color='green')\n",
    "plt.xlabel('Epoch')\n",
    "plt.ylabel('CCC')\n",
    "plt.legend()\n",
    "plt.title('Concordance Correlation Coefficient')\n",
    "\n",
    "# Plot 3: PCC curve\n",
    "plt.subplot(1, 3, 3)\n",
    "plt.plot(val_pccs, label='Validation PCC', color='purple')\n",
    "plt.xlabel('Epoch')\n",
    "plt.ylabel('PCC')\n",
    "plt.legend()\n",
    "plt.title('Pearson Correlation Coefficient')\n",
    "\n",
    "plt.tight_layout()\n",
    "plt.savefig('final_training_metrics.png')\n",
    "plt.show()"
   ]
  },
  {
   "cell_type": "code",
   "execution_count": 11,
   "id": "453aa1f2",
   "metadata": {},
   "outputs": [
    {
     "name": "stdout",
     "output_type": "stream",
     "text": [
      "Loaded best model from epoch 30 with:\n",
      "- Validation Loss: 0.0150\n",
      "- Validation CCC: 0.3789\n",
      "- Validation PCC: 0.4522\n",
      "Running final evaluation on validation set...\n"
     ]
    },
    {
     "name": "stderr",
     "output_type": "stream",
     "text": [
      "                                                           \r"
     ]
    },
    {
     "name": "stdout",
     "output_type": "stream",
     "text": [
      "\n",
      "Final Evaluation Metrics:\n",
      "- MSE: 0.0150\n",
      "- RMSE: 0.1224\n",
      "- CCC: 0.3789\n",
      "- PCC: 0.4522\n"
     ]
    },
    {
     "data": {
      "image/png": "[encoded data removed]",
      "text/plain": [
       "<Figure size 1000x600 with 1 Axes>"
      ]
     },
     "metadata": {},
     "output_type": "display_data"
    }
   ],
   "source": [
    "# Load the best model for evaluation\n",
    "if os.path.exists(best_model_path):\n",
    "    checkpoint = torch.load(best_model_path)\n",
    "    model.load_state_dict(checkpoint['model_state_dict'])\n",
    "    print(f\"Loaded best model from epoch {checkpoint['epoch']+1} with:\")\n",
    "    print(f\"- Validation Loss: {checkpoint['val_loss']:.4f}\")\n",
    "    print(f\"- Validation CCC: {checkpoint['val_ccc']:.4f}\")\n",
    "    print(f\"- Validation PCC: {checkpoint['val_pcc']:.4f}\")\n",
    "\n",
    "# Evaluation on validation set\n",
    "def evaluate_model(model, dataloader, device):\n",
    "    model.eval()\n",
    "    all_preds = []\n",
    "    all_targets = []\n",
    "    \n",
    "    with torch.no_grad():\n",
    "        for batch in tqdm(dataloader, desc=\"Evaluating\", leave=False):\n",
    "            speaker_feat, listener_feat = batch[\"features\"]\n",
    "            engagement = batch[\"score\"]\n",
    "            \n",
    "            speaker_feat = speaker_feat.to(device)\n",
    "            listener_feat = listener_feat.to(device)\n",
    "            engagement = engagement.to(device)\n",
    "            engagement = engagement.view(-1, 1)\n",
    "            \n",
    "            listener_feat_list = []\n",
    "            for i in range(listener_feat.size(0)):\n",
    "                listener_feat_list.append(listener_feat[i].transpose(0, 1))\n",
    "                \n",
    "            output = model(audio_paths=speaker_feat, openfacefeat_=listener_feat_list)\n",
    "            \n",
    "            all_preds.append(output.cpu().numpy())\n",
    "            all_targets.append(engagement.cpu().numpy())\n",
    "    \n",
    "    all_preds = np.concatenate(all_preds)\n",
    "    all_targets = np.concatenate(all_targets)\n",
    "    \n",
    "    # Calculate metrics\n",
    "    mse = np.mean((all_targets - all_preds) ** 2)\n",
    "    rmse = np.sqrt(mse)\n",
    "    ccc = compute_ccc_batched(all_preds, all_targets)\n",
    "    pcc = compute_pearson_correlation_batched(all_preds, all_targets)\n",
    "    \n",
    "    return {\n",
    "        'mse': mse,\n",
    "        'rmse': rmse,\n",
    "        'ccc': ccc,\n",
    "        'pcc': pcc,\n",
    "        'predictions': all_preds,\n",
    "        'targets': all_targets\n",
    "    }\n",
    "\n",
    "# Run final evaluation\n",
    "print(\"Running final evaluation on validation set...\")\n",
    "eval_results = evaluate_model(model, val_loader, device)\n",
    "\n",
    "print(\"\\nFinal Evaluation Metrics:\")\n",
    "print(f\"- MSE: {eval_results['mse']:.4f}\")\n",
    "print(f\"- RMSE: {eval_results['rmse']:.4f}\")\n",
    "print(f\"- CCC: {eval_results['ccc']:.4f}\")\n",
    "print(f\"- PCC: {eval_results['pcc']:.4f}\")\n",
    "\n",
    "# Plot predictions vs targets for a sample\n",
    "plt.figure(figsize=(10, 6))\n",
    "sample_size = min(100, len(eval_results['predictions']))\n",
    "indices = np.random.choice(len(eval_results['predictions']), sample_size, replace=False)\n",
    "\n",
    "plt.scatter(eval_results['targets'][indices], eval_results['predictions'][indices], alpha=0.5)\n",
    "plt.plot([min(eval_results['targets']), max(eval_results['targets'])], \n",
    "         [min(eval_results['targets']), max(eval_results['targets'])], 'r--')\n",
    "plt.xlabel('True Values')\n",
    "plt.ylabel('Predicted Values')\n",
    "plt.title('Predicted vs True Values')\n",
    "plt.grid(True)\n",
    "plt.savefig('prediction_scatter.png')\n",
    "plt.show()"
   ]
  },
  {
   "cell_type": "code",
   "execution_count": null,
   "id": "ae2168a2",
   "metadata": {},
   "outputs": [],
   "source": []
  },
  {
   "cell_type": "code",
   "execution_count": null,
   "id": "b911ba7d",
   "metadata": {},
   "outputs": [],
   "source": []
  },
  {
   "cell_type": "code",
   "execution_count": null,
   "id": "d407fcf5",
   "metadata": {},
   "outputs": [],
   "source": []
  }
 ],
 "metadata": {
  "kernelspec": {
   "display_name": "eng_env",
   "language": "python",
   "name": "python3"
  },
  "language_info": {
   "codemirror_mode": {
    "name": "ipython",
    "version": 3
   },
   "file_extension": ".py",
   "mimetype": "text/x-python",
   "name": "python",
   "nbconvert_exporter": "python",
   "pygments_lexer": "ipython3",
   "version": "3.9.21"
  }
 },
 "nbformat": 4,
 "nbformat_minor": 5
}
