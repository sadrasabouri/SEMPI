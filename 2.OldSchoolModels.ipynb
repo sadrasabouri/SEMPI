{
 "cells": [
  {
   "cell_type": "code",
   "execution_count": 53,
   "metadata": {},
   "outputs": [],
   "source": [
    "from SEMPIDataLoader import InterPersenSEMPIDataset, DataSetLoader, DataLoader\n",
    "from SEMPIDataLoader import create_dataloaders\n",
    "from SEMPIDataLoader import DATA_PATH\n",
    "\n",
    "import torch\n",
    "import os\n",
    "import numpy as np\n",
    "import pandas as pd\n",
    "import pickle\n",
    "\n",
    "\n",
    "import torch.nn as nn\n",
    "import torch.optim as optim\n",
    "\n",
    "import sklearn\n",
    "\n",
    "from sklearn.metrics import mean_squared_error, mean_absolute_error, r2_score\n",
    "\n",
    "\n",
    "import matplotlib.pyplot as plt"
   ]
  },
  {
   "cell_type": "code",
   "execution_count": 54,
   "metadata": {},
   "outputs": [
    {
     "name": "stdout",
     "output_type": "stream",
     "text": [
      "Installed PyTorch version: 2.5.1+cu121\n",
      "PyTorch built with CUDA: True\n",
      "PyTorch CUDA Available: True\n",
      "CUDA Version in PyTorch: 12.1\n",
      "Available GPUs: 1\n",
      "GPU Name: NVIDIA GeForce RTX 2060\n"
     ]
    }
   ],
   "source": [
    "print(\"Installed PyTorch version:\", torch.__version__)\n",
    "print(\"PyTorch built with CUDA:\", torch.backends.cudnn.is_available())  # Should return True if CUDA is enabled\n",
    "\n",
    "print(\"PyTorch CUDA Available:\", torch.cuda.is_available())  # Should return True\n",
    "print(\"CUDA Version in PyTorch:\", torch.version.cuda)  # Should return '12.8' or similar\n",
    "print(\"Available GPUs:\", torch.cuda.device_count())  # Should be >0 if GPU exists\n",
    "print(\"GPU Name:\", torch.cuda.get_device_name(0) if torch.cuda.is_available() else \"No GPU detected\")"
   ]
  },
  {
   "cell_type": "code",
   "execution_count": 55,
   "metadata": {},
   "outputs": [
    {
     "name": "stdout",
     "output_type": "stream",
     "text": [
      "382 96\n",
      "15256\n",
      "Data loaded successfully!\n",
      "Train size: 12204\n",
      "Val size: 3052\n",
      "Batch 0\n",
      "torch.Size([32, 2, 329, 64])\n",
      "tensor([[3, 7],\n",
      "        [5, 2],\n",
      "        [3, 8],\n",
      "        [4, 6],\n",
      "        [3, 5],\n",
      "        [6, 7],\n",
      "        [2, 3],\n",
      "        [3, 1],\n",
      "        [2, 1],\n",
      "        [6, 5],\n",
      "        [4, 1],\n",
      "        [2, 3],\n",
      "        [4, 1],\n",
      "        [1, 4],\n",
      "        [6, 7],\n",
      "        [1, 2],\n",
      "        [3, 2],\n",
      "        [1, 7],\n",
      "        [1, 2],\n",
      "        [6, 4],\n",
      "        [3, 1],\n",
      "        [2, 1],\n",
      "        [4, 1],\n",
      "        [1, 7],\n",
      "        [1, 3],\n",
      "        [4, 5],\n",
      "        [6, 1],\n",
      "        [4, 1],\n",
      "        [1, 2],\n",
      "        [4, 8],\n",
      "        [5, 4],\n",
      "        [4, 8]], dtype=torch.int32)\n",
      "tensor([ 3.3333e-02, -2.1667e-01,  1.6667e-01, -3.3333e-02,  1.8333e-01,\n",
      "         1.1667e-01, -5.0000e-02, -1.1667e-01, -2.7756e-17,  1.1667e-01,\n",
      "         8.3333e-02, -2.7756e-17,  3.3333e-02,  1.3333e-01, -5.0000e-02,\n",
      "         1.1667e-01, -6.6667e-02,  1.1667e-01,  0.0000e+00,  1.0000e-01,\n",
      "         5.0000e-02, -1.6667e-02,  1.0000e-01,  8.3333e-02, -5.0000e-02,\n",
      "         1.3333e-01, -2.6667e-01,  2.0000e-01, -1.0000e-01, -1.6667e-01,\n",
      "        -1.0000e-01, -1.6667e-01])\n",
      "Batch 1\n",
      "torch.Size([32, 2, 329, 64])\n",
      "tensor([[8, 7],\n",
      "        [3, 8],\n",
      "        [2, 7],\n",
      "        [2, 3],\n",
      "        [2, 5],\n",
      "        [1, 6],\n",
      "        [5, 3],\n",
      "        [3, 5],\n",
      "        [9, 7],\n",
      "        [4, 6],\n",
      "        [8, 2],\n",
      "        [4, 6],\n",
      "        [3, 7],\n",
      "        [4, 1],\n",
      "        [4, 2],\n",
      "        [4, 3],\n",
      "        [2, 3],\n",
      "        [5, 1],\n",
      "        [8, 5],\n",
      "        [5, 4],\n",
      "        [2, 3],\n",
      "        [2, 3],\n",
      "        [5, 8],\n",
      "        [1, 4],\n",
      "        [4, 1],\n",
      "        [4, 1],\n",
      "        [2, 1],\n",
      "        [4, 2],\n",
      "        [5, 4],\n",
      "        [2, 6],\n",
      "        [1, 4],\n",
      "        [1, 5]], dtype=torch.int32)\n",
      "tensor([ 2.1667e-01,  8.3333e-02, -2.0000e-01, -6.9389e-18, -2.6667e-01,\n",
      "         1.8333e-01,  1.3333e-01,  1.6667e-02, -6.6667e-02, -1.6667e-02,\n",
      "         5.0000e-02, -1.5000e-01,  1.3333e-01,  1.6667e-02,  1.6667e-02,\n",
      "         5.0000e-02,  1.6667e-01,  1.0000e-01,  8.3333e-02,  2.1667e-01,\n",
      "         1.5000e-01,  1.5000e-01, -3.3333e-02, -6.9389e-18, -8.3333e-02,\n",
      "         1.3333e-01, -2.7756e-17,  6.6667e-02, -1.6667e-01, -1.5000e-01,\n",
      "         1.6667e-02,  6.6667e-02])\n",
      "Batch 2\n"
     ]
    }
   ],
   "source": [
    "# load the dataset and dataloaders with pickle\n",
    "with open(os.path.join(DATA_PATH, 'dataset.pkl'), 'rb') as f:\n",
    "    dataset: InterPersenSEMPIDataset = pickle.load(f)\n",
    "\n",
    "train_loader, val_loader = create_dataloaders(dataset, batch_size=32)\n",
    "print(len(train_loader), len(val_loader))\n",
    "print(len(dataset))\n",
    "print(\"Data loaded successfully!\")\n",
    "print(f\"Train size: {len(train_loader.dataset)}\")\n",
    "print(f\"Val size: {len(val_loader.dataset)}\")\n",
    "\n",
    "for i, data in enumerate(train_loader):\n",
    "    print(f\"Batch {i}\")\n",
    "    if i == 2:\n",
    "        break\n",
    "    print(data['features'].shape)\n",
    "    print(data['pids'])\n",
    "    print(data['score'])\n"
   ]
  },
  {
   "cell_type": "code",
   "execution_count": 56,
   "metadata": {},
   "outputs": [],
   "source": [
    "# Function to train the model\n",
    "def train(model, num_epochs, train_loader, criterion, optimizer, scheduler):\n",
    "\n",
    "    device = torch.device(\"cuda\" if torch.cuda.is_available() else \"cpu\")\n",
    "    print(f\"Using device: {device}\")\n",
    "\n",
    "    # Enable GPU optimization if available (to speed up training)\n",
    "    if device.type == \"cuda\":\n",
    "        torch.backends.cudnn.benchmark = True \n",
    "\n",
    "    losses = []\n",
    "    for epoch in range(num_epochs):\n",
    "        model.train()\n",
    "        total_loss = 0\n",
    "    \n",
    "        for batch in train_loader:\n",
    "            features, scores = batch['features'].to(device), batch['score'].to(device)\n",
    "\n",
    "            # Forward pass\n",
    "            outputs = model(features).squeeze()\n",
    "\n",
    "            # Compute loss\n",
    "            loss = criterion(outputs, scores)\n",
    "            total_loss += loss.item()\n",
    "\n",
    "            # Backward pass\n",
    "            optimizer.zero_grad()\n",
    "            loss.backward()\n",
    "            optimizer.step()\n",
    "\n",
    "        # Adjust learning rate\n",
    "        scheduler.step()\n",
    "        losses.append(total_loss / len(train_loader))\n",
    "        print(f\"Epoch [{epoch+1}/{num_epochs}], Loss: {total_loss / len(train_loader):.4f}, LR: {scheduler.get_last_lr()[0]:.6f}\")\n",
    "\n",
    "    return losses"
   ]
  },
  {
   "cell_type": "code",
   "execution_count": 57,
   "metadata": {},
   "outputs": [],
   "source": [
    "class RNNModel(nn.Module):\n",
    "    def __init__(self, input_size, hidden_size, num_layers, output_size, dropout=0.3):\n",
    "        super(RNNModel, self).__init__()\n",
    "        self.hidden_size = hidden_size\n",
    "        self.num_layers = num_layers\n",
    "        \n",
    "        # Two separate RNNs for the two individuals\n",
    "        self.rnn1 = nn.RNN(input_size, hidden_size, num_layers, batch_first=True, nonlinearity='relu', dropout=dropout)\n",
    "        self.rnn2 = nn.RNN(input_size, hidden_size, num_layers, batch_first=True, nonlinearity='relu', dropout=dropout)\n",
    "\n",
    "        # Fully connected layer after merging outputs\n",
    "        self.fc = nn.Linear(hidden_size * 2, output_size)\n",
    "\n",
    "    def forward(self, x):\n",
    "        # Split the input into two separate individuals\n",
    "        x1, x2 = x[:, 0, :, :], x[:, 1, :, :]  # Each becomes (batch_size, 329, 64)\n",
    "\n",
    "        # Initialize hidden states\n",
    "        h0_1 = torch.zeros(self.num_layers, x1.size(0), self.hidden_size).to(x.device)\n",
    "        h0_2 = torch.zeros(self.num_layers, x2.size(0), self.hidden_size).to(x.device)\n",
    "\n",
    "        # Process both individuals separately\n",
    "        out1, _ = self.rnn1(x1, h0_1)\n",
    "        out2, _ = self.rnn2(x2, h0_2)\n",
    "\n",
    "        # Take the output from the last time step of each individual\n",
    "        out1 = out1[:, -1, :]  # Shape: (batch_size, hidden_size)\n",
    "        out2 = out2[:, -1, :]  # Shape: (batch_size, hidden_size)\n",
    "\n",
    "        # Concatenate both outputs\n",
    "        out = torch.cat((out1, out2), dim=1)  # Shape: (batch_size, hidden_size * 2)\n",
    "\n",
    "        # Fully connected layer for final prediction\n",
    "        out = self.fc(out)\n",
    "        return out"
   ]
  },
  {
   "cell_type": "code",
   "execution_count": 58,
   "metadata": {},
   "outputs": [],
   "source": [
    "def evaluate_model(model, val_loader):\n",
    "    model.eval()\n",
    "    predictions_list = []\n",
    "    actual_list = []\n",
    "\n",
    "    with torch.no_grad():\n",
    "        for batch in val_loader:\n",
    "            features, scores = batch['features'].to(device), batch['score'].to(device)\n",
    "\n",
    "            # Forward pass\n",
    "            predictions = model(features).squeeze()\n",
    "\n",
    "            predictions_list.extend(predictions.cpu().numpy())\n",
    "            actual_list.extend(scores.cpu().numpy())\n",
    "\n",
    "    # Convert to NumPy arrays for metric calculations\n",
    "    predictions_list = np.array(predictions_list)\n",
    "    actual_list = np.array(actual_list)\n",
    "\n",
    "    # Compute evaluation metrics\n",
    "    mse = mean_squared_error(actual_list, predictions_list)\n",
    "    mae = mean_absolute_error(actual_list, predictions_list)\n",
    "    r2 = r2_score(actual_list, predictions_list)\n",
    "\n",
    "    print(f\"Validation Metrics:\\n\"\n",
    "          f\"  - MSE  = {mse:.4f}\\n\"\n",
    "          f\"  - MAE  = {mae:.4f}\\n\"\n",
    "          f\"  - R²   = {r2:.4f}\")\n",
    "\n",
    "    return mse, mae, r2\n"
   ]
  },
  {
   "cell_type": "code",
   "execution_count": 59,
   "metadata": {},
   "outputs": [
    {
     "data": {
      "text/plain": [
       "RNNModel(\n",
       "  (rnn1): RNN(64, 128, num_layers=2, batch_first=True, dropout=0.3)\n",
       "  (rnn2): RNN(64, 128, num_layers=2, batch_first=True, dropout=0.3)\n",
       "  (fc): Linear(in_features=256, out_features=1, bias=True)\n",
       ")"
      ]
     },
     "execution_count": 59,
     "metadata": {},
     "output_type": "execute_result"
    }
   ],
   "source": [
    "# Model parameters\n",
    "input_size = 64       # Features per timestep\n",
    "hidden_size = 128     # Hidden units in LSTM\n",
    "num_layers = 2        # LSTM layers\n",
    "output_size = 1       # Predicting a single score\n",
    "\n",
    "\n",
    "# Epochs for training\n",
    "num_epochs = 20\n",
    "\n",
    "\n",
    "# Define loss function (Huber loss is more robust to outliers)\n",
    "criterion = nn.SmoothL1Loss()  \n",
    "\n",
    "\n",
    "# Initialize model\n",
    "rnn_model = RNNModel(input_size, hidden_size, num_layers, output_size)\n",
    "\n",
    "# Adam optimizer\n",
    "optimizer = optim.Adam(rnn_model.parameters(), lr=0.001)\n",
    "\n",
    "# Learning rate scheduler to reduce LR by half every 3 epochs\n",
    "scheduler = optim.lr_scheduler.StepLR(optimizer, step_size=3, gamma=0.5)\n",
    "\n",
    "device = torch.device(\"cuda\" if torch.cuda.is_available() else \"cpu\")\n",
    "rnn_model.to(device)\n"
   ]
  },
  {
   "cell_type": "code",
   "execution_count": 60,
   "metadata": {},
   "outputs": [
    {
     "name": "stdout",
     "output_type": "stream",
     "text": [
      "Using device: cuda\n",
      "Epoch [1/20], Loss: 0.0097, LR: 0.001000\n",
      "Epoch [2/20], Loss: 0.0088, LR: 0.001000\n",
      "Epoch [3/20], Loss: 0.0074, LR: 0.000500\n",
      "Epoch [4/20], Loss: 0.0055, LR: 0.000500\n",
      "Epoch [5/20], Loss: 0.0044, LR: 0.000500\n",
      "Epoch [6/20], Loss: 0.0036, LR: 0.000250\n",
      "Epoch [7/20], Loss: 0.0027, LR: 0.000250\n",
      "Epoch [8/20], Loss: 0.0025, LR: 0.000250\n",
      "Epoch [9/20], Loss: 0.0022, LR: 0.000125\n",
      "Epoch [10/20], Loss: 0.0019, LR: 0.000125\n",
      "Epoch [11/20], Loss: 0.0017, LR: 0.000125\n",
      "Epoch [12/20], Loss: 0.0016, LR: 0.000063\n",
      "Epoch [13/20], Loss: 0.0015, LR: 0.000063\n",
      "Epoch [14/20], Loss: 0.0014, LR: 0.000063\n",
      "Epoch [15/20], Loss: 0.0014, LR: 0.000031\n",
      "Epoch [16/20], Loss: 0.0013, LR: 0.000031\n",
      "Epoch [17/20], Loss: 0.0013, LR: 0.000031\n",
      "Epoch [18/20], Loss: 0.0013, LR: 0.000016\n",
      "Epoch [19/20], Loss: 0.0012, LR: 0.000016\n",
      "Epoch [20/20], Loss: 0.0012, LR: 0.000016\n"
     ]
    }
   ],
   "source": [
    "# Train RNN\n",
    "rnn_losses = train(rnn_model, num_epochs, train_loader, criterion, optimizer, scheduler)"
   ]
  },
  {
   "cell_type": "code",
   "execution_count": 73,
   "metadata": {},
   "outputs": [
    {
     "name": "stdout",
     "output_type": "stream",
     "text": [
      "Evaluating RNN...\n",
      "Validation Metrics:\n",
      "  - MSE  = 0.0048\n",
      "  - MAE  = 0.0460\n",
      "  - R²   = 0.7630\n"
     ]
    }
   ],
   "source": [
    "print(\"Evaluating RNN...\")\n",
    "rnn_res = evaluate_model(rnn_model, val_loader)"
   ]
  },
  {
   "cell_type": "code",
   "execution_count": null,
   "metadata": {},
   "outputs": [],
   "source": []
  },
  {
   "cell_type": "code",
   "execution_count": 62,
   "metadata": {},
   "outputs": [],
   "source": [
    "class LSTMModel(nn.Module):\n",
    "    def __init__(self, input_size, hidden_size, num_layers, output_size, dropout=0.3):\n",
    "        super(LSTMModel, self).__init__()\n",
    "        self.hidden_size = hidden_size\n",
    "        self.num_layers = num_layers\n",
    "\n",
    "        # Two separate LSTMs for each individual\n",
    "        self.lstm1 = nn.LSTM(input_size, hidden_size, num_layers, batch_first=True, dropout=dropout)\n",
    "        self.lstm2 = nn.LSTM(input_size, hidden_size, num_layers, batch_first=True, dropout=dropout)\n",
    "\n",
    "        # Fully connected layer after merging outputs\n",
    "        self.fc = nn.Linear(hidden_size * 2, output_size)\n",
    "\n",
    "    def forward(self, x):\n",
    "        # Split the input into two separate individuals\n",
    "        x1, x2 = x[:, 0, :, :], x[:, 1, :, :]  # Each becomes (batch_size, 329, 64)\n",
    "\n",
    "        # Initialize hidden and cell states\n",
    "        h0_1 = torch.zeros(self.num_layers, x1.size(0), self.hidden_size).to(x.device)\n",
    "        c0_1 = torch.zeros(self.num_layers, x1.size(0), self.hidden_size).to(x.device)\n",
    "\n",
    "        h0_2 = torch.zeros(self.num_layers, x2.size(0), self.hidden_size).to(x.device)\n",
    "        c0_2 = torch.zeros(self.num_layers, x2.size(0), self.hidden_size).to(x.device)\n",
    "\n",
    "        # Process both individuals separately\n",
    "        out1, _ = self.lstm1(x1, (h0_1, c0_1))\n",
    "        out2, _ = self.lstm2(x2, (h0_2, c0_2))\n",
    "\n",
    "        # Take the output from the last time step of each individual\n",
    "        out1 = out1[:, -1, :]  # Shape: (batch_size, hidden_size)\n",
    "        out2 = out2[:, -1, :]  # Shape: (batch_size, hidden_size)\n",
    "\n",
    "        # Concatenate both outputs\n",
    "        out = torch.cat((out1, out2), dim=1)  # Shape: (batch_size, hidden_size * 2)\n",
    "\n",
    "        # Fully connected layer for final prediction\n",
    "        out = self.fc(out)\n",
    "        return out\n",
    "\n"
   ]
  },
  {
   "cell_type": "code",
   "execution_count": 63,
   "metadata": {},
   "outputs": [
    {
     "data": {
      "text/plain": [
       "LSTMModel(\n",
       "  (lstm1): LSTM(64, 128, num_layers=2, batch_first=True, dropout=0.3)\n",
       "  (lstm2): LSTM(64, 128, num_layers=2, batch_first=True, dropout=0.3)\n",
       "  (fc): Linear(in_features=256, out_features=1, bias=True)\n",
       ")"
      ]
     },
     "execution_count": 63,
     "metadata": {},
     "output_type": "execute_result"
    }
   ],
   "source": [
    "# Model parameters\n",
    "input_size = 64       # Features per timestep\n",
    "hidden_size = 128     # Hidden units in LSTM\n",
    "num_layers = 2        # LSTM layers\n",
    "output_size = 1       # Predicting a single score\n",
    "\n",
    "\n",
    "# Initialize model\n",
    "lstm_model = LSTMModel(input_size, hidden_size, num_layers, output_size)\n",
    "\n",
    "# Define loss function (Huber loss is more robust to outliers)\n",
    "criterion = nn.SmoothL1Loss()  \n",
    "\n",
    "# Adam optimizer\n",
    "optimizer = optim.Adam(lstm_model.parameters(), lr=0.001)\n",
    "\n",
    "# Learning rate scheduler to reduce LR by half every 3 epochs\n",
    "scheduler = optim.lr_scheduler.StepLR(optimizer, step_size=3, gamma=0.5)\n",
    "\n",
    "\n",
    "device = torch.device(\"cuda\" if torch.cuda.is_available() else \"cpu\")\n",
    "lstm_model.to(device)"
   ]
  },
  {
   "cell_type": "code",
   "execution_count": 64,
   "metadata": {},
   "outputs": [
    {
     "name": "stdout",
     "output_type": "stream",
     "text": [
      "Using device: cuda\n",
      "Epoch [1/20], Loss: 0.0095, LR: 0.001000\n",
      "Epoch [2/20], Loss: 0.0091, LR: 0.001000\n",
      "Epoch [3/20], Loss: 0.0085, LR: 0.000500\n",
      "Epoch [4/20], Loss: 0.0074, LR: 0.000500\n",
      "Epoch [5/20], Loss: 0.0066, LR: 0.000500\n",
      "Epoch [6/20], Loss: 0.0059, LR: 0.000250\n",
      "Epoch [7/20], Loss: 0.0050, LR: 0.000250\n",
      "Epoch [8/20], Loss: 0.0045, LR: 0.000250\n",
      "Epoch [9/20], Loss: 0.0041, LR: 0.000125\n",
      "Epoch [10/20], Loss: 0.0037, LR: 0.000125\n",
      "Epoch [11/20], Loss: 0.0034, LR: 0.000125\n",
      "Epoch [12/20], Loss: 0.0032, LR: 0.000063\n",
      "Epoch [13/20], Loss: 0.0030, LR: 0.000063\n",
      "Epoch [14/20], Loss: 0.0029, LR: 0.000063\n",
      "Epoch [15/20], Loss: 0.0028, LR: 0.000031\n",
      "Epoch [16/20], Loss: 0.0027, LR: 0.000031\n",
      "Epoch [17/20], Loss: 0.0027, LR: 0.000031\n",
      "Epoch [18/20], Loss: 0.0026, LR: 0.000016\n",
      "Epoch [19/20], Loss: 0.0026, LR: 0.000016\n",
      "Epoch [20/20], Loss: 0.0025, LR: 0.000016\n"
     ]
    }
   ],
   "source": [
    "lstm_losses = train(lstm_model, num_epochs, train_loader, criterion, optimizer, scheduler)"
   ]
  },
  {
   "cell_type": "code",
   "execution_count": 72,
   "metadata": {},
   "outputs": [
    {
     "name": "stdout",
     "output_type": "stream",
     "text": [
      "\n",
      "Evaluating LSTM...\n",
      "Validation Metrics:\n",
      "  - MSE  = 0.0077\n",
      "  - MAE  = 0.0650\n",
      "  - R²   = 0.6161\n"
     ]
    }
   ],
   "source": [
    "print(\"\\nEvaluating LSTM...\")\n",
    "lstm_res = evaluate_model(lstm_model, val_loader)"
   ]
  },
  {
   "cell_type": "code",
   "execution_count": null,
   "metadata": {},
   "outputs": [],
   "source": []
  },
  {
   "cell_type": "code",
   "execution_count": 66,
   "metadata": {},
   "outputs": [],
   "source": [
    "class GRUModel(nn.Module):\n",
    "    def __init__(self, input_size, hidden_size, num_layers, output_size, dropout=0.3):\n",
    "        super(GRUModel, self).__init__()\n",
    "        self.hidden_size = hidden_size\n",
    "        self.num_layers = num_layers\n",
    "        \n",
    "        # Two separate GRUs for each individual\n",
    "        self.gru1 = nn.GRU(input_size, hidden_size, num_layers, batch_first=True, dropout=dropout)\n",
    "        self.gru2 = nn.GRU(input_size, hidden_size, num_layers, batch_first=True, dropout=dropout)\n",
    "\n",
    "        # Fully connected layer after merging outputs\n",
    "        self.fc = nn.Linear(hidden_size * 2, output_size)\n",
    "\n",
    "    def forward(self, x):\n",
    "        # Split the input into two separate individuals\n",
    "        x1, x2 = x[:, 0, :, :], x[:, 1, :, :]  # Each becomes (batch_size, 329, 64)\n",
    "\n",
    "        # Initialize hidden states\n",
    "        h0_1 = torch.zeros(self.num_layers, x1.size(0), self.hidden_size).to(x.device)\n",
    "        h0_2 = torch.zeros(self.num_layers, x2.size(0), self.hidden_size).to(x.device)\n",
    "\n",
    "        # Process both individuals separately\n",
    "        out1, _ = self.gru1(x1, h0_1)\n",
    "        out2, _ = self.gru2(x2, h0_2)\n",
    "\n",
    "        # Take the output from the last time step of each individual\n",
    "        out1 = out1[:, -1, :]  # Shape: (batch_size, hidden_size)\n",
    "        out2 = out2[:, -1, :]  # Shape: (batch_size, hidden_size)\n",
    "\n",
    "        # Concatenate both outputs\n",
    "        out = torch.cat((out1, out2), dim=1)  # Shape: (batch_size, hidden_size * 2)\n",
    "\n",
    "        # Fully connected layer for final prediction\n",
    "        out = self.fc(out)\n",
    "        return out\n"
   ]
  },
  {
   "cell_type": "code",
   "execution_count": 67,
   "metadata": {},
   "outputs": [
    {
     "data": {
      "text/plain": [
       "GRUModel(\n",
       "  (gru1): GRU(64, 128, num_layers=2, batch_first=True, dropout=0.3)\n",
       "  (gru2): GRU(64, 128, num_layers=2, batch_first=True, dropout=0.3)\n",
       "  (fc): Linear(in_features=256, out_features=1, bias=True)\n",
       ")"
      ]
     },
     "execution_count": 67,
     "metadata": {},
     "output_type": "execute_result"
    }
   ],
   "source": [
    "# Initialize the GRU model\n",
    "hidden_size = 128  \n",
    "num_layers = 2  \n",
    "output_size = 1  \n",
    "gru_model = GRUModel(input_size=64, hidden_size=hidden_size, num_layers=num_layers, output_size=output_size).to(device)\n",
    "\n",
    "# Define optimizer, loss, and scheduler\n",
    "optimizer = torch.optim.Adam(gru_model.parameters(), lr=0.001)\n",
    "criterion = nn.SmoothL1Loss()  # Huber loss\n",
    "scheduler = torch.optim.lr_scheduler.StepLR(optimizer, step_size=3, gamma=0.5)\n",
    "\n",
    "device = torch.device(\"cuda\" if torch.cuda.is_available() else \"cpu\")\n",
    "gru_model.to(device)"
   ]
  },
  {
   "cell_type": "code",
   "execution_count": 68,
   "metadata": {},
   "outputs": [
    {
     "name": "stdout",
     "output_type": "stream",
     "text": [
      "Using device: cuda\n",
      "Epoch [1/20], Loss: 0.0098, LR: 0.001000\n",
      "Epoch [2/20], Loss: 0.0091, LR: 0.001000\n",
      "Epoch [3/20], Loss: 0.0086, LR: 0.000500\n",
      "Epoch [4/20], Loss: 0.0074, LR: 0.000500\n",
      "Epoch [5/20], Loss: 0.0066, LR: 0.000500\n",
      "Epoch [6/20], Loss: 0.0059, LR: 0.000250\n",
      "Epoch [7/20], Loss: 0.0050, LR: 0.000250\n",
      "Epoch [8/20], Loss: 0.0046, LR: 0.000250\n",
      "Epoch [9/20], Loss: 0.0042, LR: 0.000125\n",
      "Epoch [10/20], Loss: 0.0037, LR: 0.000125\n",
      "Epoch [11/20], Loss: 0.0035, LR: 0.000125\n",
      "Epoch [12/20], Loss: 0.0033, LR: 0.000063\n",
      "Epoch [13/20], Loss: 0.0030, LR: 0.000063\n",
      "Epoch [14/20], Loss: 0.0029, LR: 0.000063\n",
      "Epoch [15/20], Loss: 0.0028, LR: 0.000031\n",
      "Epoch [16/20], Loss: 0.0027, LR: 0.000031\n",
      "Epoch [17/20], Loss: 0.0027, LR: 0.000031\n",
      "Epoch [18/20], Loss: 0.0026, LR: 0.000016\n",
      "Epoch [19/20], Loss: 0.0025, LR: 0.000016\n",
      "Epoch [20/20], Loss: 0.0025, LR: 0.000016\n"
     ]
    }
   ],
   "source": [
    "gru_losses = train(gru_model, num_epochs, train_loader, criterion, optimizer, scheduler)"
   ]
  },
  {
   "cell_type": "code",
   "execution_count": 71,
   "metadata": {},
   "outputs": [
    {
     "name": "stdout",
     "output_type": "stream",
     "text": [
      "Evaluating GRU Model...\n",
      "Validation Metrics:\n",
      "  - MSE  = 0.0078\n",
      "  - MAE  = 0.0647\n",
      "  - R²   = 0.6153\n"
     ]
    }
   ],
   "source": [
    "print(\"Evaluating GRU Model...\")\n",
    "gru_res = evaluate_model(gru_model, val_loader)"
   ]
  },
  {
   "cell_type": "code",
   "execution_count": 70,
   "metadata": {},
   "outputs": [
    {
     "data": {
      "image/png": "[encoded data removed]",
      "text/plain": [
       "<Figure size 800x500 with 1 Axes>"
      ]
     },
     "metadata": {},
     "output_type": "display_data"
    }
   ],
   "source": [
    "# Plot training loss\n",
    "plt.figure(figsize=(8, 5))\n",
    "\n",
    "plt.plot(range(1, num_epochs + 1), rnn_losses, marker='o', linestyle='-', color='blue', label=\"RNN Loss\")\n",
    "plt.plot(range(1, num_epochs + 1), lstm_losses, marker='s', linestyle='-', color='green', label=\"LSTM Loss\")\n",
    "plt.plot(range(1, num_epochs + 1), gru_losses, marker='^', linestyle='-', color='red', label=\"GRU Loss\")\n",
    "\n",
    "plt.xlabel(\"Epochs\")\n",
    "plt.ylabel(\"Loss\")\n",
    "plt.title(\"Training Loss Comparison (RNN vs LSTM vs GRU)\")\n",
    "plt.legend()\n",
    "plt.grid()\n",
    "plt.show()"
   ]
  },
  {
   "cell_type": "code",
   "execution_count": 81,
   "metadata": {},
   "outputs": [
    {
     "data": {
      "image/png": "[encoded data removed]",
      "text/plain": [
       "<Figure size 1000x600 with 1 Axes>"
      ]
     },
     "metadata": {},
     "output_type": "display_data"
    }
   ],
   "source": [
    "# Bar graphs for MSE, MAE, R2\n",
    "metrics = [\"MSE\", \"MAE\", \"R²\"]\n",
    "models = [\"RNN\", \"LSTM\", \"GRU\"]\n",
    "\n",
    "\n",
    "values = np.array([rnn_res, lstm_res, gru_res])\n",
    "\n",
    "ar_width = 0.2\n",
    "x = np.arange(len(metrics))\n",
    "\n",
    "fig, axis = plt.subplots(figsize=(10, 6))\n",
    "\n",
    "\n",
    "for i, model in enumerate(models):\n",
    "    bars = axis.bar(x + i * bar_width - bar_width, values[i], width=bar_width, label=model, alpha=0.85)\n",
    "\n",
    "    for bar in bars:\n",
    "        height = bar.get_height()\n",
    "        axis.text(bar.get_x() + bar.get_width() / 2, height, f'{height:.4f}', ha='center', va='bottom', fontsize=10)\n",
    "\n",
    "axis.set_xticks(x)\n",
    "axis.set_xticklabels(metrics, fontsize=12)\n",
    "axis.set_ylabel(\"Score\", fontsize=12)\n",
    "axis.set_title(\"Model Performance Comparison (MSE, MAE, R²)\", fontsize=14)\n",
    "axis.legend(title=\"Models\", fontsize=11)\n",
    "axis.grid(axis=\"y\", linestyle=\"--\", alpha=0.7)\n",
    "\n",
    "# Show the updated plot\n",
    "plt.show()"
   ]
  },
  {
   "cell_type": "code",
   "execution_count": null,
   "metadata": {},
   "outputs": [],
   "source": []
  }
 ],
 "metadata": {
  "kernelspec": {
   "display_name": "Python 3 (ipykernel)",
   "language": "python",
   "name": "python3"
  },
  "language_info": {
   "codemirror_mode": {
    "name": "ipython",
    "version": 3
   },
   "file_extension": ".py",
   "mimetype": "text/x-python",
   "name": "python",
   "nbconvert_exporter": "python",
   "pygments_lexer": "ipython3",
   "version": "3.12.9"
  }
 },
 "nbformat": 4,
 "nbformat_minor": 4
}
